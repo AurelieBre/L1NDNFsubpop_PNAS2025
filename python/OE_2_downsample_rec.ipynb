{
 "cells": [
  {
   "cell_type": "markdown",
   "metadata": {},
   "source": [
    "# Downsample OpenEphys data\n",
    "\n",
    "Import packages"
   ]
  },
  {
   "cell_type": "code",
   "execution_count": null,
   "metadata": {},
   "outputs": [],
   "source": [
    "import quantities as pq\n",
    "import numpy as np\n",
    "from pathlib import Path\n",
    "import xarray as xr\n",
    "import pandas as pd\n",
    "import matplotlib.pyplot as plt\n",
    "from matplotlib.widgets import Slider, Button, Cursor\n",
    "from scipy import signal\n",
    "import os\n",
    "from IPython.display import display\n",
    "from ipyfilechooser import FileChooser\n",
    "import json \n",
    "%matplotlib widget"
   ]
  },
  {
   "cell_type": "markdown",
   "metadata": {},
   "source": [
    "Choose recording"
   ]
  },
  {
   "cell_type": "code",
   "execution_count": null,
   "metadata": {},
   "outputs": [],
   "source": [
    "try: # tries to retrieve dpath either from a previous run or from a previous notebook\n",
    "    %store -r dpath\n",
    "    #dpath=Path(dpath).parent\n",
    "except:\n",
    "    print(\"the path was not defined in store\")\n",
    "    #dpath = \"/Users/mb/Documents/Syntuitio/AudreyHay/PlanB/ExampleRedLines/2022_08_06/13_30_01/My_V4_Miniscope/\"\n",
    "    dpath = \"//10.69.168.1/crnldata/forgetting/Aurelie/\"\n",
    "\n",
    "\n",
    "fc1 = FileChooser(dpath,select_default=True, show_only_dirs = True, title = \"<b>Go inside the folder containing the LFP raw file</b>\")\n",
    "display(fc1)\n",
    "\n",
    "# Sample callback function\n",
    "def update_my_folder(chooser):\n",
    "    global dpath\n",
    "    dpath = chooser.selected\n",
    "    %store dpath\n",
    "    return \n",
    "\n",
    "# Register callback function\n",
    "fc1.register_callback(update_my_folder)"
   ]
  },
  {
   "cell_type": "markdown",
   "metadata": {},
   "source": [
    "Load recordings"
   ]
  },
  {
   "cell_type": "code",
   "execution_count": null,
   "metadata": {},
   "outputs": [],
   "source": [
    "folder_base = Path(dpath) \n",
    "file=Path(f'{folder_base}\\continuous.dat')\n",
    "file2 = Path(f'{folder_base}\\RawDataChannelExtractedDS.npy')\n",
    "\n",
    "if file.exists():\n",
    "    print('.dat file')\n",
    "    DataRec = np.fromfile(file, dtype=\"int16\")\n",
    "    filepath = Path(os.path.join(folder_base.parent.parent, f'structure.oebin'))\n",
    "    if filepath.exists():    \n",
    "        with open(filepath) as f:\n",
    "            metadata = json.load(f)\n",
    "        samplerate=metadata['continuous'][0]['sample_rate']  \n",
    "        numchannel=metadata['continuous'][0]['num_channels']  \n",
    "    else:\n",
    "        samplerate=1000 \n",
    "        numchannel=32\n",
    "    All = DataRec.reshape(-1,numchannel)\n",
    "\n",
    "elif file2.exists():\n",
    "    print('.npy file')\n",
    "    file = file2\n",
    "    All = np.load(file, mmap_mode= 'r')\n",
    "    samplerate=1000 \n",
    "    numchannel=All.shape[1]\n",
    "\n",
    "print('sample rate =', samplerate, 'Hz')\n",
    "print(numchannel, 'channels recorded')\n",
    "print(round(All.shape[0]/samplerate/60), 'min of recording')"
   ]
  },
  {
   "cell_type": "markdown",
   "metadata": {},
   "source": [
    "Downsample signals to 1 kz & save\n"
   ]
  },
  {
   "cell_type": "code",
   "execution_count": null,
   "metadata": {},
   "outputs": [],
   "source": [
    "datalen = np.shape(All)[0]\n",
    "new_sampling_rate = 1000 # Hz\n",
    "Nmber_points = int(datalen * new_sampling_rate / samplerate)\n",
    "AllDS=signal.resample(All, Nmber_points, axis = 0)\n",
    "samplerate=new_sampling_rate\n",
    "np.save(f'{folder_base}/continuousDS.npy', AllDS)"
   ]
  }
 ],
 "metadata": {
  "kernelspec": {
   "display_name": "minian",
   "language": "python",
   "name": "python3"
  },
  "language_info": {
   "codemirror_mode": {
    "name": "ipython",
    "version": 3
   },
   "file_extension": ".py",
   "mimetype": "text/x-python",
   "name": "python",
   "nbconvert_exporter": "python",
   "pygments_lexer": "ipython3",
   "version": "3.11.7"
  },
  "orig_nbformat": 4
 },
 "nbformat": 4,
 "nbformat_minor": 2
}
