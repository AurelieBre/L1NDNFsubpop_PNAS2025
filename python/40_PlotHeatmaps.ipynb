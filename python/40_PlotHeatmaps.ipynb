{
 "cells": [
  {
   "cell_type": "code",
   "execution_count": null,
   "metadata": {},
   "outputs": [],
   "source": [
    "import pandas as pd\n",
    "import seaborn as sns\n",
    "import matplotlib.pyplot as plt"
   ]
  },
  {
   "cell_type": "code",
   "execution_count": null,
   "metadata": {},
   "outputs": [],
   "source": [
    "dfwake = pd.read_excel('//10.69.168.1/crnldata/waking/audrey_hay/L1imaging/AnalysedMarch2023/Gaelle/AB_GlobalAnalysis/AVG_VigSt_2024-08-22_10_49_35_AB_noN2/Baseline/All/L1_VigSt_PairCorrCa_All.xlsx', sheet_name='Baseline_Wake', index_col=0)\n",
    "dfrem = pd.read_excel('//10.69.168.1/crnldata/waking/audrey_hay/L1imaging/AnalysedMarch2023/Gaelle/AB_GlobalAnalysis/AVG_VigSt_2024-08-22_10_49_35_AB_noN2/Baseline/All/L1_VigSt_PairCorrCa_All.xlsx', sheet_name='Baseline_REM', index_col=0)\n",
    "dfnrem = pd.read_excel('//10.69.168.1/crnldata/waking/audrey_hay/L1imaging/AnalysedMarch2023/Gaelle/AB_GlobalAnalysis/AVG_VigSt_2024-08-22_10_49_35_AB_noN2/Baseline/All/L1_VigSt_PairCorrCa_All.xlsx', sheet_name='Baseline_NREM', index_col=0)"
   ]
  },
  {
   "cell_type": "code",
   "execution_count": null,
   "metadata": {},
   "outputs": [],
   "source": [
    "dfwakeL23 = pd.read_excel('//10.69.168.1/crnldata/waking/audrey_hay/L1imaging/AnalysedMarch2023/Gaelle/AB_GlobalAnalysis/AVG_VigSt_2024-08-22_10_49_35_AB_noN2/Baseline/All/L2&3_VigSt_PairCorrCa_All.xlsx', sheet_name='Baseline_Wake', index_col=0)\n",
    "dfremL23 = pd.read_excel('//10.69.168.1/crnldata/waking/audrey_hay/L1imaging/AnalysedMarch2023/Gaelle/AB_GlobalAnalysis/AVG_VigSt_2024-08-22_10_49_35_AB_noN2/Baseline/All/L2&3_VigSt_PairCorrCa_All.xlsx', sheet_name='Baseline_REM', index_col=0)\n",
    "dfnremL23 = pd.read_excel('//10.69.168.1/crnldata/waking/audrey_hay/L1imaging/AnalysedMarch2023/Gaelle/AB_GlobalAnalysis/AVG_VigSt_2024-08-22_10_49_35_AB_noN2/Baseline/All/L2&3_VigSt_PairCorrCa_All.xlsx', sheet_name='Baseline_NREM', index_col=0)"
   ]
  },
  {
   "cell_type": "code",
   "execution_count": null,
   "metadata": {},
   "outputs": [],
   "source": [
    "fig, axes = plt.subplots(1, 3, figsize=(8, 3), gridspec_kw={'width_ratios': [1, 1, 1.25]})\n",
    "axes[0].add_patch(plt.Rectangle((0, 0), dfwakeL23.shape[1], dfwakeL23.shape[0], color='black', alpha=.2))  # Add color for NaN cells\n",
    "heatmap1=sns.heatmap(dfwake,center=0,ax=axes[0],cmap=\"bwr\",  xticklabels=False,yticklabels=False,vmin=-1, vmax=1)\n",
    "axes[0].set_title('Wake', fontsize=16, fontweight='bold', fontfamily='Arial')\n",
    "axes[1].add_patch(plt.Rectangle((0, 0), dfnremL23.shape[1], dfwakeL23.shape[0], color='black', alpha=.2))  # Add color for NaN cells\n",
    "heatmap2=sns.heatmap(dfnrem,center=0, ax=axes[1],cmap=\"bwr\", xticklabels=False, yticklabels=False, vmin=-1, vmax=1)\n",
    "axes[1].set_title('NREM', fontsize=16, fontweight='bold', fontfamily='Arial')\n",
    "axes[2].add_patch(plt.Rectangle((0, 0), dfremL23.shape[1], dfwakeL23.shape[0], color='black', alpha=.2))  # Add color for NaN cells\n",
    "heatmap3=sns.heatmap(dfrem,center=0, ax=axes[2],cmap=\"bwr\", xticklabels=False, yticklabels=False, vmin=-1, vmax=1)\n",
    "axes[2].set_title('REM', fontsize=16, fontweight='bold', fontfamily='Arial')\n",
    "cbar1 = heatmap3.collections[0].colorbar  # Access colorbar\n",
    "cbar1.ax.tick_params(labelsize=8) \n",
    "\n",
    "# Hide colorbars for the first two heatmaps\n",
    "for ax in axes[:2]:\n",
    "    ax.collections[0].colorbar.remove()\n",
    "\n",
    "# Adjust layout\n",
    "plt.tight_layout()"
   ]
  },
  {
   "cell_type": "code",
   "execution_count": null,
   "metadata": {},
   "outputs": [],
   "source": [
    "fig, axes = plt.subplots(1, 3, figsize=(8, 3), gridspec_kw={'width_ratios': [1, 1, 1.25]})\n",
    "axes[0].add_patch(plt.Rectangle((0, 0), dfwakeL23.shape[1], dfwakeL23.shape[0], color='black', alpha=.2))  # Add color for NaN cells\n",
    "heatmap1=sns.heatmap(dfwakeL23,center=0,ax=axes[0],cmap=\"bwr\",  xticklabels=False,yticklabels=False,vmin=-1, vmax=1)\n",
    "axes[0].set_title('Wake', fontsize=16, fontweight='bold', fontfamily='Arial')\n",
    "axes[1].add_patch(plt.Rectangle((0, 0), dfnremL23.shape[1], dfwakeL23.shape[0], color='black', alpha=.2))  # Add color for NaN cells\n",
    "heatmap2=sns.heatmap(dfnremL23,center=0, ax=axes[1],cmap=\"bwr\", xticklabels=False, yticklabels=False,vmin=-1, vmax=1)\n",
    "axes[1].set_title('NREM', fontsize=16, fontweight='bold', fontfamily='Arial')\n",
    "axes[2].add_patch(plt.Rectangle((0, 0), dfremL23.shape[1], dfwakeL23.shape[0], color='black', alpha=.2))  # Add color for NaN cells\n",
    "heatmap3=sns.heatmap(dfremL23,center=0, ax=axes[2],cmap=\"bwr\", xticklabels=False, yticklabels=False,vmin=-1, vmax=1)\n",
    "axes[2].set_title('REM', fontsize=16, fontweight='bold', fontfamily='Arial')\n",
    "cbar1 = heatmap3.collections[0].colorbar  # Access colorbar\n",
    "cbar1.ax.tick_params(labelsize=8) \n",
    "\n",
    "# Hide colorbars for the first two heatmaps\n",
    "for ax in axes[:2]:\n",
    "    ax.collections[0].colorbar.remove()\n",
    "\n",
    "# Adjust layout\n",
    "plt.tight_layout()\n",
    "\n"
   ]
  },
  {
   "cell_type": "code",
   "execution_count": null,
   "metadata": {},
   "outputs": [],
   "source": [
    "import seaborn as sns\n",
    "import matplotlib.pyplot as plt\n",
    "import numpy as np\n",
    "\n",
    "# Generate sample data\n",
    "np.random.seed(0)\n",
    "data = np.random.rand(10, 10)\n",
    "\n",
    "# Create a Seaborn heatmap\n",
    "plt.figure(figsize=(8, 6))\n",
    "ax = sns.heatmap(data, cmap='viridis')\n",
    "\n",
    "# Set title (optional)\n",
    "ax.set_title('Seaborn Heatmap Example')\n",
    "\n",
    "# Save the figure as a PNG file\n",
    "plt.savefig('seaborn_heatmap.png', format='png', dpi=300)  # High resolution\n",
    "\n",
    "# Optionally, display the plot\n",
    "plt.show()\n"
   ]
  },
  {
   "cell_type": "code",
   "execution_count": null,
   "metadata": {},
   "outputs": [],
   "source": [
    "plt.savefig('C:/Users/Manip2/Documents/ElifePaper/Rawdata/seaborn_heatmap.png', format='png', dpi=300)"
   ]
  },
  {
   "cell_type": "code",
   "execution_count": null,
   "metadata": {},
   "outputs": [],
   "source": [
    "fig.savefig('C:/Users/Manip2/Documents/ElifePaper/Rawdata/heatmap_example.eps', format='eps')"
   ]
  },
  {
   "cell_type": "code",
   "execution_count": null,
   "metadata": {},
   "outputs": [],
   "source": [
    "df= pd.read_excel('//10.69.168.1/crnldata/waking/audrey_hay/L1imaging/AnalysedMarch2023/Gaelle/AB_GlobalAnalysis/AVG_VigSt_2024-08-22_10_49_35_AB_noN2/Baseline/All/L1_VigSt_nAUC.xlsx', index_col=0)\n"
   ]
  },
  {
   "cell_type": "code",
   "execution_count": null,
   "metadata": {},
   "outputs": [],
   "source": [
    "df_dropped = df.iloc[:, :-2]"
   ]
  },
  {
   "cell_type": "code",
   "execution_count": null,
   "metadata": {},
   "outputs": [],
   "source": [
    "df_cleaned = df_dropped.dropna()"
   ]
  },
  {
   "cell_type": "code",
   "execution_count": null,
   "metadata": {},
   "outputs": [],
   "source": [
    "import numpy as np\n",
    "import pandas as pd\n",
    "import matplotlib.pyplot as plt\n",
    "from mpl_toolkits.mplot3d import Axes3D\n",
    "from sklearn.preprocessing import StandardScaler\n",
    "from sklearn.cluster import SpectralClustering\n",
    "\n",
    "\n",
    "df = df_cleaned\n",
    "# Standardize features\n",
    "scaler = StandardScaler()\n",
    "X_scaled = scaler.fit_transform(df)\n",
    "\n",
    "# Apply Spectral Clustering\n",
    "n_clusters = 2\n",
    "spectral = SpectralClustering(n_clusters=n_clusters, affinity='nearest_neighbors', random_state=42)\n",
    "df['Cluster'] = spectral.fit_predict(X_scaled)\n",
    "\n",
    "# Plot the clustered data in 3D\n",
    "fig = plt.figure(figsize=(12, 8))\n",
    "ax = fig.add_subplot(111, projection='3d')\n",
    "\n",
    "# Plot data points\n",
    "scatter = ax.scatter(df['Wake'], df['NREM'], df['REM'], \n",
    "                     c=df['Cluster'], s=50, cmap='viridis', alpha=0.6, edgecolor='k')\n",
    "\n",
    "# Plot cluster centers (approximation)\n",
    "centers = np.array([df[df['Cluster'] == i][['Wake', 'NREM', 'REM']].mean().values for i in range(n_clusters)])\n",
    "ax.scatter(centers[:, 0], centers[:, 1], centers[:, 2], \n",
    "           c='red', s=200, alpha=0.75, marker='x', label='Centroids')\n",
    "\n",
    "# Add labels and title\n",
    "ax.set_xlabel('Wake')\n",
    "ax.set_ylabel('NREM')\n",
    "ax.set_zlabel('REM')\n",
    "ax.set_title('Spectral Clustering in 3D')\n",
    "ax.legend()\n",
    "\n",
    "\n",
    "\n",
    "# Show the plot\n",
    "plt.show()\n"
   ]
  },
  {
   "cell_type": "code",
   "execution_count": null,
   "metadata": {},
   "outputs": [],
   "source": [
    "ax.view_init(30, 10)\n",
    "ax.set_xlim(0, 150)  # Example limits for x-axis\n",
    "ax.set_ylim(0, 40)  # Example limits for y-axis\n",
    "ax.set_zlim(0, 150)  # Example limits for z-axis\n",
    "fig"
   ]
  },
  {
   "cell_type": "code",
   "execution_count": null,
   "metadata": {},
   "outputs": [],
   "source": [
    "from sklearn.metrics import silhouette_score, davies_bouldin_score, calinski_harabasz_score\n",
    "labels = spectral.fit_predict(df)\n",
    "silhouette_avg = silhouette_score(df[['Wake', 'NREM', 'REM']], labels)\n",
    "print(f'Silhouette Score: {silhouette_avg:.2f}')\n",
    "#scores range from -1 to +1, with higher values indicating better-defined clusters."
   ]
  }
 ],
 "metadata": {
  "kernelspec": {
   "display_name": "minian",
   "language": "python",
   "name": "python3"
  },
  "language_info": {
   "codemirror_mode": {
    "name": "ipython",
    "version": 3
   },
   "file_extension": ".py",
   "mimetype": "text/x-python",
   "name": "python",
   "nbconvert_exporter": "python",
   "pygments_lexer": "ipython3",
   "version": "3.11.7"
  }
 },
 "nbformat": 4,
 "nbformat_minor": 2
}
