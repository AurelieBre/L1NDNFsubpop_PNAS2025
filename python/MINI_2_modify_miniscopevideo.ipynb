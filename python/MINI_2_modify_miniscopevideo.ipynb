{
 "cells": [
  {
   "cell_type": "markdown",
   "metadata": {},
   "source": [
    "Load packages"
   ]
  },
  {
   "cell_type": "code",
   "execution_count": null,
   "metadata": {},
   "outputs": [],
   "source": [
    "import cv2\n",
    "import ipywidgets as widgets\n",
    "import subprocess\n",
    "import os\n",
    "from ipyfilechooser import FileChooser\n",
    "from IPython.display import display, Video, clear_output \n",
    "import holoviews as hv\n",
    "import numpy as np\n",
    "import matplotlib.pyplot as plt\n"
   ]
  },
  {
   "cell_type": "markdown",
   "metadata": {},
   "source": [
    "Load video"
   ]
  },
  {
   "cell_type": "code",
   "execution_count": null,
   "metadata": {},
   "outputs": [],
   "source": [
    "dpath='//10.69.168.1/crnldata/forgetting/Aurelie/CheeseboardExperiment/DAQ_data/AB/Training/Blue/SleepAfter/2024_12_02/15_25_32/My_V4_Miniscope/15_25_32_3/30.avi'\n",
    "\n",
    "fc1 = FileChooser(dpath,select_default=True, show_only_dirs = False, title = \"<b>Video file</b>\")\n",
    "display(fc1)\n",
    "\n",
    "# Sample callback function\n",
    "def update_my_folder(chooser):\n",
    "    global dpath\n",
    "    dpath = chooser.selected\n",
    "    %store dpath\n",
    "    return \n",
    "\n",
    "# Register callback function\n",
    "fc1.register_callback(update_my_folder)"
   ]
  },
  {
   "cell_type": "code",
   "execution_count": null,
   "metadata": {},
   "outputs": [],
   "source": [
    "# Load the video\n",
    "video_path = dpath  # Replace with your actual file path\n",
    "cap = cv2.VideoCapture(video_path)\n",
    "\n",
    "if not cap.isOpened():\n",
    "    print(\"Error: Could not open video.\")\n",
    "    exit()\n",
    "\n",
    "# Get video properties\n",
    "frame_count = int(cap.get(cv2.CAP_PROP_FRAME_COUNT))\n",
    "height = int(cap.get(cv2.CAP_PROP_FRAME_HEIGHT))\n",
    "width = int(cap.get(cv2.CAP_PROP_FRAME_WIDTH))\n",
    "\n",
    "# Initialize accumulator\n",
    "avg_frame = np.zeros((height, width, 3), np.float32)\n",
    "\n",
    "# Read and accumulate frames\n",
    "count = 0\n",
    "while True:\n",
    "    ret, frame = cap.read()\n",
    "    if not ret:\n",
    "        break\n",
    "    avg_frame += frame.astype(np.float32)\n",
    "    count += 1\n",
    "\n",
    "cap.release()\n",
    "\n",
    "# Compute the average frame\n",
    "avg_frame /= count\n",
    "avg_frame = avg_frame.astype(np.uint8)\n"
   ]
  },
  {
   "cell_type": "markdown",
   "metadata": {},
   "source": [
    "Adjust brightness and contrast"
   ]
  },
  {
   "cell_type": "code",
   "execution_count": null,
   "metadata": {},
   "outputs": [],
   "source": [
    "# Increase contrast and brightness\n",
    "alpha = 1 # Contrast control (>1 increases contrast)\n",
    "beta = 0   # Brightness control (>0 increases brightness)\n",
    "enhanced_frame = cv2.convertScaleAbs(avg_frame, alpha=alpha, beta=beta)\n",
    "\n",
    "# Convert BGR to RGB for Matplotlib\n",
    "avg_frame_rgb = cv2.cvtColor(avg_frame, cv2.COLOR_BGR2RGB)\n",
    "enhanced_frame_rgb = cv2.cvtColor(enhanced_frame, cv2.COLOR_BGR2RGB)\n",
    "\n",
    "# Create subplots\n",
    "fig, axes = plt.subplots(1, 2, figsize=(10, 5))\n",
    "axes[0].imshow(avg_frame_rgb)\n",
    "axes[0].set_title(\"Original Average Frame\")\n",
    "axes[0].axis(\"off\")\n",
    "axes[1].imshow(enhanced_frame_rgb)\n",
    "axes[1].set_title(\"Enhanced Frame (Brightness & Contrast Adjusted)\")\n",
    "axes[1].axis(\"off\")\n",
    "plt.tight_layout()\n",
    "plt.show()\n"
   ]
  },
  {
   "cell_type": "markdown",
   "metadata": {},
   "source": [
    "Display video until the end"
   ]
  },
  {
   "cell_type": "code",
   "execution_count": null,
   "metadata": {},
   "outputs": [],
   "source": [
    "cap = cv2.VideoCapture(video_path)\n",
    "\n",
    "if not cap.isOpened():\n",
    "    print(\"Error: Could not open video.\")\n",
    "    exit()\n",
    "\n",
    "# Get video properties \n",
    "fps = 30 #cap.get(cv2.CAP_PROP_FPS)\n",
    "speed= 10 # 5 times more rapid\n",
    "alpha = 1  # Contrast factor (>1 increases contrast)\n",
    "beta = 0    # Brightness factor (>0 increases brightness)\n",
    "\n",
    "frame_height = int(cap.get(cv2.CAP_PROP_FRAME_HEIGHT))\n",
    "frame_width = int(cap.get(cv2.CAP_PROP_FRAME_WIDTH))\n",
    "\n",
    "processed_frames=[]\n",
    "\n",
    "# Play video frame by frame with modifications\n",
    "while True:\n",
    "    ret, frame = cap.read()\n",
    "    if not ret:\n",
    "        break  # Stop if the video ends\n",
    "\n",
    "    # Get the current frame number\n",
    "    frame_number = int(cap.get(cv2.CAP_PROP_POS_FRAMES))\n",
    "\n",
    "    # Calculate the time in seconds\n",
    "    time_sec = frame_number / fps\n",
    "\n",
    "    # Apply contrast and brightness adjustment\n",
    "    enhanced_frame = cv2.convertScaleAbs(frame, alpha=alpha, beta=beta)\n",
    "\n",
    "    # Define the position for the text (fixed position for frame number and time)\n",
    "    time_position = (10, frame_height - 10)    # Position for time in seconds\n",
    "    fixed_text_position= (380, frame_height - 10)    # Position for time in seconds\n",
    "\n",
    "    # Display the time in seconds\n",
    "    cv2.putText(enhanced_frame, f'{time_sec:.1f} s', time_position, cv2.FONT_HERSHEY_SIMPLEX, 1, (255, 255, 255), 1, cv2.LINE_AA)\n",
    "    cv2.putText(enhanced_frame, f'Speed : x {speed}', fixed_text_position, cv2.FONT_HERSHEY_SIMPLEX, 1, (255, 255, 255), 1, cv2.LINE_AA)\n",
    "    \n",
    "    # Show the enhanced video\n",
    "    cv2.imshow(\"Enhanced Video (Contrast & Brightness Adjusted)\", enhanced_frame)\n",
    "\n",
    "    processed_frames.append(enhanced_frame)\n",
    "\n",
    "    # Press 'q' to exit the video\n",
    "    if cv2.waitKey(round(1/fps*1000/speed)) & 0xFF == ord('q'):\n",
    "        break\n",
    "\n",
    "cap.release()\n",
    "cv2.destroyAllWindows()"
   ]
  },
  {
   "cell_type": "markdown",
   "metadata": {},
   "source": [
    "Save processed video"
   ]
  },
  {
   "cell_type": "code",
   "execution_count": null,
   "metadata": {},
   "outputs": [],
   "source": [
    "output_path = \"output_video.mp4\"  # Define the output file path\n",
    "\n",
    "# Create a VideoWriter object to save the processed video\n",
    "fourcc = cv2.VideoWriter_fourcc(*'mp4v')  # MP4 codec\n",
    "out = cv2.VideoWriter(output_path, fourcc, fps*speed, (frame_width, frame_height))\n",
    "\n",
    "# Save all the processed frames into the output video file\n",
    "for frame in processed_frames:\n",
    "    out.write(frame)\n",
    "\n",
    "# Release the VideoWriter\n",
    "out.release()\n",
    "cv2.destroyAllWindows()"
   ]
  }
 ],
 "metadata": {
  "kernelspec": {
   "display_name": "minian",
   "language": "python",
   "name": "python3"
  },
  "language_info": {
   "codemirror_mode": {
    "name": "ipython",
    "version": 3
   },
   "file_extension": ".py",
   "mimetype": "text/x-python",
   "name": "python",
   "nbconvert_exporter": "python",
   "pygments_lexer": "ipython3",
   "version": "3.11.7"
  }
 },
 "nbformat": 4,
 "nbformat_minor": 2
}
