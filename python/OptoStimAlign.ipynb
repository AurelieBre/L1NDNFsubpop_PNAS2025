{
 "cells": [
  {
   "cell_type": "markdown",
   "metadata": {},
   "source": [
    "# Load packages"
   ]
  },
  {
   "cell_type": "code",
   "execution_count": null,
   "metadata": {},
   "outputs": [],
   "source": [
    "#%reset\n",
    "\n",
    "from scipy import signal\n",
    "import numpy as np\n",
    "import matplotlib.pyplot as plt\n",
    "from matplotlib.widgets import Slider, Button, Cursor\n",
    "from scipy import fftpack\n",
    "import pandas as pd\n",
    "from pathlib import Path\n",
    "import os\n",
    "from IPython.display import display\n",
    "from ipyfilechooser import FileChooser\n",
    "from ephyviewer import mkQApp, MainViewer, TraceViewer\n",
    "from ephyviewer import AnalogSignalSourceWithScatter\n",
    "import ephyviewer\n",
    "from scipy.stats import zscore\n",
    "from scipy.interpolate import interp1d\n",
    "from itertools import groupby\n",
    "from ephyviewer import mkQApp, MainViewer, TraceViewer, TimeFreqViewer\n",
    "from ephyviewer import InMemoryAnalogSignalSource\n",
    "import ephyviewer\n",
    "import json\n",
    "import matplotlib.cm as cm\n",
    "%matplotlib widget\n",
    "\n",
    "from scipy.signal import find_peaks\n",
    "from scipy.signal import chirp, find_peaks, peak_widths"
   ]
  },
  {
   "cell_type": "markdown",
   "metadata": {},
   "source": [
    "# Choose OpenEphys folder"
   ]
  },
  {
   "cell_type": "code",
   "execution_count": null,
   "metadata": {},
   "outputs": [],
   "source": [
    "dpath = \"//10.69.168.1/crnldata/\"\n",
    "\n",
    "fc1 = FileChooser(dpath,select_default=True, show_only_dirs = True, title = \"<b>Select recording folder from OpenEphys</b>\")\n",
    "display(fc1)\n",
    "\n",
    "# Sample callback function\n",
    "def update_my_folder(chooser):\n",
    "    global dpath\n",
    "    dpath = chooser.selected\n",
    "    %store dpath\n",
    "    return \n",
    "\n",
    "# Register callback function\n",
    "fc1.register_callback(update_my_folder)\n",
    "\n",
    "# stop when \"continuous\" & \"events\" folders appears"
   ]
  },
  {
   "cell_type": "markdown",
   "metadata": {},
   "source": [
    "# Load data"
   ]
  },
  {
   "cell_type": "code",
   "execution_count": null,
   "metadata": {},
   "outputs": [],
   "source": [
    "folder = Path(dpath)\n",
    "\n",
    "# Load metadata \n",
    "filepath = os.path.join(folder, f'structure.oebin')\n",
    "with open(filepath) as f:\n",
    "    metadata = json.load(f)\n",
    "samplerate=metadata['continuous'][0]['sample_rate']  \n",
    "print('sample rate = ', samplerate, 'Hz')\n",
    "numchannel=metadata['continuous'][0]['num_channels']  \n",
    "print(numchannel, 'channels recorded')\n",
    "TTL_Opto_duration=[]\n",
    "\n",
    "# Load TTLs\n",
    "for file_path in folder.glob('**/TTL/timeStamps.npy'):\n",
    "    print('TTL opto file = ', file_path)\n",
    "    TTL_Opto_o = np.load(file_path)\n",
    "    TTL_Opto_duration =[round(TTL_Opto_o[i+1] - TTL_Opto_o[i],4) for i in range(len(TTL_Opto_o) - 1)[::2]]\n",
    "    TTL_Opto= TTL_Opto_o[::2] # remove the TTL for laser OFF, only keep TTL for laser ON. CAUTION /!/ works only if it started with a TTL for laser ON\n",
    "\n",
    "    print(TTL_Opto.shape[0], 'opto stimulations')\n",
    "\n",
    "# Load LFPs \n",
    "for file_path in folder.glob('**/continuous.dat'):\n",
    "    print('LFPs data file = ', file_path)\n",
    "    LFPs = np.fromfile(file_path, dtype=\"int16\")\n",
    "    All = LFPs.reshape(-1,numchannel)\n",
    "    LFPs2 = np.fromfile(file_path, dtype=\"uint16\")\n",
    "    All2 = LFPs2.reshape(-1,numchannel)\n",
    "    \n",
    "# Load LFPs timestamps \n",
    "for file_path in folder.glob('**/continuous/*/timeStamps.npy'):\n",
    "    print('LFPs timestamps file = ', file_path)\n",
    "    LFPtimestamps = np.load(file_path)  \n",
    "\n",
    "print(round(All.shape[0]/samplerate/60), 'min of recording')"
   ]
  },
  {
   "cell_type": "markdown",
   "metadata": {},
   "source": [
    "Select LFPs channels (to modify)"
   ]
  },
  {
   "cell_type": "code",
   "execution_count": null,
   "metadata": {},
   "outputs": [],
   "source": [
    "Channels = \"//10.69.168.1/crnldata/forgetting/Carla/OpenEphysData/LFPChannels_perMice.xlsx\"\n",
    "mice=folder.parts[-1].split('_')[0] # TO MODIFY\n",
    "print(mice)\n",
    "\n",
    "allchannels = pd.read_excel(Channels)\n",
    "\n",
    "CA1ch1=int(allchannels[mice][2].split('_')[0])\n",
    "CA1ch2=int(allchannels[mice][2].split('_')[1])\n",
    "S1ch1=int(allchannels[mice][1].split('_')[0])\n",
    "S1ch2=int(allchannels[mice][1].split('_')[1])\n",
    "EMGch1=int(allchannels[mice][3])\n",
    "\n",
    "CA1  =  All[:, CA1ch1]-All[:, CA1ch2] \n",
    "S1  =  All[:, S1ch1]-All[:, S1ch2] \n",
    "EMG  =  All2[:, EMGch1]\n",
    "\n",
    "PFCch1=int(allchannels[mice][0].split('_')[0])\n",
    "PFCch2=int(allchannels[mice][0].split('_')[1])\n",
    "PFC  =  All[:, PFCch1]-All[:, PFCch2] \n"
   ]
  },
  {
   "cell_type": "markdown",
   "metadata": {},
   "source": [
    "Check TTL durations (optional)"
   ]
  },
  {
   "cell_type": "code",
   "execution_count": null,
   "metadata": {},
   "outputs": [],
   "source": [
    "plt.close('all')\n",
    "plt.stairs(TTL_Opto_duration)\n",
    "plt.xlabel('# Opto stimulations')\n",
    "plt.ylabel('Opto stimulation durations (s)')\n",
    "plt.show()"
   ]
  },
  {
   "cell_type": "markdown",
   "metadata": {},
   "source": [
    "# Get response of each LFPs channels"
   ]
  },
  {
   "cell_type": "code",
   "execution_count": null,
   "metadata": {},
   "outputs": [],
   "source": [
    "AllEPSPs=[]\n",
    "for ttl in TTL_Opto:   \n",
    "    idx = (np.abs(LFPtimestamps - ttl)).argmin() # find the closest LFP timestamps to the TTL\n",
    "    AllEPSPs.append(All[idx-round(0.5*samplerate):idx+round(0.5*samplerate), :]) #500 ms before and after TTL\n",
    "\n",
    "plt.close()\n",
    "plt.figure(figsize=(10, 4))\n",
    "time_axis = np.linspace(-0.5, 0.5, np.shape(AllEPSPs)[1]) \n",
    "mEPSPs=np.mean(AllEPSPs, axis=0)\n",
    "colors = cm.rainbow(np.linspace(0, 1, np.shape(mEPSPs)[1]))\n",
    "for i in np.arange(0,np.shape(AllEPSPs)[2]):\n",
    "    plt.plot(time_axis, mEPSPs[:,i], label=f'Channel #{i}', color=colors[i])\n",
    "plt.xlabel(\"Time (s)\")\n",
    "plt.legend(loc='center left', bbox_to_anchor=(1, 0.5), ncols=2)\n",
    "plt.title('All opto stim')\n",
    "plt.subplots_adjust(right=.5)\n",
    "plt.show()\n"
   ]
  },
  {
   "cell_type": "markdown",
   "metadata": {},
   "source": [
    "# Get response for one LFP"
   ]
  },
  {
   "cell_type": "markdown",
   "metadata": {},
   "source": [
    "Choose LFP"
   ]
  },
  {
   "cell_type": "code",
   "execution_count": null,
   "metadata": {},
   "outputs": [],
   "source": [
    "SelectedLFP=All[:,9]-All[:,11] # to change for PFC or S1 or etc"
   ]
  },
  {
   "cell_type": "code",
   "execution_count": null,
   "metadata": {},
   "outputs": [],
   "source": [
    "nb_differentStim=len(np.unique(TTL_Opto_duration)) # how many different opto stim are performed in the arduino protocol (here a loop of 19 stim with different durations)\n",
    "DurStim=np.unique(TTL_Opto_duration)*1000 # durations of each unique stim (from 1 ms to 20 ms with a step of 1)\n",
    "\n",
    "halfdurEPSP=0.1 #sec\n",
    "analyseWindow= 0.025 #sec\n",
    "\n",
    "AllStim={}\n",
    "for i, ttl  in enumerate(TTL_Opto):\n",
    "    idx = (np.abs(LFPtimestamps - ttl)).argmin() # find the closest LFP timestamps to the TTL    \n",
    "    if str(TTL_Opto_duration[i]*1000) in AllStim:\n",
    "        AllStim[str(TTL_Opto_duration[i]*1000) ]=pd.concat([AllStim[str(TTL_Opto_duration[i]*1000) ],pd.DataFrame(SelectedLFP[idx-round(halfdurEPSP*samplerate):idx+round(halfdurEPSP*samplerate)])],axis=1)\n",
    "    else:\n",
    "        AllStim[str(TTL_Opto_duration[i]*1000) ]=pd.DataFrame(SelectedLFP[idx-round(halfdurEPSP*samplerate):idx+round(halfdurEPSP*samplerate)])\n",
    "   \n",
    "AllStim_sorted = dict(sorted(AllStim.items()))\n",
    "meanAllStim= pd.DataFrame([np.mean(AllStim_sorted[key], axis=1) for key in AllStim_sorted.keys()]).T\n",
    "meanAllStim= pd.DataFrame([meanAllStim[key]-np.mean(meanAllStim[key][int((halfdurEPSP*samplerate)-(halfdurEPSP*samplerate)):int(halfdurEPSP*samplerate)]) for key in meanAllStim.columns]).T\n",
    "meanAllStim.columns=DurStim #convert columns names in ms\n",
    "\n",
    "\"\"\"                         \n",
    "Amplitude=meanAllStim[round(halfdurEPSP*samplerate):round((halfdurEPSP+analyseWindow)*samplerate)].max()-meanAllStim[round(halfdurEPSP*samplerate):round((halfdurEPSP+analyseWindow)*samplerate)].min()\n",
    "Max=meanAllStim[round(halfdurEPSP*samplerate):round((halfdurEPSP+analyseWindow)*samplerate)].max()\n",
    "HalfMaxWidth = [((np.abs(meanAllStim[i][meanAllStim[i][meanAllStim[i]==Max[i]].index[0]:] - Max[i]/2)).argmin() -round(halfdurEPSP*samplerate) + meanAllStim[i][meanAllStim[i]==Max[i]].index[0])/samplerate*1000 for i in meanAllStim.columns]\n",
    "\"\"\"\n",
    "\n",
    "Amplitude=[]\n",
    "Max=[]\n",
    "HalfMaxWidth=[]\n",
    "for i in meanAllStim.columns:\n",
    "    y=meanAllStim[i][round(halfdurEPSP*samplerate):round((halfdurEPSP+analyseWindow)*samplerate)]\n",
    "    peaks, properties = signal.find_peaks(y, height=min(y), prominence=0)\n",
    "    if len(peaks) > 0:\n",
    "        widths, width_heights, left_ips, right_ips = signal.peak_widths(y, peaks, rel_height=0.5)\n",
    "        biggest_peak_idx = np.argmax(properties[\"peak_heights\"])\n",
    "        biggest_peak = peaks[biggest_peak_idx]\n",
    "        half_width = widths[biggest_peak_idx] / 2\n",
    "        Amplitude.append(properties[\"prominences\"][biggest_peak_idx])\n",
    "        Max.append(properties[\"peak_heights\"][biggest_peak_idx])\n",
    "        HalfMaxWidth.append(half_width)\n",
    "    else:\n",
    "        Amplitude.append(np.nan)\n",
    "        Max.append(np.nan)\n",
    "        HalfMaxWidth.append(np.nan)\n",
    "\n",
    "# Plot\n",
    "plt.close()\n",
    "fig, axs = plt.subplots(2,2, figsize=(12,6))\n",
    "fig.suptitle(f'Mice = {mice}, LFP = ', fontsize=15) # Change to indicate where is located that LFP\n",
    "\n",
    "time_axis = np.linspace(-halfdurEPSP*1000, halfdurEPSP*1000, meanAllStim.shape[0]) \n",
    "grey_shades = np.linspace(0.9, 0.1, len(meanAllStim.columns)) \n",
    "for i, col in enumerate(meanAllStim.columns):\n",
    "    axs[0,0].plot(time_axis, meanAllStim[col], color=(grey_shades[i], grey_shades[i], grey_shades[i]), label=f'{round(col,4)} ms')\n",
    "axs[0,0].plot(time_axis, np.mean(meanAllStim, axis= 1), color='red')\n",
    "axs[0,0].set(xlabel=\"Time (ms)\", ylabel=\"Averaged EPSPs\")\n",
    "#axs[0,0].set(ylim=(-750, 1000))\n",
    "axs[0,0].set(xlim=(-25, 50))\n",
    "axs[0,0].legend(loc='upper center', bbox_to_anchor=(2.5, 1.2),\n",
    "          fancybox=True, shadow=True, ncol=2)\n",
    "\n",
    "axs[0,1].plot(DurStim,Amplitude, 'k')\n",
    "axs[0,1].set(xlabel=\"Opto stim duration (ms)\", ylabel=\"Amplitude \")\n",
    "\n",
    "axs[1,0].plot(DurStim,Max, 'k')\n",
    "axs[1,0].set(xlabel=\"Opto stim duration (ms)\", ylabel=\"Maximum \")\n",
    "\n",
    "axs[1,1].plot(DurStim, HalfMaxWidth, 'k')\n",
    "axs[1,1].set(xlabel=\"Opto stim duration (ms)\", ylabel=\"HalfWidth (ms)\")\n",
    "\n",
    "plt.subplots_adjust(right=.8)  \n",
    "plt.show()"
   ]
  }
 ],
 "metadata": {
  "kernelspec": {
   "display_name": "minian",
   "language": "python",
   "name": "python3"
  },
  "language_info": {
   "codemirror_mode": {
    "name": "ipython",
    "version": 3
   },
   "file_extension": ".py",
   "mimetype": "text/x-python",
   "name": "python",
   "nbconvert_exporter": "python",
   "pygments_lexer": "ipython3",
   "version": "3.11.7"
  }
 },
 "nbformat": 4,
 "nbformat_minor": 2
}
