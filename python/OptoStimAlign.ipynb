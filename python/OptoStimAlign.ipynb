{
 "cells": [
  {
   "cell_type": "markdown",
   "metadata": {},
   "source": [
    "# Load packages"
   ]
  },
  {
   "cell_type": "code",
   "execution_count": 75,
   "metadata": {},
   "outputs": [],
   "source": [
    "#%reset\n",
    "\n",
    "from scipy import signal\n",
    "import numpy as np\n",
    "import matplotlib.pyplot as plt\n",
    "from matplotlib.widgets import Slider, Button, Cursor\n",
    "from scipy import fftpack\n",
    "import pandas as pd\n",
    "from pathlib import Path\n",
    "import os\n",
    "from IPython.display import display\n",
    "from ipyfilechooser import FileChooser\n",
    "from ephyviewer import mkQApp, MainViewer, TraceViewer\n",
    "from ephyviewer import AnalogSignalSourceWithScatter\n",
    "import ephyviewer\n",
    "from scipy.stats import zscore\n",
    "from scipy.interpolate import interp1d\n",
    "from itertools import groupby\n",
    "from ephyviewer import mkQApp, MainViewer, TraceViewer, TimeFreqViewer\n",
    "from ephyviewer import InMemoryAnalogSignalSource\n",
    "import ephyviewer\n",
    "import json\n",
    "%matplotlib widget\n",
    "\n",
    "from scipy.signal import find_peaks\n",
    "from scipy.signal import chirp, find_peaks, peak_widths"
   ]
  },
  {
   "cell_type": "markdown",
   "metadata": {},
   "source": [
    "# Choose OpenEphys folder (to modify)"
   ]
  },
  {
   "cell_type": "code",
   "execution_count": null,
   "metadata": {},
   "outputs": [],
   "source": [
    "dpath = \"//10.69./.1/crnldata/waking/audrey_hay/L1imaging/AnalysedMarch2023/Gaelle/Baseline_recording\"\n",
    "try:\n",
    "    %store -r dpath\n",
    "except:\n",
    "    print(\"data not in strore\")\n",
    "    dpath =\"//10.69./.1/crnldata/waking///L1imaging/AnalysedMarch2023/Gaelle/Baseline_recording\"\n",
    "\n",
    "fc1 = FileChooser(dpath,select_default=True, show_only_dirs = True, title = \"<b>Select recording folder from OpenEphys</b>\")\n",
    "display(fc1)\n",
    "\n",
    "# Sample callback function\n",
    "def update_my_folder(chooser):\n",
    "    global dpath\n",
    "    dpath = chooser.selected\n",
    "    %store dpath\n",
    "    return \n",
    "\n",
    "# Register callback function\n",
    "fc1.register_callback(update_my_folder)\n",
    "\n",
    "# stop when \"continuous\" & \"events\" folders appears"
   ]
  },
  {
   "cell_type": "markdown",
   "metadata": {},
   "source": [
    "# Load data"
   ]
  },
  {
   "cell_type": "code",
   "execution_count": null,
   "metadata": {},
   "outputs": [],
   "source": [
    "folder = Path(dpath)\n",
    "\n",
    "# Load metadata \n",
    "filepath = os.path.join(folder, f'structure.oebin')\n",
    "with open(filepath) as f:\n",
    "    metadata = json.load(f)\n",
    "samplerate=metadata['continuous'][0]['sample_rate']  \n",
    "print('sample rate = ', samplerate, 'Hz')\n",
    "numchannel=metadata['continuous'][0]['num_channels']  \n",
    "print(numchannel, 'channels recorded')\n",
    "\n",
    "# Load TTLs\n",
    "for file_path in folder.glob('**/TTL/timeStamps.npy'):\n",
    "    print('TTL opto file = ', file_path)\n",
    "    TTL_Opto_o = np.load(file_path)\n",
    "    TTL_Opto_duration =[round(TTL_Opto_o[i+1] - TTL_Opto_o[i],3) for i in range(len(TTL_Opto_o) - 1)[::2]]\n",
    "    TTL_Opto= TTL_Opto_o[::2] # remove the TTL for laser OFF, only keep TTL for laser ON. CAUTION /!\\ works only if it started with a TTL for laser ON\n",
    "\n",
    "    print(TTL_Opto.shape[0], 'opto stimulations')\n",
    "\n",
    "# Load LFPs \n",
    "for file_path in folder.glob('**/continuous.dat'):\n",
    "    print('LFPs data file = ', file_path)\n",
    "    LFPs = np.fromfile(file_path, dtype=\"int16\")\n",
    "    All = LFPs.reshape(-1,numchannel)\n",
    "    LFPs2 = np.fromfile(file_path, dtype=\"uint16\")\n",
    "    All2 = LFPs2.reshape(-1,numchannel)\n",
    "    \n",
    "# Load LFPs timestamps \n",
    "for file_path in folder.glob('**/continuous/*/timeStamps.npy'):\n",
    "    print('LFPs timestamps file = ', file_path)\n",
    "    LFPtimestamps = np.load(file_path)  \n",
    "\n",
    "print(round(All.shape[0]/samplerate/60), 'min of recording')"
   ]
  },
  {
   "cell_type": "markdown",
   "metadata": {},
   "source": [
    "# Select LFPs channels (to modify)"
   ]
  },
  {
   "cell_type": "code",
   "execution_count": null,
   "metadata": {},
   "outputs": [],
   "source": [
    "Channels = '//10.69.168.1/crnldata/waking/audrey_hay/AurelieB/LFPChannels_perMice.xlsx'  # TO MODIFY\n",
    "mice=folder.parts[-1].split('_')[0] # TO MODIFY\n",
    "print(mice)\n",
    "\n",
    "allchannels = pd.read_excel(Channels)\n",
    "\n",
    "PFCch1=int(allchannels[mice][0].split(',')[0])\n",
    "PFCch2=int(allchannels[mice][0].split(',')[1])\n",
    "CA1ch1=int(allchannels[mice][2].split(',')[0])\n",
    "CA1ch2=int(allchannels[mice][2].split(',')[1])\n",
    "S1ch1=int(allchannels[mice][1].split(',')[0])\n",
    "S1ch2=int(allchannels[mice][1].split(',')[1])\n",
    "EMGch1=int(allchannels[mice][3])\n",
    "\n",
    "PFC  =  All[:, PFCch1]-All[:, PFCch2] \n",
    "CA1  =  All[:, CA1ch1]-All[:, CA1ch2] \n",
    "S1  =  All[:, S1ch1]-All[:, S1ch2] \n",
    "EMG  =  All2[:, EMGch1]\n"
   ]
  },
  {
   "cell_type": "markdown",
   "metadata": {},
   "source": [
    "### Synchronized TTLs to LFPs start (NOT NEEDED)"
   ]
  },
  {
   "cell_type": "code",
   "execution_count": null,
   "metadata": {},
   "outputs": [],
   "source": [
    "\"\"\"A = []\n",
    "#for file_path in folderMouse.glob('**/*sync_messages.txt'):\n",
    "file_path= f'{folder}/sync_messages.txt'\n",
    "with open(file_path, \"r\") as f:\n",
    "    lines = f.readlines()\n",
    "# Loop through all lines, ignoring header.\n",
    "# take last element to list (i.e. the process name)\n",
    "    for l in lines[1:]:\n",
    "        A.append(l.split()[-1])\n",
    "\n",
    "# remove acquisition frequency that is normally always 25 kHz\n",
    "initial_OE_start = int(' '.join([x.split('@')[0] for x in A]))\n",
    "print(\"Initial start of OE\", round(initial_OE_start/samplerate,2), 'sec')\n",
    "\n",
    "TTL_Opto_n = (TTL_Opto - initial_OE_start/samplerate)\n",
    "print('Synchronized TTL = ', TTL_Opto_n)\n",
    "\"\"\""
   ]
  },
  {
   "cell_type": "markdown",
   "metadata": {},
   "source": [
    "# Get response of each LFPs channels"
   ]
  },
  {
   "cell_type": "code",
   "execution_count": null,
   "metadata": {},
   "outputs": [],
   "source": [
    "AllEPSPs=[]\n",
    "for ttl in TTL_Opto:   \n",
    "    idx = (np.abs(LFPtimestamps - ttl)).argmin() # find the closest LFP timestamps to the TTL\n",
    "    AllEPSPs.append(All[idx-round(0.5*samplerate):idx+round(0.5*samplerate), :]) #500 ms before and after TTL\n",
    "\n",
    "plt.close()\n",
    "time_axis = np.linspace(-0.5, 0.5, np.shape(AllEPSPs)[1]) \n",
    "plt.plot(time_axis, np.mean(AllEPSPs,0)) # average stim response of each LFPs channels, ie each color is a LFP channel\n",
    "plt.xlabel(\"Time (s)\")\n",
    "plt.show()"
   ]
  },
  {
   "cell_type": "markdown",
   "metadata": {},
   "source": [
    "# Get response for one LFP"
   ]
  },
  {
   "cell_type": "code",
   "execution_count": 677,
   "metadata": {},
   "outputs": [],
   "source": [
    "SelectedLFP=All[:,17] # to change for PFC or S1 or etc\n",
    "\n",
    "nb_differentStim=len(np.unique(TTL_Opto_duration)) # how many different opto stim are performed in the arduino protocol (here a loop of 19 stim with different durations)\n",
    "DurStim=np.unique(TTL_Opto_duration) # durations of each unique stim (from 1 ms to 20 ms with a step of 1)\n",
    "\n",
    "AllStim={}\n",
    "for i, ttl  in enumerate(TTL_Opto):\n",
    "    idx = (np.abs(LFPtimestamps - ttl)).argmin() # find the closest LFP timestamps to the TTL    \n",
    "    if str(TTL_Opto_duration[i]) in AllStim:\n",
    "        AllStim[str(TTL_Opto_duration[i]) ]=pd.concat([AllStim[str(TTL_Opto_duration[i]) ],pd.DataFrame(SelectedLFP[idx-round(0.5*samplerate):idx+round(0.5*samplerate)])],axis=1)\n",
    "    else:\n",
    "        AllStim[str(TTL_Opto_duration[i]) ]=pd.DataFrame(SelectedLFP[idx-round(0.5*samplerate):idx+round(0.5*samplerate)])\n",
    "   \n",
    "AllStim_sorted = dict(sorted(AllStim.items()))\n",
    "meanAllStim= pd.DataFrame([np.mean(AllStim_sorted[key], axis=1) for key in AllStim_sorted.keys()]).T\n",
    "meanAllStim.columns=DurStim*1000\n",
    "\n",
    "Amplitude=meanAllStim[round(0.5*samplerate):round(0.6*samplerate)].max()-meanAllStim[round(0.5*samplerate):round(0.6*samplerate)].min()\n",
    "Max=meanAllStim[round(0.5*samplerate):round(0.6*samplerate)].max()\n",
    "HalfMaxWidth = [((np.abs(meanAllStim[i][meanAllStim[i][meanAllStim[i]==Max[i]].index[0]:] - Max[i]/2)).argmin() -round(0.5*samplerate) + meanAllStim[i][meanAllStim[i]==Max[i]].index[0])/samplerate*1000 for i in meanAllStim.columns]\n"
   ]
  },
  {
   "cell_type": "markdown",
   "metadata": {},
   "source": [
    "## Plot results"
   ]
  },
  {
   "cell_type": "code",
   "execution_count": null,
   "metadata": {},
   "outputs": [],
   "source": [
    "#Plot\n",
    "plt.close()\n",
    "fig, axs = plt.subplots(2,2, figsize=(12,6))\n",
    "fig.suptitle(f'Mice = {mice}, LFP = ', fontsize=15) # Change to indicate where is located that LFP\n",
    "\n",
    "time_axis = np.linspace(-0.5, 0.5, meanAllStim.shape[0]) \n",
    "grey_shades = np.linspace(0.9, 0.1, len(meanAllStim.columns)) \n",
    "for i, col in enumerate(meanAllStim.columns):\n",
    "    axs[0,0].plot(time_axis, meanAllStim[col], color=(grey_shades[i], grey_shades[i], grey_shades[i]), label=f'{col} ms')\n",
    "axs[0,0].set(xlabel=\"Time (s)\", ylabel=\"Averaged EPSPs\")\n",
    "axs[0,0].set(xlim=(-0.02, .05))\n",
    "axs[0,0].legend(loc='upper center', bbox_to_anchor=(2.35, .9),\n",
    "          fancybox=True, shadow=True, ncol=1)\n",
    "\n",
    "axs[0,1].plot(DurStim*1000,Amplitude, 'k')\n",
    "axs[0,1].set(xlabel=\"Opto stim duration (ms)\", ylabel=\"Amplitude \")\n",
    "\n",
    "axs[1,0].plot(DurStim*1000,Max, 'k')\n",
    "axs[1,0].set(xlabel=\"Opto stim duration (ms)\", ylabel=\"Maximum \")\n",
    "\n",
    "axs[1,1].plot(DurStim*1000, HalfMaxWidth, 'k')\n",
    "axs[1,1].set(xlabel=\"Opto stim duration (ms)\", ylabel=\"HalfWidth (ms)\")\n",
    "\n",
    "plt.show()\n",
    "\n"
   ]
  }
 ],
 "metadata": {
  "kernelspec": {
   "display_name": "minian311new2",
   "language": "python",
   "name": "python3"
  },
  "language_info": {
   "codemirror_mode": {
    "name": "ipython",
    "version": 3
   },
   "file_extension": ".py",
   "mimetype": "text/x-python",
   "name": "python",
   "nbconvert_exporter": "python",
   "pygments_lexer": "ipython3",
   "version": "3.11.7"
  }
 },
 "nbformat": 4,
 "nbformat_minor": 2
}
