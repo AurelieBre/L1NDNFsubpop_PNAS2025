{
 "cells": [
  {
   "cell_type": "markdown",
   "metadata": {},
   "source": [
    "# Create UMAP-based HDBSCAN clustering on vigilance states"
   ]
  },
  {
   "cell_type": "markdown",
   "metadata": {},
   "source": [
    "### Load data"
   ]
  },
  {
   "cell_type": "markdown",
   "metadata": {},
   "source": [
    "Load Packages"
   ]
  },
  {
   "cell_type": "code",
   "execution_count": null,
   "metadata": {},
   "outputs": [],
   "source": [
    "import numpy as np\n",
    "import pandas as pd\n",
    "import umap\n",
    "import matplotlib.pyplot as plt\n",
    "import seaborn as sns\n",
    "import pandas as pd\n",
    "import umap\n",
    "import hdbscan\n",
    "import matplotlib.pyplot as plt\n",
    "import seaborn as sns\n",
    "from sklearn.cluster import KMeans\n",
    "from sklearn.metrics import silhouette_score, davies_bouldin_score, calinski_harabasz_score\n",
    "from IPython.display import display\n",
    "from ipyfilechooser import FileChooser\n",
    "%matplotlib widget\n",
    "from scipy.stats import zscore\n",
    "from sklearn.datasets import make_swiss_roll\n",
    "from sklearn.neighbors import NearestNeighbors\n",
    "from sklearn.manifold import Isomap\n",
    "import networkx as nx\n",
    "from scipy.stats import entropy\n",
    "import warnings\n",
    "import pickle\n",
    "import matplotlib.cm as cm\n",
    "import ast\n",
    "from pathlib import Path\n",
    "from scipy.stats import sem  # for standard error of the mean\n",
    "import plotly.graph_objects as go\n",
    "import matplotlib.patches as mpatches\n",
    "\n",
    "from scipy.spatial.distance import pdist, squareform\n",
    "from scipy.stats import mannwhitneyu\n",
    "from scipy.stats import ks_2samp\n",
    "import diptest\n",
    "import random\n",
    "from collections import Counter, defaultdict\n",
    "\n",
    "from mpl_toolkits.axes_grid1 import make_axes_locatable\n",
    "warnings.filterwarnings(\"ignore\")"
   ]
  },
  {
   "cell_type": "markdown",
   "metadata": {},
   "source": [
    "Load a folder containg \"VigStates_Global\" file"
   ]
  },
  {
   "cell_type": "code",
   "execution_count": null,
   "metadata": {},
   "outputs": [],
   "source": [
    "try: # tries to retrieve dpath either from a previous run or from a previous notebook\n",
    "    %store -r dpath\n",
    "except:\n",
    "    print(\"the path was not defined in store\")\n",
    "    #dpath = \"/Users/mb/Documents/Syntuitio/AudreyHay/PlanB/ExampleRedLines/2022_08_06/13_30_01/My_V4_Miniscope/\"\n",
    "    dpath = \"//10.69.168.1/crnldata/waking/audrey_hay/L1imaging/\"\n",
    "\n",
    "fc1 = FileChooser(dpath,select_default=True, show_only_dirs = True, title = \"<b>Folder with videos</b>\")\n",
    "display(fc1)\n",
    "\n",
    "# Sample callback function\n",
    "def update_my_folder(chooser):\n",
    "    global dpath\n",
    "    dpath = chooser.selected\n",
    "    %store dpath\n",
    "    return \n",
    "\n",
    "# Register callback function\n",
    "fc1.register_callback(update_my_folder)"
   ]
  },
  {
   "cell_type": "markdown",
   "metadata": {},
   "source": [
    "Choose cell type and data type for the clustering"
   ]
  },
  {
   "cell_type": "code",
   "execution_count": null,
   "metadata": {},
   "outputs": [],
   "source": [
    "try :\n",
    "    combined_df = pd.read_excel(f'{dpath}/VigStates_Global.xlsx', index_col=0)\n",
    "except:\n",
    "    with open(f'{dpath}/VigStates_Global.pkl', 'rb') as pickle_file:\n",
    "        combined_df = pickle.load(pickle_file)\n",
    "        \n",
    "desired_order = ['AW','QW', 'NREM', 'IS', 'REM', 'undefined']   \n",
    "\n",
    "NrSubtype='L1NDNF_mice' #['L1NDNF_mice','L2_3_mice']\n",
    "\n",
    "DataType='NormalizedAUC_calcium' # NormalizedAUC_calcium, SpikeActivityHz , DeconvSpikeMeanActivity, CalciumActivity"
   ]
  },
  {
   "cell_type": "markdown",
   "metadata": {},
   "source": [
    "Update the dataframe accordingly"
   ]
  },
  {
   "cell_type": "code",
   "execution_count": null,
   "metadata": {},
   "outputs": [],
   "source": [
    "combined_df['Unique_Unit'] = combined_df['Unique_Unit'].astype(int).astype(str)\n",
    "combined_df['UnitNumber'] = combined_df['UnitNumber'].astype(str)\n",
    "combined_df['UnitValue'] = combined_df['UnitValue'].astype(str)\n",
    "combined_df['Unit_ID'] = combined_df['Mice'] + combined_df['Unique_Unit']\n",
    "combined_df['Substate_ID'] = combined_df['Mice'] + combined_df['Session'] + combined_df['Substate'] + combined_df['SubstateNumber'].astype(str)\n",
    "combined_df['Session_ID'] = combined_df['Session_Date'] + '_' + combined_df['Session_Time'].astype(str)\n",
    "combined_df['NormalizedAUC_calcium'] = combined_df['AUC_calcium'] / combined_df['DurationSubstate']\n",
    "\n",
    "combined_df_Drug=combined_df.copy()\n",
    "combined_df_Drug = combined_df_Drug[combined_df_Drug['Drug'] == 'baseline']\n",
    "combined_df_Drug = combined_df_Drug[combined_df_Drug['NeuronType'] == NrSubtype]\n",
    "\n",
    "\n",
    "data_origin = combined_df_Drug.pivot_table(index='Unit_ID', columns='Substate', values=DataType, aggfunc='mean') \n",
    "\n",
    "try : data_origin = data_origin[desired_order]\n",
    "except: pass\n",
    "print(np.shape(data_origin))"
   ]
  },
  {
   "cell_type": "markdown",
   "metadata": {},
   "source": [
    "Remove undefined & intermediate state"
   ]
  },
  {
   "cell_type": "code",
   "execution_count": null,
   "metadata": {},
   "outputs": [],
   "source": [
    "try: del data_origin['undefined']\n",
    "except : pass\n",
    "del data_origin['IS']\n",
    "data_origin=data_origin.dropna(axis=0)\n",
    "vigst_nb=np.shape(data_origin)[1]\n",
    "print(np.shape(data_origin))\n",
    "data=data_origin.div(data_origin.sum(axis=1), axis=0)"
   ]
  },
  {
   "cell_type": "markdown",
   "metadata": {},
   "source": [
    "### HDBSCAN Clustering"
   ]
  },
  {
   "cell_type": "markdown",
   "metadata": {},
   "source": [
    "Define UMAP parameters"
   ]
  },
  {
   "cell_type": "code",
   "execution_count": null,
   "metadata": {},
   "outputs": [],
   "source": [
    "n_neighbors= 90 #8\n",
    "min_dist=.9 #.9"
   ]
  },
  {
   "cell_type": "markdown",
   "metadata": {},
   "source": [
    "Plot UMAP according to the vigilance states"
   ]
  },
  {
   "cell_type": "code",
   "execution_count": null,
   "metadata": {},
   "outputs": [],
   "source": [
    "# Perform UMAP\n",
    "umap_model = umap.UMAP(n_neighbors=n_neighbors, min_dist=min_dist, n_components=2, random_state=None) \n",
    "#n_neighbors=15: range 2 to 100. Controls the balance between local and global structure \n",
    "#n_components=2 : range 2 to 100.Reduces the data to 2D for visualization \n",
    "#min_dist=0.1: Controls the spread of points. Smaller values emphasize local structure\n",
    "X_umap = umap_model.fit_transform(data)\n",
    "\n",
    "hdbscan_model = hdbscan.HDBSCAN(min_cluster_size=15, min_samples=1, prediction_data=True).fit(X_umap)\n",
    "embedding_df = pd.DataFrame(X_umap, columns=['UMAP1', 'UMAP2'])\n",
    "labels = hdbscan_model.fit_predict(X_umap)\n",
    "embedding_df['Cluster'] = labels\n",
    "\n",
    "# Plotting the results\n",
    "\n",
    "cmap = sns.diverging_palette(10, 133, as_cmap=True)\n",
    "plt.close()\n",
    "plt.figure(figsize=(14, 3))\n",
    "\n",
    "# Plot Results\n",
    "plt.subplot(1,5,1)\n",
    "sns.scatterplot(x='UMAP1', y='UMAP2', hue='Cluster', palette='tab20', data=embedding_df, s=30, edgecolor='k', legend=False)\n",
    "plt.title('HDBSCAN ')\n",
    "\n",
    "plt.subplot(1,5,2)\n",
    "sns.scatterplot(x='UMAP1', y='UMAP2', data=embedding_df, s=30, edgecolor='k', hue=data['AW'].values, palette='rainbow', legend=False)\n",
    "plt.title('AW')\n",
    "plt.xlabel('UMAP1')\n",
    "plt.ylabel('UMAP2')\n",
    "\n",
    "plt.subplot(1,5,3)\n",
    "sns.scatterplot(x='UMAP1', y='UMAP2', data=embedding_df, s=30, edgecolor='k', hue=data['QW'].values, palette='rainbow', legend=False)\n",
    "plt.title('QW')\n",
    "plt.xlabel('UMAP1')\n",
    "plt.ylabel('UMAP2')\n",
    "\n",
    "plt.subplot(1,5,4)\n",
    "sns.scatterplot(x='UMAP1', y='UMAP2', data=embedding_df, s=30, edgecolor='k', hue=data['NREM'].values, palette='rainbow', legend=False)\n",
    "plt.title('NREM')\n",
    "plt.xlabel('UMAP1')\n",
    "plt.ylabel('UMAP2')\n",
    "\n",
    "plt.subplot(1,5,5)\n",
    "ax=sns.scatterplot(x='UMAP1', y='UMAP2', data=embedding_df, s=30, edgecolor='k', hue=data['REM'].values, palette='rainbow', legend=False)\n",
    "plt.title('REM')\n",
    "plt.xlabel('UMAP1')\n",
    "plt.ylabel('UMAP2')\n",
    "divider = make_axes_locatable(ax)\n",
    "cax = divider.append_axes(\"right\", size=\"5%\", pad=0)\n",
    "plt.colorbar(plt.cm.ScalarMappable(cmap='rainbow'), cax=cax)\n",
    "plt.tight_layout()\n",
    "\n",
    "plt.show()\n",
    "\n",
    "\n",
    "#X, color = make_swiss_roll(n_samples=2000, noise=0.1) ## Generate synthetic manifold data (Swiss Roll)\n",
    "X = X_umap\n",
    "\n",
    "# ---- Assumption 1: Uniform distribution (check density variation) ----\n",
    "def check_uniformity(X, n_bins=30):\n",
    "    hist, _ = np.histogramdd(X, bins=n_bins)\n",
    "    hist = hist.flatten()\n",
    "    hist = hist[hist > 0]\n",
    "    hist = hist / np.sum(hist)\n",
    "    ent = entropy(hist)\n",
    "    print(f\"Entropy of distribution: {ent:.2f} (higher = more uniform)\")\n",
    "    \n",
    "check_uniformity(X)\n",
    "\n",
    "# ---- Assumption 2: Locally Euclidean (constant metric) ----\n",
    "def check_local_metric(X, n_neighbors=n_neighbors):\n",
    "    nbrs = NearestNeighbors(n_neighbors=n_neighbors).fit(X)\n",
    "    distances, indices = nbrs.kneighbors(X)\n",
    "\n",
    "    # Compute ratio of distances between nearest neighbor and farthest neighbor in local patch\n",
    "    ratios = distances[:, -1] / (distances[:, 1] + 1e-10)\n",
    "    print(f\"Avg. local distance ratio (max/min): {np.mean(ratios):.2f} (closer to 1 = more Euclidean-like)\")\n",
    "    \n",
    "check_local_metric(X)\n",
    "\n",
    "# ---- Assumption 3: Locally connected ----\n",
    "def check_local_connectivity(X, n_neighbors=n_neighbors):\n",
    "    nbrs = NearestNeighbors(n_neighbors=n_neighbors).fit(X)\n",
    "    graph = nbrs.kneighbors_graph(X).tocoo()\n",
    "    \n",
    "    G = nx.Graph()\n",
    "    for i, j in zip(graph.row, graph.col):\n",
    "        G.add_edge(i, j)\n",
    "    \n",
    "    n_components = nx.number_connected_components(G)\n",
    "    print(f\"Connected Components in k-NN graph: {n_components} (should be 1 for full connectivity)\")\n",
    "\n",
    "check_local_connectivity(X)"
   ]
  },
  {
   "cell_type": "markdown",
   "metadata": {},
   "source": [
    "Save figure"
   ]
  },
  {
   "cell_type": "code",
   "execution_count": null,
   "metadata": {},
   "outputs": [],
   "source": [
    "plt.savefig(f\"C:/Users/Manip2/Documents/Manuscripts/Figures_PNASreviews/Figure1_revised/{NrSubtype}_{DataType}_UMAPcluster.svg\", format='svg')"
   ]
  },
  {
   "cell_type": "markdown",
   "metadata": {},
   "source": [
    "### Mouse repartition in cluster"
   ]
  },
  {
   "cell_type": "code",
   "execution_count": null,
   "metadata": {},
   "outputs": [],
   "source": [
    "plt.close()\n",
    "plt.figure(figsize=(3, 3))\n",
    "sns.scatterplot(x='UMAP1', y='UMAP2', data=embedding_df, s=30, edgecolor='k', hue=data.index.str.replace(r'/d+', '', regex=True).values, palette='tab20', legend=True)\n",
    "plt.title('Mice')\n",
    "plt.xlabel('UMAP1')\n",
    "plt.ylabel('UMAP2')\n",
    "plt.legend(loc='upper left')#, bbox_to_anchor=(1, 1))\n",
    "plt.tight_layout()\n",
    "plt.show()"
   ]
  },
  {
   "cell_type": "code",
   "execution_count": null,
   "metadata": {},
   "outputs": [],
   "source": [
    "plt.savefig(f\"C:/Users/Manip2/Documents/Manuscripts/Figures_PNASreviews/Figure1_revised/{NrSubtype}_UMAPcluster_{DataType}_permouse.svg\", format='svg')"
   ]
  },
  {
   "cell_type": "markdown",
   "metadata": {},
   "source": [
    "### Calculate proportions of clusters"
   ]
  },
  {
   "cell_type": "code",
   "execution_count": null,
   "metadata": {},
   "outputs": [],
   "source": [
    "data['Mice'] = data.index.str.replace(r'/d+', '', regex=True).values\n",
    "data['Cluster'] = labels\n",
    "proportions = data.groupby([ 'Mice', 'Cluster']).size().unstack(fill_value=0)\n",
    "#proportions = proportions.div(proportions.sum(axis=1), axis=0)*100\n",
    "\n",
    "# Plot\n",
    "proportions.plot(kind='bar', stacked=True, figsize=(4, 4), colormap='tab20')\n",
    "plt.ylabel('Cell Count')\n",
    "plt.legend(bbox_to_anchor=(1.05, 1), loc='upper left')\n",
    "plt.tight_layout()\n",
    "plt.show()"
   ]
  },
  {
   "cell_type": "code",
   "execution_count": null,
   "metadata": {},
   "outputs": [],
   "source": [
    "plt.savefig(f\"C:/Users/Manip2/Documents/Manuscripts/Figures_PNASreviews/Figure1_revised/{NrSubtype}_{DataType}_CellCountCluster_permouse.svg\", format='svg')"
   ]
  },
  {
   "cell_type": "markdown",
   "metadata": {},
   "source": [
    "Evaluate clustering"
   ]
  },
  {
   "cell_type": "code",
   "execution_count": null,
   "metadata": {},
   "outputs": [],
   "source": [
    "if len(set(labels)) > 1 and -1 not in set(labels):\n",
    "    score = silhouette_score(embedding_df, labels)\n",
    "    print(f\"Silhouette Score: {score:.2f}.  Notes: 1 → Well-clustered. 0 → Overlapping clusters. -1 → Misclassified samples.\")\n",
    "else:\n",
    "    print(\"Silhouette Score cannot be calculated. Check for multiple clusters.\")\n",
    "    \n",
    "\n",
    "if len(set(labels)) > 1 and -1 not in set(labels):\n",
    "    db_score = davies_bouldin_score(embedding_df, labels)\n",
    "    print(f\"Davies-Bouldin Index: {db_score:.2f}.   Notes: Lower values indicate better clustering.\")\n",
    "else:\n",
    "    print(\"Davies-Bouldin Index cannot be calculated. Check for multiple clusters.\")\n",
    "\n",
    "\n",
    "if len(set(labels)) > 1 and -1 not in set(labels):\n",
    "    ch_score = calinski_harabasz_score(embedding_df, labels)\n",
    "    print(f\"Calinski-Harabasz Index: {ch_score:.2f}.    Notes: Higher values indicate better clustering.\")\n",
    "else:\n",
    "    print(\"Calinski-Harabasz Index cannot be calculated. Check for multiple clusters.\")"
   ]
  },
  {
   "cell_type": "markdown",
   "metadata": {},
   "source": [
    "### Compute average activity of each cluster according to vigilance states"
   ]
  },
  {
   "cell_type": "code",
   "execution_count": null,
   "metadata": {},
   "outputs": [],
   "source": [
    "data_origin['ClusterHDBSCAN'] = labels if NrSubtype == 'L1NDNF_mice' else 0\n",
    "grouped = data_origin.groupby('ClusterHDBSCAN')\n",
    "means = grouped[data_origin.columns[:vigst_nb]].mean()\n",
    "sems = grouped[data_origin.columns[:vigst_nb]].sem()\n",
    "\n",
    "# Plot\n",
    "plt.close()\n",
    "ax = means.plot(kind='bar', yerr=sems, capsize=4, figsize=(3, 3))\n",
    "plt.title('Cluster HDBSCAN')\n",
    "plt.ylabel(f'{DataType}')\n",
    "plt.xlabel('Cluster')\n",
    "plt.xticks(rotation=0)\n",
    "plt.legend()\n",
    "plt.tight_layout()\n",
    "plt.show()\n",
    "print(grouped.size())"
   ]
  },
  {
   "cell_type": "code",
   "execution_count": null,
   "metadata": {},
   "outputs": [],
   "source": [
    "plt.savefig(f\"C:/Users/Manip2/Documents/Manuscripts/Figures_PNASreviews/Figure1_revised/{NrSubtype}_{DataType}_percluster.svg\", format='svg')"
   ]
  },
  {
   "cell_type": "markdown",
   "metadata": {},
   "source": [
    "### Plot individual activity of each cluster according to vigilance states"
   ]
  },
  {
   "cell_type": "code",
   "execution_count": null,
   "metadata": {},
   "outputs": [],
   "source": [
    "from scipy.stats import sem  \n",
    "plt.figure(figsize=(2, 3))\n",
    "\n",
    "desired_order2=['AW','QW', 'NREM', 'REM']\n",
    "\n",
    "# Generate a color for each group\n",
    "groups = list(grouped.groups.keys())\n",
    "colors = ['#006666ff', '#51aeaeff', '#cbe6e6ff'] if NrSubtype == 'L1NDNF_mice' else ['#a60090ff']\n",
    "\n",
    "# Loop through each group\n",
    "for idx, (name, group) in enumerate(grouped):\n",
    "    color = colors[idx]\n",
    "    \n",
    "    epsilon = 1e-1\n",
    "    group = group.copy()  # avoid modifying original data\n",
    "    group[desired_order2] = group[desired_order2] #+ epsilon\n",
    "\n",
    "    # Plot individual lines\n",
    "    for i in range(len(group)):\n",
    "        values = group.loc[group.index[i], desired_order2]\n",
    "        plt.plot(desired_order2, values, color=color, alpha=1, linewidth=.5)\n",
    "\n",
    "    # Compute mean and SEM\n",
    "    means = group[desired_order2].mean()\n",
    "    errors = group[desired_order2].apply(sem)\n",
    "\n",
    "    # Plot mean circles with error bars\n",
    "    plt.errorbar(\n",
    "        desired_order2, means, yerr=errors, fmt='o', color='black',\n",
    "        capsize=4, markersize=6, markeredgewidth=1, markeredgecolor='black', markerfacecolor=color,\n",
    "        label=f'Cluster {name}'\n",
    "    )\n",
    "    # Connect means with a bold line\n",
    "    plt.plot(desired_order2, means, color='black', linewidth=1)\n",
    "\n",
    "plt.title('Cluster HDBSCAN')\n",
    "plt.ylabel(f'{DataType}')\n",
    "plt.xticks(rotation=0)\n",
    "#plt.legend()\n",
    "plt.tight_layout()\n",
    "plt.ylim(0, 10e2)\n",
    "\n",
    "logpl='symlog' # log or linear\n",
    "plt.yscale(logpl)\n",
    "plt.show()\n",
    "\n",
    "print(grouped.size())"
   ]
  },
  {
   "cell_type": "code",
   "execution_count": null,
   "metadata": {},
   "outputs": [],
   "source": [
    "plt.savefig(f\"C:/Users/Manip2/Documents/Manuscripts/Figures_PNASreviews/Figure1_revised/{NrSubtype}_{DataType}_percluster&cells_{logpl}.svg\", format='svg')"
   ]
  },
  {
   "cell_type": "markdown",
   "metadata": {},
   "source": [
    "### Save clusters to \"VigStates_Global_cluster\" file"
   ]
  },
  {
   "cell_type": "code",
   "execution_count": null,
   "metadata": {},
   "outputs": [],
   "source": [
    "merged = pd.merge(combined_df, data_origin['ClusterHDBSCAN'], on='Unit_ID', how='outer') \n",
    "filenameOutAUC = f'{dpath}/VigStates_Global_cluster.xlsx'\n",
    "merged.to_excel(filenameOutAUC)\n",
    "\n",
    "filenameOut = f'{dpath}/VigStates_Global_cluster.pkl'\n",
    "with open(filenameOut, 'wb') as pickle_file:\n",
    "    pickle.dump(merged, pickle_file)"
   ]
  },
  {
   "cell_type": "markdown",
   "metadata": {},
   "source": [
    "### Cluster stability across sessions"
   ]
  },
  {
   "cell_type": "code",
   "execution_count": 61,
   "metadata": {},
   "outputs": [],
   "source": [
    "grouped=combined_df_Drug.groupby(['Unit_ID', 'Session_ID', 'Substate'])[DataType].mean()\n",
    "grouped = grouped.reset_index()\n",
    "grouped2=grouped.pivot_table(index=[grouped['Unit_ID'], grouped['Session_ID']], columns='Substate', values=DataType)\n",
    "try : grouped2 = grouped2[desired_order]\n",
    "except: pass\n",
    "try : del grouped2['IS']\n",
    "except: pass\n",
    "try : del grouped2['undefined']\n",
    "except: pass\n",
    "\n",
    "d=[]\n",
    "test=pd.DataFrame(d, columns=['Cluster_sessID'])\n",
    "\n",
    "for i in np.arange(len(grouped2)):\n",
    "    new_point=np.array(grouped2.iloc[i]).astype(float)\n",
    "    if not np.sum(np.isnan(new_point)): \n",
    "        new_point_umap = umap_model.transform(new_point.reshape(1, -1))\n",
    "        new_label, new_prob = hdbscan.approximate_predict(hdbscan_model, new_point_umap)\n",
    "        test.loc[i,'Cluster_sessID']=new_label[0].astype(str)\n",
    "    else:\n",
    "        test.loc[i,'Cluster_sessID']=None\n",
    "grouped2['Cluster_sessID'] = test['Cluster_sessID'].values\n",
    "\n",
    "grouped3 = grouped2.reset_index()\n",
    "grouped3 = grouped3.drop(columns=['AW', 'QW', 'NREM', 'REM'])\n",
    "grouped3 = grouped3.dropna(subset=['Cluster_sessID'])\n",
    "grouped3 = grouped3[grouped3['Unit_ID'].duplicated(keep=False)] #remove units that only appears in one sessionID\n",
    "\n",
    "\n",
    "# ⏱ Convert to datetime\n",
    "grouped3['Session_ID'] = pd.to_datetime(grouped3['Session_ID'], format='%Y-%m-%d_%H-%M-%S')\n",
    "df_sorted = grouped3.sort_values(['Unit_ID', 'Session_ID'])\n",
    "grouped = df_sorted.groupby('Unit_ID')\n",
    "\n",
    "# Build summary DataFrame\n",
    "summary_df = grouped.agg(\n",
    "    first_date=('Session_ID', 'first'),\n",
    "    last_date=('Session_ID', 'last'),\n",
    "    first_Cluster_sessID=('Cluster_sessID', 'first'),\n",
    "    last_Cluster_sessID=('Cluster_sessID', 'last')\n",
    ")\n",
    "\n",
    "# Calculate number of days between first and last\n",
    "summary_df['days_between'] = (\n",
    "    summary_df['last_date'].dt.floor('D') - summary_df['first_date'].dt.floor('D')\n",
    ").dt.days\n",
    "\n",
    "# Reorder and rename\n",
    "summary_df = summary_df.reset_index()[['Unit_ID', 'days_between', 'first_Cluster_sessID', 'last_Cluster_sessID']]\n",
    "summary_df.columns = ['Unit_ID', 'days_between', 'first', 'last']\n",
    "\n",
    "# Remove if on the same day?\n",
    "summary_df=summary_df[summary_df['days_between']>=0]"
   ]
  },
  {
   "cell_type": "code",
   "execution_count": null,
   "metadata": {},
   "outputs": [],
   "source": [
    "labels = [\"Cluster0\", \"Cluster1\", \"Cluster2\", \"Cluster0\", \"Cluster1\", \"Cluster2\"]\n",
    "\n",
    "a=len(summary_df[(summary_df['first'] == '0') & (summary_df['last'] == '0')].index.tolist())\n",
    "b=len(summary_df[(summary_df['first'] == '0') & (summary_df['last'] == '1')].index.tolist())\n",
    "c=len(summary_df[(summary_df['first'] == '0') & (summary_df['last'] == '2')].index.tolist())\n",
    "d=len(summary_df[(summary_df['first'] == '1') & (summary_df['last'] == '0')].index.tolist())\n",
    "e=len(summary_df[(summary_df['first'] == '1') & (summary_df['last'] == '1')].index.tolist())\n",
    "f=len(summary_df[(summary_df['first'] == '1') & (summary_df['last'] == '2')].index.tolist())\n",
    "g=len(summary_df[(summary_df['first'] == '2') & (summary_df['last'] == '0')].index.tolist())\n",
    "h=len(summary_df[(summary_df['first'] == '2') & (summary_df['last'] == '1')].index.tolist())\n",
    "i=len(summary_df[(summary_df['first'] == '2') & (summary_df['last'] == '2')].index.tolist())\n",
    "\n",
    "# Indexes in the labels list\n",
    "source = [0, 0, 0, 1, 1, 1, 2, 2, 2]\n",
    "target = [3, 4, 5, 3, 4, 5, 3, 4, 5]\n",
    "value  = [a, b, c, d, e, f, g, h, i]\n",
    "\n",
    "fig = go.Figure(data=[go.Sankey(\n",
    "    node=dict(\n",
    "        label=labels,\n",
    "        pad=10,\n",
    "        thickness=20\n",
    "    ),\n",
    "    link=dict(source=source, target=target, value=value)\n",
    ")])\n",
    "\n",
    "\n",
    "fig.update_layout(\n",
    "    font_size=12,\n",
    "    width=300,  # Width of the figure\n",
    "    height=400,  # Height of the figure\n",
    "    title= f\"{np.round(np.mean(summary_df['days_between']),1)} +/- {np.round(np.std(summary_df['days_between']) / np.sqrt(len(summary_df['days_between'])), 1)} days<br>n = {len(summary_df)}<br>{np.round((a+e+i)/35*100)} % in same cluster\"\n",
    ")\n",
    "plt.tight_layout()\n",
    "fig.write_image(f\"C:/Users/Manip2/Documents/Manuscripts/Figures_PNASreviews/Figure1_revised/{NrSubtype}_{DataType}_cluster_stability.svg\")\n",
    "fig.show()\n",
    "\n"
   ]
  },
  {
   "cell_type": "markdown",
   "metadata": {},
   "source": [
    "### Plot a new point on the umap & get its cluster"
   ]
  },
  {
   "cell_type": "code",
   "execution_count": null,
   "metadata": {},
   "outputs": [],
   "source": [
    "new_point=np.array([0, .1, .1, .1])"
   ]
  },
  {
   "cell_type": "code",
   "execution_count": null,
   "metadata": {},
   "outputs": [],
   "source": [
    "new_point_umap = umap_model.transform(new_point.reshape(1, -1))\n",
    "new_label, new_prob = hdbscan.approximate_predict(hdbscan_model, new_point_umap)\n",
    "\n",
    "# 6. Plot\n",
    "plt.figure(figsize=(3, 3))\n",
    "\n",
    "# Plot existing clustered points\n",
    "sns.scatterplot(x='UMAP1', y='UMAP2', hue='Cluster', palette='tab20', data=embedding_df, s=30, edgecolor='k', legend=False)\n",
    "\n",
    "# Plot the new point\n",
    "plt.scatter(new_point_umap[:, 0], new_point_umap[:, 1], c='red', s=100, marker='X', edgecolor='k')\n",
    "plt.title(f'Cluster n°{new_label[0]}')\n",
    "plt.xlabel(\"UMAP 1\")\n",
    "plt.ylabel(\"UMAP 2\")\n",
    "plt.tight_layout()\n",
    "plt.show()"
   ]
  },
  {
   "cell_type": "markdown",
   "metadata": {},
   "source": [
    "### CGP identity of cells"
   ]
  },
  {
   "cell_type": "code",
   "execution_count": 67,
   "metadata": {},
   "outputs": [],
   "source": [
    "filepath=\"//10.69.168.1/crnldata/waking/audrey_hay/L1imaging/Analysed2025_AB/_global_analysis/AVG_VigSt_2025-05-22_17_25_28_CGP/CGP/AllBaselineUnits/L1NDNF_mice_VigSt_nAUC.xlsx\"\n",
    "df0 = pd.read_excel(filepath, index_col=0)\n",
    "df= df0.copy()\n",
    "df=df.loc[:, ['AW', 'QW', 'NREM', 'REM']]\n",
    "df=df.dropna(axis=0)\n",
    "for i in df.index:\n",
    "    result = df.loc[i, ['AW', 'QW', 'NREM', 'REM']]\n",
    "    new_point_umap = umap_model.transform(np.array(result).reshape(1, -1))\n",
    "    new_label, new_prob = hdbscan.approximate_predict(hdbscan_model, new_point_umap)\n",
    "    df.loc[i, 'ClusterHDBSCAN_CGP'] = new_label[0].astype(str)\n",
    "\n",
    "filepath=\"//10.69.168.1/crnldata/waking/audrey_hay/L1imaging/Analysed2025_AB/_global_analysis/AVG_VigSt_2025-05-22_17_25_28_CGP/baseline/AllBaselineUnits/L1NDNF_mice_VigSt_nAUC.xlsx\"\n",
    "dfb0 = pd.read_excel(filepath, index_col=0)\n",
    "dfb= dfb0.copy()\n",
    "dfb=dfb.loc[:, ['AW', 'QW', 'NREM', 'REM']]\n",
    "dfb=dfb.dropna(axis=0)\n",
    "for i in dfb.index:\n",
    "    result = dfb.loc[i, ['AW', 'QW', 'NREM', 'REM']]\n",
    "    new_point_umap = umap_model.transform(np.array(result).reshape(1, -1))\n",
    "    new_label, new_prob = hdbscan.approximate_predict(hdbscan_model, new_point_umap)\n",
    "    dfb.loc[i, 'ClusterHDBSCAN_baseline'] = new_label[0].astype(str)\n",
    "\n",
    "merged = pd.merge(df['ClusterHDBSCAN_CGP'], dfb['ClusterHDBSCAN_baseline'], on='Unit_ID', how='outer') \n",
    "merged=merged.dropna(axis=0)\n",
    "\n",
    "#merged.to_excel(filepath)"
   ]
  },
  {
   "cell_type": "code",
   "execution_count": 68,
   "metadata": {},
   "outputs": [
    {
     "data": {
      "application/vnd.plotly.v1+json": {
       "config": {
        "plotlyServerURL": "https://plot.ly"
       },
       "data": [
        {
         "link": {
          "source": [
           0,
           0,
           0,
           1,
           1,
           1,
           2,
           2,
           2
          ],
          "target": [
           3,
           4,
           5,
           3,
           4,
           5,
           3,
           4,
           5
          ],
          "value": [
           5,
           0,
           4,
           0,
           0,
           0,
           2,
           0,
           3
          ]
         },
         "node": {
          "label": [
           "Cluster0",
           "Cluster1",
           "Cluster2",
           "Cluster0",
           "Cluster1",
           "Cluster2"
          ],
          "pad": 10,
          "thickness": 20
         },
         "type": "sankey"
        }
       ],
       "layout": {
        "font": {
         "size": 12
        },
        "height": 400,
        "template": {
         "data": {
          "bar": [
           {
            "error_x": {
             "color": "#2a3f5f"
            },
            "error_y": {
             "color": "#2a3f5f"
            },
            "marker": {
             "line": {
              "color": "#E5ECF6",
              "width": 0.5
             },
             "pattern": {
              "fillmode": "overlay",
              "size": 10,
              "solidity": 0.2
             }
            },
            "type": "bar"
           }
          ],
          "barpolar": [
           {
            "marker": {
             "line": {
              "color": "#E5ECF6",
              "width": 0.5
             },
             "pattern": {
              "fillmode": "overlay",
              "size": 10,
              "solidity": 0.2
             }
            },
            "type": "barpolar"
           }
          ],
          "carpet": [
           {
            "aaxis": {
             "endlinecolor": "#2a3f5f",
             "gridcolor": "white",
             "linecolor": "white",
             "minorgridcolor": "white",
             "startlinecolor": "#2a3f5f"
            },
            "baxis": {
             "endlinecolor": "#2a3f5f",
             "gridcolor": "white",
             "linecolor": "white",
             "minorgridcolor": "white",
             "startlinecolor": "#2a3f5f"
            },
            "type": "carpet"
           }
          ],
          "choropleth": [
           {
            "colorbar": {
             "outlinewidth": 0,
             "ticks": ""
            },
            "type": "choropleth"
           }
          ],
          "contour": [
           {
            "colorbar": {
             "outlinewidth": 0,
             "ticks": ""
            },
            "colorscale": [
             [
              0,
              "#0d0887"
             ],
             [
              0.1111111111111111,
              "#46039f"
             ],
             [
              0.2222222222222222,
              "#7201a8"
             ],
             [
              0.3333333333333333,
              "#9c179e"
             ],
             [
              0.4444444444444444,
              "#bd3786"
             ],
             [
              0.5555555555555556,
              "#d8576b"
             ],
             [
              0.6666666666666666,
              "#ed7953"
             ],
             [
              0.7777777777777778,
              "#fb9f3a"
             ],
             [
              0.8888888888888888,
              "#fdca26"
             ],
             [
              1,
              "#f0f921"
             ]
            ],
            "type": "contour"
           }
          ],
          "contourcarpet": [
           {
            "colorbar": {
             "outlinewidth": 0,
             "ticks": ""
            },
            "type": "contourcarpet"
           }
          ],
          "heatmap": [
           {
            "colorbar": {
             "outlinewidth": 0,
             "ticks": ""
            },
            "colorscale": [
             [
              0,
              "#0d0887"
             ],
             [
              0.1111111111111111,
              "#46039f"
             ],
             [
              0.2222222222222222,
              "#7201a8"
             ],
             [
              0.3333333333333333,
              "#9c179e"
             ],
             [
              0.4444444444444444,
              "#bd3786"
             ],
             [
              0.5555555555555556,
              "#d8576b"
             ],
             [
              0.6666666666666666,
              "#ed7953"
             ],
             [
              0.7777777777777778,
              "#fb9f3a"
             ],
             [
              0.8888888888888888,
              "#fdca26"
             ],
             [
              1,
              "#f0f921"
             ]
            ],
            "type": "heatmap"
           }
          ],
          "heatmapgl": [
           {
            "colorbar": {
             "outlinewidth": 0,
             "ticks": ""
            },
            "colorscale": [
             [
              0,
              "#0d0887"
             ],
             [
              0.1111111111111111,
              "#46039f"
             ],
             [
              0.2222222222222222,
              "#7201a8"
             ],
             [
              0.3333333333333333,
              "#9c179e"
             ],
             [
              0.4444444444444444,
              "#bd3786"
             ],
             [
              0.5555555555555556,
              "#d8576b"
             ],
             [
              0.6666666666666666,
              "#ed7953"
             ],
             [
              0.7777777777777778,
              "#fb9f3a"
             ],
             [
              0.8888888888888888,
              "#fdca26"
             ],
             [
              1,
              "#f0f921"
             ]
            ],
            "type": "heatmapgl"
           }
          ],
          "histogram": [
           {
            "marker": {
             "pattern": {
              "fillmode": "overlay",
              "size": 10,
              "solidity": 0.2
             }
            },
            "type": "histogram"
           }
          ],
          "histogram2d": [
           {
            "colorbar": {
             "outlinewidth": 0,
             "ticks": ""
            },
            "colorscale": [
             [
              0,
              "#0d0887"
             ],
             [
              0.1111111111111111,
              "#46039f"
             ],
             [
              0.2222222222222222,
              "#7201a8"
             ],
             [
              0.3333333333333333,
              "#9c179e"
             ],
             [
              0.4444444444444444,
              "#bd3786"
             ],
             [
              0.5555555555555556,
              "#d8576b"
             ],
             [
              0.6666666666666666,
              "#ed7953"
             ],
             [
              0.7777777777777778,
              "#fb9f3a"
             ],
             [
              0.8888888888888888,
              "#fdca26"
             ],
             [
              1,
              "#f0f921"
             ]
            ],
            "type": "histogram2d"
           }
          ],
          "histogram2dcontour": [
           {
            "colorbar": {
             "outlinewidth": 0,
             "ticks": ""
            },
            "colorscale": [
             [
              0,
              "#0d0887"
             ],
             [
              0.1111111111111111,
              "#46039f"
             ],
             [
              0.2222222222222222,
              "#7201a8"
             ],
             [
              0.3333333333333333,
              "#9c179e"
             ],
             [
              0.4444444444444444,
              "#bd3786"
             ],
             [
              0.5555555555555556,
              "#d8576b"
             ],
             [
              0.6666666666666666,
              "#ed7953"
             ],
             [
              0.7777777777777778,
              "#fb9f3a"
             ],
             [
              0.8888888888888888,
              "#fdca26"
             ],
             [
              1,
              "#f0f921"
             ]
            ],
            "type": "histogram2dcontour"
           }
          ],
          "mesh3d": [
           {
            "colorbar": {
             "outlinewidth": 0,
             "ticks": ""
            },
            "type": "mesh3d"
           }
          ],
          "parcoords": [
           {
            "line": {
             "colorbar": {
              "outlinewidth": 0,
              "ticks": ""
             }
            },
            "type": "parcoords"
           }
          ],
          "pie": [
           {
            "automargin": true,
            "type": "pie"
           }
          ],
          "scatter": [
           {
            "fillpattern": {
             "fillmode": "overlay",
             "size": 10,
             "solidity": 0.2
            },
            "type": "scatter"
           }
          ],
          "scatter3d": [
           {
            "line": {
             "colorbar": {
              "outlinewidth": 0,
              "ticks": ""
             }
            },
            "marker": {
             "colorbar": {
              "outlinewidth": 0,
              "ticks": ""
             }
            },
            "type": "scatter3d"
           }
          ],
          "scattercarpet": [
           {
            "marker": {
             "colorbar": {
              "outlinewidth": 0,
              "ticks": ""
             }
            },
            "type": "scattercarpet"
           }
          ],
          "scattergeo": [
           {
            "marker": {
             "colorbar": {
              "outlinewidth": 0,
              "ticks": ""
             }
            },
            "type": "scattergeo"
           }
          ],
          "scattergl": [
           {
            "marker": {
             "colorbar": {
              "outlinewidth": 0,
              "ticks": ""
             }
            },
            "type": "scattergl"
           }
          ],
          "scattermapbox": [
           {
            "marker": {
             "colorbar": {
              "outlinewidth": 0,
              "ticks": ""
             }
            },
            "type": "scattermapbox"
           }
          ],
          "scatterpolar": [
           {
            "marker": {
             "colorbar": {
              "outlinewidth": 0,
              "ticks": ""
             }
            },
            "type": "scatterpolar"
           }
          ],
          "scatterpolargl": [
           {
            "marker": {
             "colorbar": {
              "outlinewidth": 0,
              "ticks": ""
             }
            },
            "type": "scatterpolargl"
           }
          ],
          "scatterternary": [
           {
            "marker": {
             "colorbar": {
              "outlinewidth": 0,
              "ticks": ""
             }
            },
            "type": "scatterternary"
           }
          ],
          "surface": [
           {
            "colorbar": {
             "outlinewidth": 0,
             "ticks": ""
            },
            "colorscale": [
             [
              0,
              "#0d0887"
             ],
             [
              0.1111111111111111,
              "#46039f"
             ],
             [
              0.2222222222222222,
              "#7201a8"
             ],
             [
              0.3333333333333333,
              "#9c179e"
             ],
             [
              0.4444444444444444,
              "#bd3786"
             ],
             [
              0.5555555555555556,
              "#d8576b"
             ],
             [
              0.6666666666666666,
              "#ed7953"
             ],
             [
              0.7777777777777778,
              "#fb9f3a"
             ],
             [
              0.8888888888888888,
              "#fdca26"
             ],
             [
              1,
              "#f0f921"
             ]
            ],
            "type": "surface"
           }
          ],
          "table": [
           {
            "cells": {
             "fill": {
              "color": "#EBF0F8"
             },
             "line": {
              "color": "white"
             }
            },
            "header": {
             "fill": {
              "color": "#C8D4E3"
             },
             "line": {
              "color": "white"
             }
            },
            "type": "table"
           }
          ]
         },
         "layout": {
          "annotationdefaults": {
           "arrowcolor": "#2a3f5f",
           "arrowhead": 0,
           "arrowwidth": 1
          },
          "autotypenumbers": "strict",
          "coloraxis": {
           "colorbar": {
            "outlinewidth": 0,
            "ticks": ""
           }
          },
          "colorscale": {
           "diverging": [
            [
             0,
             "#8e0152"
            ],
            [
             0.1,
             "#c51b7d"
            ],
            [
             0.2,
             "#de77ae"
            ],
            [
             0.3,
             "#f1b6da"
            ],
            [
             0.4,
             "#fde0ef"
            ],
            [
             0.5,
             "#f7f7f7"
            ],
            [
             0.6,
             "#e6f5d0"
            ],
            [
             0.7,
             "#b8e186"
            ],
            [
             0.8,
             "#7fbc41"
            ],
            [
             0.9,
             "#4d9221"
            ],
            [
             1,
             "#276419"
            ]
           ],
           "sequential": [
            [
             0,
             "#0d0887"
            ],
            [
             0.1111111111111111,
             "#46039f"
            ],
            [
             0.2222222222222222,
             "#7201a8"
            ],
            [
             0.3333333333333333,
             "#9c179e"
            ],
            [
             0.4444444444444444,
             "#bd3786"
            ],
            [
             0.5555555555555556,
             "#d8576b"
            ],
            [
             0.6666666666666666,
             "#ed7953"
            ],
            [
             0.7777777777777778,
             "#fb9f3a"
            ],
            [
             0.8888888888888888,
             "#fdca26"
            ],
            [
             1,
             "#f0f921"
            ]
           ],
           "sequentialminus": [
            [
             0,
             "#0d0887"
            ],
            [
             0.1111111111111111,
             "#46039f"
            ],
            [
             0.2222222222222222,
             "#7201a8"
            ],
            [
             0.3333333333333333,
             "#9c179e"
            ],
            [
             0.4444444444444444,
             "#bd3786"
            ],
            [
             0.5555555555555556,
             "#d8576b"
            ],
            [
             0.6666666666666666,
             "#ed7953"
            ],
            [
             0.7777777777777778,
             "#fb9f3a"
            ],
            [
             0.8888888888888888,
             "#fdca26"
            ],
            [
             1,
             "#f0f921"
            ]
           ]
          },
          "colorway": [
           "#636efa",
           "#EF553B",
           "#00cc96",
           "#ab63fa",
           "#FFA15A",
           "#19d3f3",
           "#FF6692",
           "#B6E880",
           "#FF97FF",
           "#FECB52"
          ],
          "font": {
           "color": "#2a3f5f"
          },
          "geo": {
           "bgcolor": "white",
           "lakecolor": "white",
           "landcolor": "#E5ECF6",
           "showlakes": true,
           "showland": true,
           "subunitcolor": "white"
          },
          "hoverlabel": {
           "align": "left"
          },
          "hovermode": "closest",
          "mapbox": {
           "style": "light"
          },
          "paper_bgcolor": "white",
          "plot_bgcolor": "#E5ECF6",
          "polar": {
           "angularaxis": {
            "gridcolor": "white",
            "linecolor": "white",
            "ticks": ""
           },
           "bgcolor": "#E5ECF6",
           "radialaxis": {
            "gridcolor": "white",
            "linecolor": "white",
            "ticks": ""
           }
          },
          "scene": {
           "xaxis": {
            "backgroundcolor": "#E5ECF6",
            "gridcolor": "white",
            "gridwidth": 2,
            "linecolor": "white",
            "showbackground": true,
            "ticks": "",
            "zerolinecolor": "white"
           },
           "yaxis": {
            "backgroundcolor": "#E5ECF6",
            "gridcolor": "white",
            "gridwidth": 2,
            "linecolor": "white",
            "showbackground": true,
            "ticks": "",
            "zerolinecolor": "white"
           },
           "zaxis": {
            "backgroundcolor": "#E5ECF6",
            "gridcolor": "white",
            "gridwidth": 2,
            "linecolor": "white",
            "showbackground": true,
            "ticks": "",
            "zerolinecolor": "white"
           }
          },
          "shapedefaults": {
           "line": {
            "color": "#2a3f5f"
           }
          },
          "ternary": {
           "aaxis": {
            "gridcolor": "white",
            "linecolor": "white",
            "ticks": ""
           },
           "baxis": {
            "gridcolor": "white",
            "linecolor": "white",
            "ticks": ""
           },
           "bgcolor": "#E5ECF6",
           "caxis": {
            "gridcolor": "white",
            "linecolor": "white",
            "ticks": ""
           }
          },
          "title": {
           "x": 0.05
          },
          "xaxis": {
           "automargin": true,
           "gridcolor": "white",
           "linecolor": "white",
           "ticks": "",
           "title": {
            "standoff": 15
           },
           "zerolinecolor": "white",
           "zerolinewidth": 2
          },
          "yaxis": {
           "automargin": true,
           "gridcolor": "white",
           "linecolor": "white",
           "ticks": "",
           "title": {
            "standoff": 15
           },
           "zerolinecolor": "white",
           "zerolinewidth": 2
          }
         }
        },
        "title": {
         "text": "n = 14<br>23.0 % in same cluster"
        },
        "width": 300
       }
      }
     },
     "metadata": {},
     "output_type": "display_data"
    }
   ],
   "source": [
    "labels = [\"Cluster0\", \"Cluster1\", \"Cluster2\", \"Cluster0\", \"Cluster1\", \"Cluster2\"]\n",
    "\n",
    "a=len(merged[(merged['ClusterHDBSCAN_baseline'] == '0') & (merged['ClusterHDBSCAN_CGP'] == '0')].index.tolist())\n",
    "b=len(merged[(merged['ClusterHDBSCAN_baseline'] == '0') & (merged['ClusterHDBSCAN_CGP'] == '1')].index.tolist())\n",
    "c=len(merged[(merged['ClusterHDBSCAN_baseline'] == '0') & (merged['ClusterHDBSCAN_CGP'] == '2')].index.tolist())\n",
    "d=len(merged[(merged['ClusterHDBSCAN_baseline'] == '1') & (merged['ClusterHDBSCAN_CGP'] == '0')].index.tolist())\n",
    "e=len(merged[(merged['ClusterHDBSCAN_baseline'] == '1') & (merged['ClusterHDBSCAN_CGP'] == '1')].index.tolist())\n",
    "f=len(merged[(merged['ClusterHDBSCAN_baseline'] == '1') & (merged['ClusterHDBSCAN_CGP'] == '2')].index.tolist())\n",
    "g=len(merged[(merged['ClusterHDBSCAN_baseline'] == '2') & (merged['ClusterHDBSCAN_CGP'] == '0')].index.tolist())\n",
    "h=len(merged[(merged['ClusterHDBSCAN_baseline'] == '2') & (merged['ClusterHDBSCAN_CGP'] == '1')].index.tolist())\n",
    "i=len(merged[(merged['ClusterHDBSCAN_baseline'] == '2') & (merged['ClusterHDBSCAN_CGP'] == '2')].index.tolist())\n",
    "\n",
    "# Indexes in the labels list\n",
    "source = [0, 0, 0, 1, 1, 1, 2, 2, 2]\n",
    "target = [3, 4, 5, 3, 4, 5, 3, 4, 5]\n",
    "value  = [a, b, c, d, e, f, g, h, i]\n",
    "\n",
    "fig = go.Figure(data=[go.Sankey(\n",
    "    node=dict(\n",
    "        label=labels,\n",
    "        pad=10,\n",
    "        thickness=20\n",
    "    ),\n",
    "    link=dict(source=source, target=target, value=value)\n",
    ")])\n",
    "\n",
    "\n",
    "fig.update_layout(\n",
    "    font_size=12,\n",
    "    width=300,  # Width of the figure\n",
    "    height=400,  # Height of the figure\n",
    "    title= f\"n = {len(merged)}<br>{np.round((a+e+i)/35*100)} % in same cluster\"\n",
    ")\n",
    "plt.tight_layout()\n",
    "fig.write_image(f\"C:/Users/Manip2/Documents/Manuscripts/Figures_PNASreviews/Figure3_revised/{NrSubtype}_{DataType}_cluster_stability_withCGP.svg\")\n",
    "fig.show()\n"
   ]
  },
  {
   "cell_type": "code",
   "execution_count": null,
   "metadata": {},
   "outputs": [],
   "source": [
    "filepath=\"//10.69.168.1/crnldata/waking/audrey_hay/L1imaging/Analysed2025_AB/_global_analysis/AVG_VigSt_2025-05-22_17_25_28_CGP/CGP/All/L1NDNF_mice_VigSt_nAUC.xlsx\"\n",
    "dfb0 = pd.read_excel(filepath, index_col=0)\n",
    "dfb= dfb0.copy()\n",
    "dfb=dfb.loc[:, ['AW', 'QW', 'NREM', 'REM']]\n",
    "dfb=dfb.dropna(axis=0)\n",
    "for i in dfb.index:\n",
    "    result = dfb.loc[i, ['AW', 'QW', 'NREM', 'REM']]\n",
    "    new_point_umap = umap_model.transform(np.array(result).reshape(1, -1))\n",
    "    new_label, new_prob = hdbscan.approximate_predict(hdbscan_model, new_point_umap)\n",
    "    dfb.loc[i, 'ClusterHDBSCAN_CGP'] = new_label[0].astype(str)\n",
    "\n",
    "merged = pd.merge(dfb0, dfb['ClusterHDBSCAN_CGP'], on='Unit_ID', how='outer') \n",
    "print(merged.groupby('ClusterHDBSCAN_CGP').size())\n",
    "merged.to_excel(filepath)"
   ]
  },
  {
   "cell_type": "code",
   "execution_count": 94,
   "metadata": {},
   "outputs": [
    {
     "data": {
      "application/vnd.jupyter.widget-view+json": {
       "model_id": "70902a951e4c4d76b3ffb5c5c7e0f25d",
       "version_major": 2,
       "version_minor": 0
      },
      "image/png": "[encoded data removed]",
      "text/html": [
       "\n",
       "            <div style=\"display: inline-block;\">\n",
       "                <div class=\"jupyter-widgets widget-label\" style=\"text-align: center;\">\n",
       "                    Figure\n",
       "                </div>\n",
       "                <img src='data:image/png;base64,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' width=200.0/>\n",
       "            </div>\n",
       "        "
      ],
      "text/plain": [
       "Canvas(toolbar=Toolbar(toolitems=[('Home', 'Reset original view', 'home', 'home'), ('Back', 'Back to previous …"
      ]
     },
     "metadata": {},
     "output_type": "display_data"
    },
    {
     "data": {
      "application/vnd.jupyter.widget-view+json": {
       "model_id": "97346d695b4f4794ae5e8795a4a7f96c",
       "version_major": 2,
       "version_minor": 0
      },
      "image/png": "[encoded data removed]",
      "text/html": [
       "\n",
       "            <div style=\"display: inline-block;\">\n",
       "                <div class=\"jupyter-widgets widget-label\" style=\"text-align: center;\">\n",
       "                    Figure\n",
       "                </div>\n",
       "                <img src='data:image/png;base64,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' width=200.0/>\n",
       "            </div>\n",
       "        "
      ],
      "text/plain": [
       "Canvas(toolbar=Toolbar(toolitems=[('Home', 'Reset original view', 'home', 'home'), ('Back', 'Back to previous …"
      ]
     },
     "metadata": {},
     "output_type": "display_data"
    }
   ],
   "source": [
    "import matplotlib.pyplot as plt\n",
    "\n",
    "labels = ['0', '1', '2']\n",
    "sizes = [98, 18, 101]\n",
    "plt.figure(figsize=(2, 2))\n",
    "plt.pie(sizes, labels=labels, startangle=90)\n",
    "plt.title('Baseline')\n",
    "plt.axis('equal')  # Equal aspect ratio ensures a circle.\n",
    "plt.savefig(f\"C:/Users/Manip2/Documents/Manuscripts/Figures_PNASreviews/Figure3_revised/{NrSubtype}_{DataType}_cluster_proportion_Baseline.svg\")\n",
    "\n",
    "labels = ['0', '1', '2']\n",
    "sizes = [47, 8, 42]\n",
    "plt.figure(figsize=(2, 2))\n",
    "plt.pie(sizes, labels=labels, startangle=90)\n",
    "plt.title('CGP')\n",
    "plt.axis('equal')  # Equal aspect ratio ensures a circle.\n",
    "plt.savefig(f\"C:/Users/Manip2/Documents/Manuscripts/Figures_PNASreviews/Figure3_revised/{NrSubtype}_{DataType}_cluster_proportion_CGP.svg\")\n",
    "\n",
    "plt.show()\n"
   ]
  },
  {
   "cell_type": "markdown",
   "metadata": {},
   "source": [
    "### Neuron distances relative to cluster ID"
   ]
  },
  {
   "cell_type": "code",
   "execution_count": null,
   "metadata": {},
   "outputs": [],
   "source": [
    "df_cluster = pd.read_excel(f'{Path(dpath)}/VigStates_Global_cluster.xlsx', index_col=0)\n",
    "df_cluster = df_cluster[df_cluster['NeuronType'] == NrSubtype]\n",
    "df_cluster['ClusterHDBSCAN'] = '0' if NrSubtype == 'L2_3_mice' else df_cluster['ClusterHDBSCAN']"
   ]
  },
  {
   "cell_type": "code",
   "execution_count": null,
   "metadata": {},
   "outputs": [],
   "source": [
    "df_cluster_c = df_cluster.drop_duplicates(subset='Unit_ID', keep='first')\n",
    "df_cluster_c = df_cluster_c.dropna(subset=['ClusterHDBSCAN'])\n",
    "\n",
    "def extract_xy(coord_str):\n",
    "    val = ast.literal_eval(coord_str)\n",
    "    # Handle nested list: [[x], [y]]\n",
    "    if isinstance(val[0], list):\n",
    "        x, y = val[0][0], val[1][0]\n",
    "    else:\n",
    "        x, y = val[0], val[1]\n",
    "    return pd.Series([x, y])\n",
    "\n",
    "df_cluster_c[['x', 'y']] = df_cluster_c['UnitLocation'].apply(extract_xy)\n",
    "\n",
    "within_dists_all = []\n",
    "within_dists_c0 = []\n",
    "within_dists_c1 = []\n",
    "within_dists_c2 = []\n",
    "between_dists_all = []\n",
    "between_dists_c0 = []\n",
    "between_dists_c1 = []\n",
    "between_dists_c2 = []\n",
    "\n",
    "for indiv_id, group in df_cluster_c.groupby('Mice'):\n",
    "    coords = group[['x', 'y']].values\n",
    "    labels = group['ClusterHDBSCAN'].values\n",
    "    dist_matrix = squareform(pdist(coords))    \n",
    "    for i in range(len(group)):\n",
    "        for j in range(i + 1, len(group)):\n",
    "            d = dist_matrix[i, j]\n",
    "            if labels[i] == labels[j]:\n",
    "                within_dists_all.append(d)\n",
    "                if labels[i] == 0:\n",
    "                    within_dists_c0.append(d)\n",
    "                elif labels[i] == 1:\n",
    "                    within_dists_c1.append(d)\n",
    "                elif labels[i] == 2:\n",
    "                    within_dists_c2.append(d)\n",
    "            else:\n",
    "                between_dists_all.append(d)\n",
    "                if labels[i] == 0:\n",
    "                    between_dists_c0.append(d)\n",
    "                elif labels[i] == 1:\n",
    "                    between_dists_c1.append(d)\n",
    "                elif labels[i] == 2:\n",
    "                    between_dists_c2.append(d)\n",
    "\n",
    "# --- Plot distributions ---\n",
    "fig, axes = plt.subplots(1, 4, figsize=(14, 3))\n",
    "\n",
    "plt.subplot(1,4,1)\n",
    "sns.histplot(between_dists_c0, bins=30, binrange=(0, 600),color='black', label='0-others', kde=True, stat=\"density\", alpha=0.5, kde_kws={'bw_adjust': 0.5})\n",
    "sns.histplot(within_dists_c0, bins=30, binrange=(0, 600),color='orange', label='0-0', kde=True, stat=\"density\", kde_kws={'bw_adjust': 0.5})\n",
    "plt.legend()\n",
    "plt.xlabel(\"Distance in pixels\")\n",
    "plt.ylabel(\"Density\")\n",
    "stat, p =ks_2samp(within_dists_c0, between_dists_c0)\n",
    "plt.title(f\"C0 = K-S Test: p = {p:.2f}\")\n",
    "\n",
    "plt.subplot(1,4,2)\n",
    "sns.histplot(between_dists_c1, bins=30,binrange=(0, 600), color='black', label='1-others', kde=True, stat=\"density\", alpha=0.5, kde_kws={'bw_adjust': 0.5})\n",
    "sns.histplot(within_dists_c1, bins=30, binrange=(0, 600),color='blue', label='1-1', kde=True, stat=\"density\", alpha=0.5, kde_kws={'bw_adjust': 0.5})\n",
    "plt.legend()\n",
    "plt.xlabel(\"Distance in pixels\")\n",
    "plt.ylabel(\"Density\")\n",
    "stat, p =ks_2samp(within_dists_c1, between_dists_c1)\n",
    "plt.title(f\"C1 = K-S Test: p = {p:.2f}\")\n",
    "\n",
    "plt.subplot(1,4,3)\n",
    "sns.histplot(between_dists_c2, bins=30, binrange=(0, 600),color='black', label='2-others', kde=True, stat=\"density\", alpha=0.5, kde_kws={'bw_adjust': 0.5})\n",
    "sns.histplot(within_dists_c2, bins=30, binrange=(0, 600), color='purple', label='2-2', kde=True, stat=\"density\", alpha=0.5, kde_kws={'bw_adjust': 0.5})\n",
    "plt.legend()\n",
    "plt.xlabel(\"Distance in pixels\")\n",
    "plt.ylabel(\"Density\")\n",
    "stat, p =ks_2samp(within_dists_c2, between_dists_c2)\n",
    "plt.title(f\"C2 = K-S Test: p = {p:.2f}\")\n",
    "\n",
    "\n",
    "plt.subplot(1,4,4)\n",
    "sns.histplot(between_dists_all, bins=30, binrange=(0, 600),color='black', label='between', kde=True, stat=\"density\", alpha=0.5, kde_kws={'bw_adjust': 0.5})\n",
    "sns.histplot(within_dists_all, bins=30, binrange=(0, 600),color='red', label='within', kde=True, stat=\"density\", kde_kws={'bw_adjust': 0.5})\n",
    "plt.legend()\n",
    "plt.xlabel(\"Distance in pixels\")\n",
    "plt.ylabel(\"Density\")\n",
    "stat, p =ks_2samp(within_dists_all, between_dists_all)\n",
    "plt.title(f\"All = K-S Test: p = {p:.2f}\")\n",
    "plt.tight_layout()\n",
    "\n",
    "plt.show()\n",
    "\n",
    "#dip, pval = diptest.diptest(np.array(within_dists_c1))\n",
    "#print(f\"C1 = Bimodal distribution Test: p = {pval:.2f}\")"
   ]
  },
  {
   "cell_type": "code",
   "execution_count": null,
   "metadata": {},
   "outputs": [],
   "source": [
    "plt.savefig(f\"C:/Users/Manip2/Documents/Manuscripts/Figures_PNASreviews/Figure1_revised/{NrSubtype}_distance_percluster.svg\", format='svg')"
   ]
  },
  {
   "cell_type": "markdown",
   "metadata": {},
   "source": [
    "### Total activity (all vig states combined) for each cluster"
   ]
  },
  {
   "cell_type": "code",
   "execution_count": null,
   "metadata": {},
   "outputs": [],
   "source": [
    "datatype=[ 'NormalizedAUC_calcium','DeconvSpikeMeanActivity', 'SpikeActivityHz', 'CalciumActivity']\n",
    "fig, axes = plt.subplots(1, len(datatype), figsize=(8, 2))\n",
    "\n",
    "for d,dt in enumerate(datatype): \n",
    "    data_ = df_cluster.pivot_table(index='Unit_ID', columns='ClusterHDBSCAN', values=dt, aggfunc='mean')   \n",
    "\n",
    "    means = data_.mean()\n",
    "    errors = data_.apply(lambda x: sem(x, nan_policy='omit'))\n",
    "    plt.subplot(1,len(datatype),d+1)\n",
    "\n",
    "    x_pos = np.arange(len(data_.columns))\n",
    "    plt.bar(x_pos, means, yerr=errors, capsize=5, color='lightblue', edgecolor='black')\n",
    "\n",
    "    # Plot individual dots\n",
    "    for i, col in enumerate(data_.columns):\n",
    "        y = data_[col].dropna()\n",
    "        x = np.random.normal(loc=x_pos[i], scale=0.05, size=len(y))  # jitter to avoid overlap\n",
    "        plt.scatter(x, y, color='black', alpha=0.7, s=30)\n",
    "\n",
    "    plt.ylabel(dt)\n",
    "    plt.tight_layout()\n",
    "plt.show()"
   ]
  },
  {
   "cell_type": "code",
   "execution_count": null,
   "metadata": {},
   "outputs": [],
   "source": [
    "plt.savefig(f\"C:/Users/Manip2/Documents/Manuscripts/Figures_PNASreviews/Figure1_revised/{NrSubtype}_totactivity_percluster.svg\", format='svg')"
   ]
  },
  {
   "cell_type": "markdown",
   "metadata": {},
   "source": [
    "### Distribution Total activity (all vig states combined) for each cluster"
   ]
  },
  {
   "cell_type": "code",
   "execution_count": null,
   "metadata": {},
   "outputs": [],
   "source": [
    "datatype=[ 'NormalizedAUC_calcium','DeconvSpikeMeanActivity', 'SpikeActivityHz', 'CalciumActivity']\n",
    "xl=[30,0.02,0.3,1.5]\n",
    "fig, axes = plt.subplots(1, len(datatype), figsize=(10, 3))\n",
    "\n",
    "statt=\"count\" #density or count\n",
    "\n",
    "for d,dt in enumerate(datatype): \n",
    "    data_ = df_cluster.pivot_table(index='Unit_ID', columns='ClusterHDBSCAN', values=dt, aggfunc='mean')   \n",
    "\n",
    "    means = data_.mean()\n",
    "    errors = data_.apply(lambda x: sem(x, nan_policy='omit'))\n",
    "\n",
    "    plt.subplot(1,len(datatype),d+1)\n",
    "    sns.histplot(data_, bins=20, binrange=(0, xl[d]),color='black', kde=True, alpha=0.5, kde_kws={'bw_adjust': 0.5}, stat=statt)\n",
    "    plt.xlabel(dt)\n",
    "    plt.ylabel(statt)\n",
    "    plt.xscale('linear') #linear, log, symlog, logit\n",
    "    plt.tight_layout()\n",
    "    \n",
    "    # Force create legend from hue column\n",
    "    handles, labels = plt.gca().get_legend_handles_labels()\n",
    "    if not handles:\n",
    "        handles = [mpatches.Patch(color=sns.color_palette()[i], label=group) \n",
    "                for i, group in enumerate(data_.columns)]\n",
    "        plt.legend(handles=handles, title='Cluster')\n",
    "\n",
    "plt.show()"
   ]
  },
  {
   "cell_type": "code",
   "execution_count": null,
   "metadata": {},
   "outputs": [],
   "source": [
    "plt.savefig(f\"C:/Users/Manip2/Documents/Manuscripts/Figures_PNASreviews/Figure1_revised/{NrSubtype}_Distrib{statt}Totactivity_percluster.svg\", format='svg')"
   ]
  },
  {
   "cell_type": "markdown",
   "metadata": {},
   "source": [
    "### Activity per vig states for each cluster of all data types"
   ]
  },
  {
   "cell_type": "code",
   "execution_count": null,
   "metadata": {},
   "outputs": [],
   "source": [
    "datatype=[ 'NormalizedAUC_calcium','DeconvSpikeMeanActivity', 'SpikeActivityHz', 'CalciumActivity']\n",
    "fig, axes = plt.subplots(1, len(datatype), figsize=(12, 3))\n",
    "\n",
    "for d,dt in enumerate(datatype):\n",
    "        \n",
    "    df = df_cluster.pivot_table(index='Unit_ID', columns=['ClusterHDBSCAN', 'Substate'], values=dt, aggfunc='mean') \n",
    "    try : df = df.drop(columns='undefined', level=1)\n",
    "    except: pass\n",
    "    try : df = df.drop(columns='IS', level=1)\n",
    "    except: pass\n",
    "\n",
    "    desired_order2=['AW','QW', 'NREM', 'REM']\n",
    "    df = df.loc[:, df.columns.reindex(desired_order2, level=1)[0]]\n",
    "    plt.subplot(1,len(datatype),d+1)\n",
    "    # Compute means and SEM\n",
    "    means = df.mean()\n",
    "    errors = df.apply(lambda x: sem(x, nan_policy='omit'))\n",
    "\n",
    "    # Setup bar positions\n",
    "    n_groups = len(df.columns.levels[0])  # Number of groups (e.g., Group1, Group2)\n",
    "    n_subcats = len(df.columns.levels[1])  # Number of subcategories (e.g., A, B, C, D)\n",
    "    bar_width = 0.35\n",
    "    group_width = n_subcats * bar_width + 0.2  # total width per group\n",
    "\n",
    "    # X positions per bar\n",
    "    positions = []\n",
    "    tick_labels = []\n",
    "    xtick_positions = []\n",
    "\n",
    "    # Plot bars and lines connecting individual points for all subcategories within each group\n",
    "    for g_idx, group in enumerate(df.columns.levels[0]):\n",
    "        group_cols = [col for col in df.columns if col[0] == group]\n",
    "        group_means = means[group_cols]\n",
    "        group_errors = errors[group_cols]\n",
    "        group_x = np.arange(len(group_cols)) * bar_width + g_idx * group_width\n",
    "\n",
    "        # Plot bars for the group\n",
    "        plt.bar(group_x, group_means, yerr=group_errors, capsize=4, width=bar_width,\n",
    "            color='#51aeae', edgecolor='black')\n",
    "\n",
    "        # Plot lines connecting corresponding individuals for each pair of subcategories\n",
    "        for i in range(len(group_cols) - 1):  # Loop through subcategories to connect each pair\n",
    "            # Get the data for the two subcategories\n",
    "            group1_values = df[group_cols[i]].dropna()\n",
    "            group2_values = df[group_cols[i + 1]].dropna()\n",
    "\n",
    "            # Loop through corresponding individual values in the two subcategories and plot lines between them\n",
    "            for j in range(min(len(group1_values), len(group2_values))):\n",
    "                plt.plot([group_x[i], group_x[i + 1]], \n",
    "                        [group1_values.iloc[j], group2_values.iloc[j]], \n",
    "                        color='black', alpha=0.6, lw=1, marker='o', markersize=1)\n",
    "\n",
    "        # Store positions for ticks\n",
    "        positions.extend(group_x)\n",
    "        tick_labels.extend([col[1] for col in group_cols])\n",
    "        xtick_positions.extend(group_x)\n",
    "\n",
    "    axes[d].set_xticks(xtick_positions)\n",
    "    axes[d].set_xticklabels(tick_labels, rotation=45)\n",
    "\n",
    "    # Add group labels (Group1, Group2) above bars\n",
    "    group_centers = [i * group_width + (n_subcats - 1) * bar_width / 2 for i in range(n_groups)]\n",
    "    for i, label in enumerate(df.columns.levels[0]):\n",
    "        axes[d].text(group_centers[i], axes[d].get_ylim()[1]*1.02, label, ha='center', va='bottom', fontsize=12,)\n",
    "\n",
    "    # Style\n",
    "    axes[d].set_ylabel(dt)\n",
    "    plt.tight_layout()\n",
    "plt.show()\n"
   ]
  },
  {
   "cell_type": "code",
   "execution_count": null,
   "metadata": {},
   "outputs": [],
   "source": [
    "plt.savefig(f\"C:/Users/Manip2/Documents/Manuscripts/Figures_PNASreviews/Figure1_revised/{NrSubtype}_vigstactivity_percluster.svg\", format='svg')"
   ]
  }
 ],
 "metadata": {
  "kernelspec": {
   "display_name": "minian",
   "language": "python",
   "name": "python3"
  },
  "language_info": {
   "codemirror_mode": {
    "name": "ipython",
    "version": 3
   },
   "file_extension": ".py",
   "mimetype": "text/x-python",
   "name": "python",
   "nbconvert_exporter": "python",
   "pygments_lexer": "ipython3",
   "version": "3.11.7"
  }
 },
 "nbformat": 4,
 "nbformat_minor": 2
}
