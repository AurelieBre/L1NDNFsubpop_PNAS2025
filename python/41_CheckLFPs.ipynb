{
 "cells": [
  {
   "cell_type": "markdown",
   "metadata": {},
   "source": [
    "# Visualisation of LFP channels"
   ]
  },
  {
   "cell_type": "markdown",
   "metadata": {},
   "source": [
    "### Load packages & LFP"
   ]
  },
  {
   "cell_type": "code",
   "execution_count": null,
   "metadata": {},
   "outputs": [],
   "source": [
    "import numpy as np\n",
    "import pandas as pd\n",
    "from pathlib import Path\n",
    "import os\n",
    "from IPython.display import display\n",
    "from ipyfilechooser import FileChooser\n",
    "from ephyviewer import mkQApp, MainViewer, TraceViewer\n",
    "from scipy.stats import zscore\n",
    "from scipy.interpolate import interp1d\n",
    "from itertools import groupby\n",
    "from ephyviewer import mkQApp, MainViewer, TraceViewer, TimeFreqViewer\n",
    "from ephyviewer import InMemoryAnalogSignalSource\n",
    "\n",
    "%matplotlib widget"
   ]
  },
  {
   "cell_type": "code",
   "execution_count": null,
   "metadata": {},
   "outputs": [],
   "source": [
    "try: # tries to retrieve dpath either from a previous run or from a previous notebook\n",
    "    %store -r dpath\n",
    "    #dpath=Path(dpath).parent\n",
    "except:\n",
    "    print(\"the path was not defined in store\")\n",
    "    #dpath = \"/Users/mb/Documents/Syntuitio/AudreyHay/PlanB/ExampleRedLines/2022_08_06/13_30_01/My_V4_Miniscope/\"\n",
    "    dpath = \"//10.69.168.1/crnldata/forgetting/Aurelie/\"\n",
    "\n",
    "\n",
    "fc1 = FileChooser(dpath,select_default=True, show_only_dirs = True, title = \"<b>Go inside the folder containing the file continuous.dat</b>\")\n",
    "display(fc1)\n",
    "\n",
    "# Sample callback function\n",
    "def update_my_folder(chooser):\n",
    "    global dpath\n",
    "    dpath = chooser.selected\n",
    "    %store dpath\n",
    "    return \n",
    "\n",
    "# Register callback function\n",
    "fc1.register_callback(update_my_folder)"
   ]
  },
  {
   "cell_type": "markdown",
   "metadata": {},
   "source": [
    "Load LFPs data "
   ]
  },
  {
   "cell_type": "code",
   "execution_count": null,
   "metadata": {},
   "outputs": [],
   "source": [
    "folder_base = Path(dpath) \n",
    "file=Path(f'{folder_base}\\continuous.dat')\n",
    "DataRec = np.fromfile(file, dtype=\"int16\")\n",
    "\n",
    "filepath = os.path.join(folder_base.parent.parent, f'structure.oebin')\n",
    "with open(filepath) as f:\n",
    "    metadata = json.load(f)\n",
    "samplerate=metadata['continuous'][0]['sample_rate']  \n",
    "numchannel=metadata['continuous'][0]['num_channels']  \n",
    "All = DataRec.reshape(-1,numchannel)\n",
    "\n",
    "print('sample rate = ', samplerate, 'Hz')\n",
    "print(numchannel, 'channels recorded')\n",
    "print(round(All.shape[0]/samplerate/60), 'min of recording')"
   ]
  },
  {
   "cell_type": "markdown",
   "metadata": {},
   "source": [
    "Load LFPs channels"
   ]
  },
  {
   "cell_type": "code",
   "execution_count": null,
   "metadata": {},
   "outputs": [],
   "source": [
    "Channels = '//10.69.168.1/crnldata/waking/audrey_hay/AurelieB/LFPChannels_perMice.xlsx' \n",
    "mice=file.parts[-1].split('_')[0]\n",
    "print(mice)\n",
    "\n",
    "allchannels = pd.read_excel(Channels)\n",
    "\n",
    "PFCch1=int(allchannels[mice][0].split(',')[0])\n",
    "PFCch2=int(allchannels[mice][0].split(',')[1])\n",
    "CA1ch1=int(allchannels[mice][2].split(',')[0])\n",
    "CA1ch2=int(allchannels[mice][2].split(',')[1])\n",
    "S1ch1=int(allchannels[mice][1].split(',')[0])\n",
    "S1ch2=int(allchannels[mice][1].split(',')[1])\n",
    "EMGch1=int(allchannels[mice][3])\n",
    "\n",
    "PFC  =  All[:, PFCch1]-All[:, PFCch2] \n",
    "CA1  =  All[:, CA1ch1]-All[:, CA1ch2] \n",
    "S1  =  All[:, S1ch1]-All[:, S1ch2] \n",
    "EMG  =  All[:, EMGch1]\n",
    "\n",
    "\"\"\"\n",
    "PFC  =  All[:, 5]-All[:, 6] \n",
    "CA1  =  All[:, 29]-All[:, 30] \n",
    "S1  =  All[:, 3]-All[:, 2] \n",
    "EMG  =  All[:, 24]\n",
    "\"\"\"\n",
    "combined = np.stack([zscore(S1),zscore(PFC), zscore(CA1), zscore(EMG)], axis = 1)\n",
    "#combined = np.stack([zscore(S1),zscore(S12),zscore(PFC),zscore(PFC2), zscore(CA1),zscore(CA12), zscore(EMG)], axis = 1)"
   ]
  },
  {
   "cell_type": "markdown",
   "metadata": {},
   "source": [
    "### EphyViewer\n"
   ]
  },
  {
   "cell_type": "markdown",
   "metadata": {},
   "source": [
    "Display selected channels"
   ]
  },
  {
   "cell_type": "code",
   "execution_count": null,
   "metadata": {},
   "outputs": [],
   "source": [
    "app = mkQApp()\n",
    "win = MainViewer(debug=True, show_auto_scale=True)\n",
    "\n",
    "# LFPs\n",
    "t_start = 0.\n",
    "\n",
    "#source = AnalogSignalSourceWithScatter(combined, sample_rate, t_start, scatter_indexes, scatter_channels, scatter_colors= {0: '#FFFFFF', 1: '#222222', 2: '#FFFFFF', 3: '#222222', 4: '#FFFFFF', 5: '#222222'}, channel_names=['S1','PFC', 'CA1', 'EMG', 'Scoring'])\n",
    "source =InMemoryAnalogSignalSource(combined, samplerate, t_start, channel_names=['S1','PFC', 'CA1', 'EMG', 'Scoring'])\n",
    "view1 = TraceViewer(source=source)\n",
    "view1.params['xsize']= 10\n",
    "view1.params['display_labels'] = True\n",
    "view1.params['scale_mode'] = 'same_for_all'\n",
    "view1.auto_scale()\n",
    "view1.by_channel_params['ch0', 'color'] = '#88FF88' #FF0000 red, #00FF00 green, and #0000FF blue\n",
    "view1.by_channel_params['ch1', 'color'] = '#8888FF'\n",
    "view1.by_channel_params['ch2', 'color'] = '#FF8888'\n",
    "view1.by_channel_params['ch3', 'color'] = '#FFFFFF'\n",
    "\n",
    "\n",
    "# FFT\n",
    "view3 = TimeFreqViewer(source=source, name='FFT')\n",
    "\n",
    "view3.params['show_axis'] = True\n",
    "view3.params['timefreq', 'f_start'] = 1\n",
    "view3.params['timefreq', 'f_stop'] = 50\n",
    "view3.params['timefreq', 'deltafreq'] = 1 #interval in Hz\n",
    "view3.params['xsize']= 10\n",
    "\n",
    "view3.by_channel_params['ch0', 'clim'] = 1\n",
    "view3.by_channel_params['ch1', 'clim'] = 1\n",
    "view3.by_channel_params['ch2', 'clim'] = 1\n",
    "view3.by_channel_params['ch0', 'visible'] = True\n",
    "view3.by_channel_params['ch1', 'visible'] = True\n",
    "view3.by_channel_params['ch2', 'visible'] = True\n",
    "view3.by_channel_params['ch3', 'visible'] = False\n",
    "\n",
    "\n",
    "win.add_view(view1)\n",
    "win.add_view(view3)\n",
    "\n",
    "#Run\n",
    "\n",
    "win.show()\n",
    "app.exec_()"
   ]
  },
  {
   "cell_type": "markdown",
   "metadata": {},
   "source": [
    "Display all channels"
   ]
  },
  {
   "cell_type": "code",
   "execution_count": null,
   "metadata": {},
   "outputs": [],
   "source": [
    "%gui qt\n",
    "app = mkQApp()\n",
    "\n",
    "sample_rate = 1000.\n",
    "t_start = 0.\n",
    "\n",
    "#Create the main window that can contain several viewers\n",
    "win = MainViewer()\n",
    "view1 = TraceViewer.from_numpy(All[:,:], sample_rate, t_start, 'Signals')\n",
    "#add them to mainwindow\n",
    "\n",
    "view1.params['display_labels'] = True\n",
    "view1.params['scale_mode'] = 'same_for_all'\n",
    "view1.auto_scale()\n",
    "view1.params['xsize']= 10\n",
    "\n",
    "win.add_view(view1)\n",
    "\n",
    "\n",
    "#Run\n",
    "win.show()\n"
   ]
  }
 ],
 "metadata": {
  "kernelspec": {
   "display_name": "minian",
   "language": "python",
   "name": "python3"
  },
  "language_info": {
   "codemirror_mode": {
    "name": "ipython",
    "version": 3
   },
   "file_extension": ".py",
   "mimetype": "text/x-python",
   "name": "python",
   "nbconvert_exporter": "python",
   "pygments_lexer": "ipython3",
   "version": "3.11.7"
  },
  "orig_nbformat": 4
 },
 "nbformat": 4,
 "nbformat_minor": 2
}
