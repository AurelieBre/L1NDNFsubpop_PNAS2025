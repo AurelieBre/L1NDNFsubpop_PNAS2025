{
 "cells": [
  {
   "cell_type": "markdown",
   "metadata": {},
   "source": [
    "# Visualisation of LFP & Sleep scoring"
   ]
  },
  {
   "cell_type": "markdown",
   "metadata": {},
   "source": [
    "### Import recordings"
   ]
  },
  {
   "cell_type": "markdown",
   "metadata": {},
   "source": [
    "Load packages"
   ]
  },
  {
   "cell_type": "code",
   "execution_count": 2,
   "metadata": {},
   "outputs": [],
   "source": [
    "import numpy as np\n",
    "import pandas as pd\n",
    "from pathlib import Path\n",
    "from scipy import signal\n",
    "import os\n",
    "from IPython.display import display\n",
    "from ipyfilechooser import FileChooser\n",
    "from ephyviewer import mkQApp, MainViewer, TraceViewer\n",
    "import ephyviewer\n",
    "from scipy.stats import zscore\n",
    "from itertools import groupby\n",
    "from ephyviewer import mkQApp, MainViewer, TraceViewer, TimeFreqViewer\n",
    "from ephyviewer import InMemoryAnalogSignalSource\n",
    "from ephyviewer import mkQApp, MainViewer, TraceViewer, CsvEpochSource, EpochEncoder\n",
    "import json\n",
    "import IPython\n",
    "from matplotlib import cm\n",
    "from matplotlib.colors import to_hex\n",
    "import ast\n",
    "from ephyviewer import AnalogSignalSourceWithScatter\n",
    "\n",
    "%matplotlib widget"
   ]
  },
  {
   "cell_type": "code",
   "execution_count": 3,
   "metadata": {},
   "outputs": [],
   "source": [
    "#Load LFP coordinates \n",
    "notebook_path = Path(\"/\".join(IPython.extract_module_locals()[1][\"__vsc_ipynb_file__\"].split(\"/\")[-5:]))\n",
    "Channels = f'{notebook_path.parent}/_LFP_coordinates_of_all_mice.csv'\n",
    "all_LFPcoordinates = pd.read_csv(Channels, index_col=0)"
   ]
  },
  {
   "cell_type": "markdown",
   "metadata": {},
   "source": [
    "Choose OpenEphys folder"
   ]
  },
  {
   "cell_type": "code",
   "execution_count": 4,
   "metadata": {},
   "outputs": [
    {
     "data": {
      "application/vnd.jupyter.widget-view+json": {
       "model_id": "726f31117122493c94d182bd8bb65d8c",
       "version_major": 2,
       "version_minor": 0
      },
      "text/plain": [
       "FileChooser(path='\\\\10.69.168.1\\crnldata\\waking\\audrey_hay\\L1imaging\\Analysed2025_AB\\L1NDNF_mice\\BlueLines\\bas…"
      ]
     },
     "metadata": {},
     "output_type": "display_data"
    }
   ],
   "source": [
    "try: # tries to retrieve dpath either from a previous run or from a previous notebook\n",
    "    %store -r dpath\n",
    "    #dpath=dpath.parent\n",
    "except:\n",
    "    print(\"the path was not defined in store\")\n",
    "    dpath = \"//10.69.168.1/crnldata/forgetting/\"\n",
    "\n",
    "fc1 = FileChooser(dpath,select_default=True, show_only_dirs = True, title = \"<b>Go inside the folder containing the LFP raw file</b>\")\n",
    "display(fc1)\n",
    "\n",
    "# Sample callback function\n",
    "def update_my_folder(chooser):\n",
    "    global dpath\n",
    "    dpath = chooser.selected\n",
    "    %store dpath\n",
    "    return \n",
    "\n",
    "# Register callback function\n",
    "fc1.register_callback(update_my_folder)"
   ]
  },
  {
   "cell_type": "markdown",
   "metadata": {},
   "source": [
    "### Load LFPs data "
   ]
  },
  {
   "cell_type": "code",
   "execution_count": 5,
   "metadata": {},
   "outputs": [
    {
     "name": "stdout",
     "output_type": "stream",
     "text": [
      "DataFrame_rawdataDS.pkl file\n",
      "sample rate = 1000 Hz\n",
      "31 channels recorded\n",
      "5 min of recording\n"
     ]
    }
   ],
   "source": [
    "folder_base = Path(dpath) \n",
    "\n",
    "if Path(f'{folder_base}/DataFrame_rawdataDS.pkl').exists(): # prefer loading downsample file over original file\n",
    "    print('DataFrame_rawdataDS.pkl file')\n",
    "    LFPfile = Path(f'{folder_base}/DataFrame_rawdataDS.pkl')\n",
    "    LFPs_df = pd.read_pickle(LFPfile)\n",
    "    samplerate = 1000 \n",
    "    numchannel = LFPs_df.shape[1]\n",
    "    rec_ch_list = LFPs_df.columns.values\n",
    "    # Load LFPs timestamps \n",
    "    for file_pathTS in folder_base.parent.parent.glob('**/continuous/*/timeStampsDS.npy'):\n",
    "        print('LFPs timestamps file found')\n",
    "        LFPtimestamps = np.load(file_pathTS)  \n",
    "elif Path(f'{folder_base}/RawDataChannelExtractedDS.npy').exists():\n",
    "    print('RawDataChannelExtractedDS.npy file')\n",
    "    LFPfile = Path(f'{folder_base}/RawDataChannelExtractedDS.npy')\n",
    "    DataRec = np.load(LFPfile, mmap_mode= 'r')\n",
    "    samplerate = 1000 \n",
    "    numchannel = DataRec.shape[1]\n",
    "    rec_ch_list = np.arange(0,numchannel,1)\n",
    "    LFPs_df=pd.DataFrame(DataRec, columns=rec_ch_list)\n",
    "    print('No metadata found')\n",
    "elif Path(f'{folder_base}/continuous.dat').exists():\n",
    "    print('continuous.dat file')\n",
    "    LFPfile = Path(f'{folder_base}/continuous.dat')\n",
    "    DataRec = np.fromfile(LFPfile, dtype=\"int16\")\n",
    "    filepath = Path(os.path.join(folder_base.parent.parent, f'structure.oebin'))\n",
    "    #filepath = Path(os.path.join(folder_base, f'structure.oebin'))\n",
    "    with open(filepath) as f:\n",
    "        metadata = json.load(f)\n",
    "    samplerate = metadata['continuous'][0]['sample_rate']  \n",
    "    numchannel = metadata['continuous'][0]['num_channels'] \n",
    "    rec_ch_list = np.array([int(''.join(c for c in metadata['continuous'][0]['channels'][x]['channel_name'] if c.isdigit()))-1 for x in range(0, len(metadata['continuous'][0]['channels']))])\n",
    "    DataRec = DataRec.reshape(-1,numchannel)\n",
    "    print('Metadata found')\n",
    "    # Load LFPs timestamps \n",
    "    for file_pathTS in folder_base.parent.parent.glob('**/continuous/*/timeStamps.npy'):\n",
    "        print('LFPs timestamps file found')\n",
    "        LFPtimestamps = np.load(file_pathTS) \n",
    "    LFPs_df=pd.DataFrame(DataRec, columns=rec_ch_list) \n",
    "else: \n",
    "    print('no LFPs file found')\n",
    "\n",
    "print('sample rate =', samplerate, 'Hz')\n",
    "print(numchannel, 'channels recorded')\n",
    "print(round(LFPs_df.shape[0]/samplerate/60), 'min of recording')"
   ]
  },
  {
   "cell_type": "markdown",
   "metadata": {},
   "source": [
    "Downsample LFP data to 1kHz if needed & save it"
   ]
  },
  {
   "cell_type": "code",
   "execution_count": 6,
   "metadata": {},
   "outputs": [],
   "source": [
    "if samplerate > 1000:\n",
    "    new_sampling_rate = 1000 # Hz\n",
    "    Nmber_points = int(np.shape(LFPs_df)[0] * new_sampling_rate / samplerate)\n",
    "    LFPs_df_DS = pd.DataFrame(signal.resample(LFPs_df, Nmber_points, axis = 0), columns=LFPs_df.columns.values)\n",
    "    LFPtimestampsDS = LFPtimestamps[::int(samplerate/new_sampling_rate)][:-1]\n",
    "    samplerate = new_sampling_rate\n",
    "    LFPs_df_DS.to_pickle(f'{LFPfile.parent}/DataFrame_rawdataDS.pkl')\n",
    "    np.save(f'{file_pathTS.parent}/timeStampsDS.npy', LFPtimestampsDS)\n",
    "    LFPs_df = LFPs_df_DS\n",
    "    LFPtimestamps = LFPtimestampsDS\n",
    "# eventually delete original files to gain space"
   ]
  },
  {
   "cell_type": "markdown",
   "metadata": {},
   "source": [
    "Identify mouse"
   ]
  },
  {
   "cell_type": "code",
   "execution_count": 7,
   "metadata": {},
   "outputs": [
    {
     "name": "stdout",
     "output_type": "stream",
     "text": [
      "/!/ Mutliple mice recorded at the same time, but only one found in the path = BlueLines. The n°1 was choosen automatically = BlueLines.\n"
     ]
    }
   ],
   "source": [
    "mouse = []\n",
    "pos_mice = []\n",
    "for mouse_name in all_LFPcoordinates.index:\n",
    "    if mouse_name in LFPfile.__str__():\n",
    "        mouse.append(mouse_name)\n",
    "        pos_mice.append(LFPfile.__str__().find(mouse_name)) \n",
    "mouse = [x for _, x in sorted(zip(pos_mice, mouse))] # sort mouse in the same order as they appear in the path\n",
    "\n",
    "if len(mouse) > 1: # found multiple mouse name in the path\n",
    "    if max(rec_ch_list) <= 31: # no channels superior to 32, so only one mouse recorded\n",
    "        id = 1 # change to 0 to see the first mouse name found, 1 the second, etc\n",
    "        ID = 0\n",
    "        print(f\"/!/ Mutliple mice name found in the path but only mouse recorded = {mouse}. The n°{id+1} was choosen automatically = {mouse[id]}.\")\n",
    "        mouse = mouse[id]\n",
    "    else:\n",
    "        ###################################################################################################################################\n",
    "        ID = 0 # choose 0 to see the first mouse recorded, 1 the second, 2 the third, 3 the fourth (only 4 mice can be recorded at the same time)\n",
    "        ###################################################################################################################################\n",
    "        print(f\"/!/ Mutliple mice recorded at the same time = {mouse}. The n°{ID+1} was choosen automatically = {mouse[ID]}.\")\n",
    "        mouse = mouse[ID] \n",
    "elif max(rec_ch_list) > 31 & len(mouse) == 1:\n",
    "    ###################################################################################################################################\n",
    "    ID = 0 # choose 0 to see the first mouse recorded, 1 the second, 2 the third, 3 the fourth (only 4 mice can be recorded at the same time)\n",
    "    ###################################################################################################################################\n",
    "    mouse = mouse[0]\n",
    "    print(f\"/!/ Mutliple mice recorded at the same time, but only one found in the path = {mouse}. The n°{ID+1} was choosen automatically = {mouse}.\")\n",
    "elif len(mouse) == 1: # found only one mouse name in the path\n",
    "    ID = 0\n",
    "    mouse = mouse[ID]"
   ]
  },
  {
   "cell_type": "markdown",
   "metadata": {},
   "source": [
    "Identify electrodes & create differential LFPs"
   ]
  },
  {
   "cell_type": "code",
   "execution_count": 8,
   "metadata": {},
   "outputs": [
    {
     "name": "stdout",
     "output_type": "stream",
     "text": [
      "BlueLines\n",
      "['EMG', 'S1', 'PFC', 'CA1']\n",
      "[[11], [18, 19], [14, 15], [21]]\n"
     ]
    }
   ],
   "source": [
    "all_LFPcoordinates = all_LFPcoordinates.astype(str)\n",
    "for region in all_LFPcoordinates.loc[mouse].index:\n",
    "    locals()[region] = []\n",
    "    locals()[f'{region}_ch'] = []\n",
    "\n",
    "RecordedArea = []\n",
    "ChoosenChannels = []\n",
    "combined = []\n",
    "if mouse:\n",
    "    rec_ch_list_mouse = [value for value in rec_ch_list if 0+(ID*32) <= value <= 31+(ID*32)]\n",
    "    for rec_ch in rec_ch_list_mouse:\n",
    "        for idx, LFPcoord_str in enumerate(all_LFPcoordinates.loc[mouse]):\n",
    "            region = all_LFPcoordinates.loc[mouse].index[idx]\n",
    "            if LFPcoord_str != 'nan':\n",
    "                LFPcoord = LFPcoord_str.split('_')[:2] # only take into account the 2 first of electrode of that region \n",
    "                num_ch = np.where(str(rec_ch-(ID*32)) == np.array(LFPcoord))[0]\n",
    "                if len(num_ch) > 0:\n",
    "                    region = all_LFPcoordinates.loc[mouse].index[idx]\n",
    "                    LFP = locals()[region]\n",
    "                    LFP = LFP-np.array(LFPs_df[(rec_ch)]) if len(LFP) > 0 else np.array(LFPs_df[(rec_ch)])\n",
    "                    locals()[region] = LFP\n",
    "                    locals()[f'{region}_ch'].append(rec_ch)\n",
    "                    break\n",
    "                continue\n",
    "    \n",
    "    for region in all_LFPcoordinates.loc[mouse].index:\n",
    "        LFP = locals()[region]\n",
    "        LFP_ch = locals()[f'{region}_ch']\n",
    "        if len(LFP) > 0:\n",
    "            combined = zscore(LFP[:,np.newaxis]) if len(combined) == 0 else np.append(combined, zscore(LFP[:,np.newaxis]), axis=1)\n",
    "            RecordedArea.append(region) \n",
    "            ChoosenChannels.append(LFP_ch) \n",
    "else:\n",
    "    print(\"/!/ No mouse name found in the path OR in the csv file '_LFP_coordinates_of_all_mice.csv'\")\n",
    "    mouse = '' # fill mouse name\n",
    "    RecordedArea = ['EMG','S1','PFC','CA1'] \n",
    "    EMG = LFPs_df[0]\n",
    "    S1 = LFPs_df[0]-LFPs_df[1]\n",
    "    combined = np.stack([zscore(EMG), zscore(S1)], axis=1)\n",
    "\n",
    "print(mouse)\n",
    "print(RecordedArea)\n",
    "print(ChoosenChannels) "
   ]
  },
  {
   "cell_type": "markdown",
   "metadata": {},
   "source": []
  },
  {
   "cell_type": "markdown",
   "metadata": {},
   "source": [
    "### Score sleep manually\n"
   ]
  },
  {
   "cell_type": "markdown",
   "metadata": {},
   "source": [
    "\n",
    "4 stages : Wake, NREM, REM, undefined"
   ]
  },
  {
   "cell_type": "code",
   "execution_count": null,
   "metadata": {},
   "outputs": [],
   "source": [
    "labels = ['Wake_1', 'NREM_2', 'REM_3', 'undefined_4'] # Wake, NREM sleep, REM sleep, undefined states\n",
    "epoch_dur = 5 # define epoch duration in sec\n",
    "winlen = 20 # default window length in sec\n",
    "\n",
    "SleepScoring_filename = f'{dpath}/Sleep_Scoring_{len(labels)}Stages_{epoch_dur}sEpoch.csv'\n",
    "source_epoch = CsvEpochSource(SleepScoring_filename, labels)\n",
    "\n",
    "#you must first create a main Qt application (for event loop)\n",
    "app = mkQApp()\n",
    "\n",
    "t_start = 0.\n",
    "\n",
    "#Create the main window that can contain several viewers\n",
    "win = MainViewer(debug=False, show_auto_scale=True)\n",
    "\n",
    "#create a viewer for signal\n",
    "source =InMemoryAnalogSignalSource(combined, samplerate, t_start, channel_names=RecordedArea)\n",
    "view1 = TraceViewer(source=source)\n",
    "\n",
    "view1.params['xsize']= winlen\n",
    "view1.params['display_labels'] = True\n",
    "view1.params['scale_mode'] = 'same_for_all'\n",
    "colormap = np.insert(['#88FF88', '#8888FF', '#FF8888']* 10, 0, '#FFFFFF')\n",
    "for idx, ch in enumerate(RecordedArea): \n",
    "    view1.by_channel_params[f'ch{idx}', 'color'] = colormap[idx] #FF0000 red, #00FF00 green, and #0000FF blue\n",
    "view1.auto_scale()\n",
    "\n",
    "#create a viewer for the encoder itself\n",
    "view2 = EpochEncoder(source=source_epoch, name='Sleep Scoring')\n",
    "view2.params['xsize'] = winlen\n",
    "view2.params['new_epoch_step'] = epoch_dur\n",
    "\n",
    "view2.by_label_params['label0', 'color'] = '#ffcd69' #AW\n",
    "view2.by_label_params['label1', 'color'] = '#69cfff' #NREM\n",
    "view2.by_label_params['label2', 'color'] = '#ff69cd' #REM\n",
    "view2.by_label_params['label3', 'color'] = '#8f8f8f' #undefined\n",
    "view2.controls.hide()\n",
    "\n",
    "# FFT\n",
    "view3 = TimeFreqViewer(source=source, name='FFT')\n",
    "\n",
    "view3.params['show_axis'] = True\n",
    "view3.params['timefreq', 'f_start'] = 1\n",
    "view3.params['timefreq', 'f_stop'] = 50\n",
    "view3.params['timefreq', 'deltafreq'] = 1 #interval in Hz\n",
    "view3.params['xsize'] = winlen\n",
    "#addItem.ctrl.logXCheck.isChecked()\n",
    "\n",
    "for idx, ch in enumerate(RecordedArea):\n",
    "    if ch == 'EMG': \n",
    "        view3.by_channel_params[f'ch{idx}', 'visible'] = False\n",
    "    else:        \n",
    "        view3.by_channel_params[f'ch{idx}', 'clim'] = 1\n",
    "        view3.by_channel_params[f'ch{idx}', 'visible'] = True\n",
    "\n",
    "\n",
    "#show main window and run Qapp\n",
    "\n",
    "win.add_view(view1)\n",
    "win.add_view(view3)\n",
    "win.add_view(view2)\n",
    "win.navigation_toolbar.spinbox_xsize.setValue(winlen)\n",
    "win.show()\n",
    "\n",
    "app.exec()\n",
    "\n",
    "# press '1', '2', '3', '4' etc, to encode state.\n",
    "# or toggle 'Time range selector' and then use 'Insert within range'"
   ]
  },
  {
   "cell_type": "markdown",
   "metadata": {},
   "source": [
    "6 stages : AW, QW, NREM, IS, REM, undefined"
   ]
  },
  {
   "cell_type": "code",
   "execution_count": null,
   "metadata": {},
   "outputs": [],
   "source": [
    "labels = ['AW_1', 'QW_2', 'NREM_3', 'IS_4',  'REM_5', 'undefined_6'] # Active wake, Quiet wake, NREM sleep, Intermediate sleep, REM sleep, undefined states\n",
    "epoch_dur = 5 # define epoch duration in sec\n",
    "winlen = 20 # default window length in sec\n",
    "\n",
    "SleepScoring_filename = f'{dpath}/Sleep_Scoring_{len(labels)}Stages_{epoch_dur}sEpoch.csv'\n",
    "source_epoch = CsvEpochSource(SleepScoring_filename, labels)\n",
    "\n",
    "#you must first create a main Qt application (for event loop)\n",
    "app = mkQApp()\n",
    "\n",
    "t_start = 0.\n",
    "\n",
    "#Create the main window that can contain several viewers\n",
    "win = MainViewer(debug=False, show_auto_scale=True)\n",
    "\n",
    "#create a viewer for signal\n",
    "source =InMemoryAnalogSignalSource(combined, samplerate, t_start, channel_names=RecordedArea)\n",
    "view1 = TraceViewer(source=source)\n",
    "\n",
    "view1.params['xsize']= winlen\n",
    "view1.params['display_labels'] = True\n",
    "view1.params['scale_mode'] = 'same_for_all'\n",
    "colormap = np.insert(['#88FF88', '#8888FF', '#FF8888']* 10, 0, '#FFFFFF')\n",
    "for idx, ch in enumerate(RecordedArea): \n",
    "    view1.by_channel_params[f'ch{idx}', 'color'] = colormap[idx] #FF0000 red, #00FF00 green, and #0000FF blue\n",
    "view1.auto_scale()\n",
    "\n",
    "#create a viewer for the encoder itself\n",
    "view2 = EpochEncoder(source=source_epoch, name='Sleep Scoring')\n",
    "\n",
    "view2.params['xsize'] = winlen\n",
    "view2.params['new_epoch_step'] = epoch_dur\n",
    "view2.by_label_params['label0', 'color'] = '#ffcd69' #AW\n",
    "view2.by_label_params['label1', 'color'] = '#69ffe6' #QW\n",
    "view2.by_label_params['label2', 'color'] = '#69cfff' #NREM\n",
    "view2.by_label_params['label3', 'color'] = '#cd69ff' #IS\n",
    "view2.by_label_params['label4', 'color'] = '#ff69cd' #REM\n",
    "view2.by_label_params['label5', 'color'] = '#8f8f8f' #undefined\n",
    "view2.controls.hide()\n",
    "\n",
    "# FFT\n",
    "view3 = TimeFreqViewer(source=source, name='FFT')\n",
    "\n",
    "view3.params['show_axis'] = True\n",
    "view3.params['timefreq', 'f_start'] = 1\n",
    "view3.params['timefreq', 'f_stop'] = 50\n",
    "view3.params['timefreq', 'deltafreq'] = 1 #interval in Hz\n",
    "view3.params['xsize'] = winlen\n",
    "for idx, ch in enumerate(RecordedArea):\n",
    "    if ch == 'EMG': \n",
    "        view3.by_channel_params[f'ch{idx}', 'visible'] = False\n",
    "    else:        \n",
    "        view3.by_channel_params[f'ch{idx}', 'clim'] = 1\n",
    "        view3.by_channel_params[f'ch{idx}', 'visible'] = True\n",
    "\n",
    "#show main window and run Qapp\n",
    "\n",
    "win.add_view(view1)\n",
    "win.add_view(view3)\n",
    "win.add_view(view2)\n",
    "win.navigation_toolbar.spinbox_xsize.setValue(winlen)\n",
    "win.show()\n",
    "\n",
    "app.exec()\n",
    "\n",
    "# press '1', '2', '3', '4' etc, to encode state.\n",
    "# or toggle 'Time range selector' and then use 'Insert within range'"
   ]
  },
  {
   "cell_type": "markdown",
   "metadata": {},
   "source": [
    "### Check all channels"
   ]
  },
  {
   "cell_type": "code",
   "execution_count": null,
   "metadata": {},
   "outputs": [],
   "source": [
    "app = mkQApp()\n",
    "winlen = 20 # default window length in sec\n",
    "t_start = 0.\n",
    "\n",
    "#Create the main window that can contain several viewers\n",
    "win = MainViewer(debug=False, show_auto_scale=True)\n",
    "view1 = TraceViewer.from_numpy(np.array(LFPs_df), samplerate, t_start, 'Signals')\n",
    "\n",
    "cmap = cm.Spectral\n",
    "values = np.linspace(0, 1, np.array(LFPs_df).shape[1])\n",
    "colormap = [to_hex(rgb) for rgb in cmap(values)]\n",
    "for idx in range(np.array(LFPs_df).shape[1]): \n",
    "    view1.by_channel_params[f'ch{idx}', 'color'] = colormap[idx]\n",
    "\n",
    "view1.params['display_labels'] = True\n",
    "view1.params['scale_mode'] = 'same_for_all'\n",
    "view1.auto_scale()\n",
    "view1.params['xsize'] = winlen\n",
    "win.add_view(view1)\n",
    "win.navigation_toolbar.spinbox_xsize.setValue(winlen)\n",
    "\n",
    "#Run\n",
    "win.show()\n",
    "app.exec()\n"
   ]
  },
  {
   "cell_type": "markdown",
   "metadata": {},
   "source": [
    "### Flip omnetics headstage"
   ]
  },
  {
   "cell_type": "markdown",
   "metadata": {},
   "source": [
    "Run the cell bellow if you believe that the omnetic headstage was reverted for this mouse during this recording (if you run it twice it will go back to the initial configuration)."
   ]
  },
  {
   "cell_type": "code",
   "execution_count": null,
   "metadata": {},
   "outputs": [],
   "source": [
    "rec_ch_list_ID = LFPs_df.columns-ID*32\n",
    "rec_ch_list_mouse = [value for value in rec_ch_list_ID if 0 <= value <= 31]\n",
    "i = np.argmax(rec_ch_list_ID>=0)\n",
    "inverted_chs = np.concatenate([range(16,32,1), range(0,16,1)], axis=0)\n",
    "LFPs_df_mouse=LFPs_df.iloc[:,i:i+len(rec_ch_list_mouse)]\n",
    "flipped_ch=(inverted_chs[LFPs_df_mouse.columns-(ID*32)])+(ID*32)\n",
    "LFPs_df.columns.values[i:i+len(rec_ch_list_mouse)] = flipped_ch\n",
    "LFPs_df = LFPs_df.sort_index(axis=1)\n",
    "\n",
    "# Reselect electrodes\n",
    "all_LFPcoordinates = all_LFPcoordinates.astype(str)\n",
    "for region in all_LFPcoordinates.loc[mouse].index:\n",
    "    locals()[region] = []\n",
    "    locals()[f'{region}_ch'] = []\n",
    "    \n",
    "RecordedArea = []\n",
    "ChoosenChannels = []\n",
    "combined = []\n",
    "if mouse:\n",
    "    rec_ch_list_mouse = [value for value in rec_ch_list if 0+(ID*32) <= value <= 31+(ID*32)]\n",
    "    for rec_ch in rec_ch_list_mouse:\n",
    "        for idx, LFPcoord_str in enumerate(all_LFPcoordinates.loc[mouse]):\n",
    "            region = all_LFPcoordinates.loc[mouse].index[idx]\n",
    "            if LFPcoord_str != 'nan':\n",
    "                LFPcoord = LFPcoord_str.split('_')[:2] # only take into account the 2 first of electrode of that region \n",
    "                num_ch = np.where(str(rec_ch-(ID*32)) == np.array(LFPcoord))[0]\n",
    "                if len(num_ch) > 0:\n",
    "                    region = all_LFPcoordinates.loc[mouse].index[idx]\n",
    "                    LFP = locals()[region]\n",
    "                    LFP = LFP-np.array(LFPs_df[(rec_ch)]) if len(LFP) > 0 else np.array(LFPs_df[(rec_ch)])\n",
    "                    locals()[region] = LFP\n",
    "                    locals()[f'{region}_ch'].append(rec_ch)\n",
    "                    break\n",
    "                continue\n",
    "    \n",
    "    for region in all_LFPcoordinates.loc[mouse].index:\n",
    "        LFP = locals()[region]\n",
    "        LFP_ch = locals()[f'{region}_ch']\n",
    "        if len(LFP) > 0:\n",
    "            combined = zscore(LFP[:,np.newaxis]) if len(combined) == 0 else np.append(combined, zscore(LFP[:,np.newaxis]), axis=1)\n",
    "            RecordedArea.append(region) \n",
    "            ChoosenChannels.append(LFP_ch) \n",
    "else:\n",
    "    print(\"/!/ No mouse name found in the path OR in the csv file '_LFP_coordinates_of_all_mice.csv'\")\n",
    "    mouse = '' # fill mouse name\n",
    "    RecordedArea = ['EMG','S1','PFC','CA1'] \n",
    "    EMG = LFPs_df[0]\n",
    "    S1 = LFPs_df[0]-LFPs_df[1]\n",
    "    combined = np.stack([zscore(EMG), zscore(S1)], axis=1)\n",
    "\n",
    "print(mouse)\n",
    "print(RecordedArea)\n",
    "print(ChoosenChannels) "
   ]
  },
  {
   "cell_type": "markdown",
   "metadata": {},
   "source": [
    "Save if you're now sure that the omnetic headstage was reverted for this mouse during this recording"
   ]
  },
  {
   "cell_type": "code",
   "execution_count": null,
   "metadata": {},
   "outputs": [],
   "source": [
    "if samplerate <= 1000:\n",
    "    LFPs_df.to_pickle(f'{LFPfile.parent}/DataFrame_rawdataDS.pkl')\n",
    "else: # best to downsample too\n",
    "    new_sampling_rate = 1000 # Hz\n",
    "    Nmber_points = int(np.shape(LFPs_df)[0] * new_sampling_rate / samplerate)\n",
    "    LFPs_df_DS = pd.DataFrame(signal.resample(LFPs_df, Nmber_points, axis = 0), columns=LFPs_df.columns.values)\n",
    "    LFPs_df_DS.to_pickle(f'{LFPfile.parent}/DataFrame_rawdataDS.pkl')"
   ]
  },
  {
   "cell_type": "markdown",
   "metadata": {},
   "source": [
    "Save a portion of the signals"
   ]
  },
  {
   "cell_type": "code",
   "execution_count": null,
   "metadata": {},
   "outputs": [],
   "source": [
    "#LFPs_df.iloc[:,33:65].to_pickle(f'{LFPfile.parent}/DataFrame_rawdataDS.pkl')\n",
    "LFPs_df.iloc[:,0:32].to_pickle(f'{LFPfile.parent}/DataFrame_rawdataDS.pkl')"
   ]
  },
  {
   "cell_type": "markdown",
   "metadata": {},
   "source": [
    "Save the signals with timestamps"
   ]
  },
  {
   "cell_type": "code",
   "execution_count": null,
   "metadata": {},
   "outputs": [],
   "source": [
    "if samplerate <= 1000:\n",
    "    LFPs_df.to_pickle(f'{LFPfile.parent}/DataFrame_rawdataDS.pkl')\n",
    "else: # best to downsample too\n",
    "    new_sampling_rate = 1000 # Hz\n",
    "    Nmber_points = int(np.shape(LFPs_df)[0] * new_sampling_rate / samplerate)\n",
    "    LFPs_df_DS = pd.DataFrame(signal.resample(LFPs_df, Nmber_points, axis = 0), columns=LFPs_df.columns.values)\n",
    "    LFPs_df_DS.to_pickle(f'{LFPfile.parent}/DataFrame_rawdataDS.pkl')\n",
    "    \n",
    "    LFPtimestampsDS = LFPtimestamps[::int(samplerate/new_sampling_rate)][:-1]\n",
    "    samplerate = new_sampling_rate\n",
    "    np.save(f'{file_pathTS.parent}/timeStampsDS.npy', LFPtimestampsDS)\n",
    "    LFPs_df = LFPs_df_DS\n",
    "    LFPtimestamps = LFPtimestampsDS"
   ]
  },
  {
   "cell_type": "markdown",
   "metadata": {},
   "source": [
    "### Visualize detected oscillations "
   ]
  },
  {
   "cell_type": "markdown",
   "metadata": {},
   "source": [
    "Upload detected oscillation"
   ]
  },
  {
   "cell_type": "code",
   "execution_count": null,
   "metadata": {},
   "outputs": [],
   "source": [
    "# SWR     \n",
    "SWSdetection=folder_base / f'SWR_detection.csv'\n",
    "SWR_prop = pd.read_csv(SWSdetection, index_col=0)  \n",
    "SWR_prop['toKeep'] = SWR_prop['toKeep'].astype(str)\n",
    "SWR_prop  = SWR_prop[SWR_prop['toKeep'].isin(['VRAI', 'True'])]   \n",
    "SWR_start = np.transpose((SWR_prop['start time']).astype(int))\n",
    "SWR_end = np.transpose((SWR_prop['end time']).astype(int))\n",
    "\n",
    "# Spindles\n",
    "Spdldetection=folder_base / f'SpindlesS1&PFC_detection.csv'\n",
    "Spdl_prop = pd.read_csv(Spdldetection, index_col=0)  \n",
    "Spdl_prop['toKeep'] = Spdl_prop['toKeep'].astype(str)\n",
    "Spdl_prop  = Spdl_prop[Spdl_prop['toKeep'].isin(['VRAI', 'True'])]   \n",
    "\n",
    "S1Spdl_prop= Spdl_prop[Spdl_prop['CTX']=='S1']\n",
    "S1spdl_start = np.transpose(S1Spdl_prop['start time'].astype(int))\n",
    "S1spdl_end = np.transpose(S1Spdl_prop['end time'].astype(int))\n",
    "\n",
    "PFCSpdl_prop= Spdl_prop[Spdl_prop['CTX']=='PFC']\n",
    "PFCspdl_start = np.transpose(PFCSpdl_prop['start time'].astype(int))\n",
    "PFCspdl_end = np.transpose(PFCSpdl_prop['end time'].astype(int))\n",
    "\n",
    "GlobalSpdl_prop= Spdl_prop[Spdl_prop['CTX']=='S1PFC']\n",
    "GBLspdl_start = np.transpose(GlobalSpdl_prop['start time'].astype(int))\n",
    "GBLspdl_end = np.transpose(GlobalSpdl_prop['end time'].astype(int))\n",
    "\n",
    "print(f'{len(SWR_end)} SWR in CA1, {len(S1spdl_end)} Spdl in S1, {len(PFCspdl_end)} Spdl in PFC, {len(GBLspdl_end)} Global Spdl')"
   ]
  },
  {
   "cell_type": "code",
   "execution_count": null,
   "metadata": {},
   "outputs": [
    {
     "ename": "ValueError",
     "evalue": "The length of the input vector x must be greater than padlen, which is 27.",
     "output_type": "error",
     "traceback": [
      "\u001b[1;31m---------------------------------------------------------------------------\u001b[0m",
      "\u001b[1;31mValueError\u001b[0m                                Traceback (most recent call last)",
      "File \u001b[1;32mc:\\Users\\Manip2\\.conda\\envs\\minian\\Lib\\site-packages\\ephyviewer\\timefreqviewer.py:194\u001b[0m, in \u001b[0;36mTimeFreqWorker.on_request_data\u001b[1;34m(self, chan, t, t_start, t_stop, visible_channels, worker_params)\u001b[0m\n\u001b[0;32m    191\u001b[0m sig \u001b[38;5;241m=\u001b[39m sigs_chunk[:, chan]\n\u001b[0;32m    193\u001b[0m \u001b[38;5;28;01mif\u001b[39;00m ds_ratio\u001b[38;5;241m>\u001b[39m\u001b[38;5;241m1\u001b[39m:\n\u001b[1;32m--> 194\u001b[0m     small_sig \u001b[38;5;241m=\u001b[39m \u001b[43mscipy\u001b[49m\u001b[38;5;241;43m.\u001b[39;49m\u001b[43msignal\u001b[49m\u001b[38;5;241;43m.\u001b[39;49m\u001b[43msosfiltfilt\u001b[49m\u001b[43m(\u001b[49m\u001b[43mfilter_sos\u001b[49m\u001b[43m,\u001b[49m\u001b[43m \u001b[49m\u001b[43msig\u001b[49m\u001b[43m)\u001b[49m\n\u001b[0;32m    195\u001b[0m     small_sig \u001b[38;5;241m=\u001b[39msmall_sig[::ds_ratio]\u001b[38;5;241m.\u001b[39mcopy()  \u001b[38;5;66;03m# to ensure continuity\u001b[39;00m\n\u001b[0;32m    196\u001b[0m \u001b[38;5;28;01melse\u001b[39;00m:\n",
      "File \u001b[1;32mc:\\Users\\Manip2\\.conda\\envs\\minian\\Lib\\site-packages\\scipy\\signal\\_signaltools.py:4440\u001b[0m, in \u001b[0;36msosfiltfilt\u001b[1;34m(sos, x, axis, padtype, padlen)\u001b[0m\n\u001b[0;32m   4438\u001b[0m ntaps \u001b[38;5;241m=\u001b[39m \u001b[38;5;241m2\u001b[39m \u001b[38;5;241m*\u001b[39m n_sections \u001b[38;5;241m+\u001b[39m \u001b[38;5;241m1\u001b[39m\n\u001b[0;32m   4439\u001b[0m ntaps \u001b[38;5;241m-\u001b[39m\u001b[38;5;241m=\u001b[39m \u001b[38;5;28mmin\u001b[39m((sos[:, \u001b[38;5;241m2\u001b[39m] \u001b[38;5;241m==\u001b[39m \u001b[38;5;241m0\u001b[39m)\u001b[38;5;241m.\u001b[39msum(), (sos[:, \u001b[38;5;241m5\u001b[39m] \u001b[38;5;241m==\u001b[39m \u001b[38;5;241m0\u001b[39m)\u001b[38;5;241m.\u001b[39msum())\n\u001b[1;32m-> 4440\u001b[0m edge, ext \u001b[38;5;241m=\u001b[39m \u001b[43m_validate_pad\u001b[49m\u001b[43m(\u001b[49m\u001b[43mpadtype\u001b[49m\u001b[43m,\u001b[49m\u001b[43m \u001b[49m\u001b[43mpadlen\u001b[49m\u001b[43m,\u001b[49m\u001b[43m \u001b[49m\u001b[43mx\u001b[49m\u001b[43m,\u001b[49m\u001b[43m \u001b[49m\u001b[43maxis\u001b[49m\u001b[43m,\u001b[49m\n\u001b[0;32m   4441\u001b[0m \u001b[43m                          \u001b[49m\u001b[43mntaps\u001b[49m\u001b[38;5;241;43m=\u001b[39;49m\u001b[43mntaps\u001b[49m\u001b[43m)\u001b[49m\n\u001b[0;32m   4443\u001b[0m \u001b[38;5;66;03m# These steps follow the same form as filtfilt with modifications\u001b[39;00m\n\u001b[0;32m   4444\u001b[0m zi \u001b[38;5;241m=\u001b[39m sosfilt_zi(sos)  \u001b[38;5;66;03m# shape (n_sections, 2) --> (n_sections, ..., 2, ...)\u001b[39;00m\n",
      "File \u001b[1;32mc:\\Users\\Manip2\\.conda\\envs\\minian\\Lib\\site-packages\\scipy\\signal\\_signaltools.py:4209\u001b[0m, in \u001b[0;36m_validate_pad\u001b[1;34m(padtype, padlen, x, axis, ntaps)\u001b[0m\n\u001b[0;32m   4207\u001b[0m \u001b[38;5;66;03m# x's 'axis' dimension must be bigger than edge.\u001b[39;00m\n\u001b[0;32m   4208\u001b[0m \u001b[38;5;28;01mif\u001b[39;00m x\u001b[38;5;241m.\u001b[39mshape[axis] \u001b[38;5;241m<\u001b[39m\u001b[38;5;241m=\u001b[39m edge:\n\u001b[1;32m-> 4209\u001b[0m     \u001b[38;5;28;01mraise\u001b[39;00m \u001b[38;5;167;01mValueError\u001b[39;00m(\u001b[38;5;124m\"\u001b[39m\u001b[38;5;124mThe length of the input vector x must be greater \u001b[39m\u001b[38;5;124m\"\u001b[39m\n\u001b[0;32m   4210\u001b[0m                      \u001b[38;5;124m\"\u001b[39m\u001b[38;5;124mthan padlen, which is \u001b[39m\u001b[38;5;132;01m%d\u001b[39;00m\u001b[38;5;124m.\u001b[39m\u001b[38;5;124m\"\u001b[39m \u001b[38;5;241m%\u001b[39m edge)\n\u001b[0;32m   4212\u001b[0m \u001b[38;5;28;01mif\u001b[39;00m padtype \u001b[38;5;129;01mis\u001b[39;00m \u001b[38;5;129;01mnot\u001b[39;00m \u001b[38;5;28;01mNone\u001b[39;00m \u001b[38;5;129;01mand\u001b[39;00m edge \u001b[38;5;241m>\u001b[39m \u001b[38;5;241m0\u001b[39m:\n\u001b[0;32m   4213\u001b[0m     \u001b[38;5;66;03m# Make an extension of length `edge` at each\u001b[39;00m\n\u001b[0;32m   4214\u001b[0m     \u001b[38;5;66;03m# end of the input array.\u001b[39;00m\n\u001b[0;32m   4215\u001b[0m     \u001b[38;5;28;01mif\u001b[39;00m padtype \u001b[38;5;241m==\u001b[39m \u001b[38;5;124m'\u001b[39m\u001b[38;5;124meven\u001b[39m\u001b[38;5;124m'\u001b[39m:\n",
      "\u001b[1;31mValueError\u001b[0m: The length of the input vector x must be greater than padlen, which is 27."
     ]
    },
    {
     "name": "stdout",
     "output_type": "stream",
     "text": [
      "viewer has moved already 1 334.25 325.65500000000003\n"
     ]
    },
    {
     "ename": "ValueError",
     "evalue": "The length of the input vector x must be greater than padlen, which is 27.",
     "output_type": "error",
     "traceback": [
      "\u001b[1;31m---------------------------------------------------------------------------\u001b[0m",
      "\u001b[1;31mValueError\u001b[0m                                Traceback (most recent call last)",
      "File \u001b[1;32mc:\\Users\\Manip2\\.conda\\envs\\minian\\Lib\\site-packages\\ephyviewer\\timefreqviewer.py:194\u001b[0m, in \u001b[0;36mTimeFreqWorker.on_request_data\u001b[1;34m(self, chan, t, t_start, t_stop, visible_channels, worker_params)\u001b[0m\n\u001b[0;32m    191\u001b[0m sig \u001b[38;5;241m=\u001b[39m sigs_chunk[:, chan]\n\u001b[0;32m    193\u001b[0m \u001b[38;5;28;01mif\u001b[39;00m ds_ratio\u001b[38;5;241m>\u001b[39m\u001b[38;5;241m1\u001b[39m:\n\u001b[1;32m--> 194\u001b[0m     small_sig \u001b[38;5;241m=\u001b[39m \u001b[43mscipy\u001b[49m\u001b[38;5;241;43m.\u001b[39;49m\u001b[43msignal\u001b[49m\u001b[38;5;241;43m.\u001b[39;49m\u001b[43msosfiltfilt\u001b[49m\u001b[43m(\u001b[49m\u001b[43mfilter_sos\u001b[49m\u001b[43m,\u001b[49m\u001b[43m \u001b[49m\u001b[43msig\u001b[49m\u001b[43m)\u001b[49m\n\u001b[0;32m    195\u001b[0m     small_sig \u001b[38;5;241m=\u001b[39msmall_sig[::ds_ratio]\u001b[38;5;241m.\u001b[39mcopy()  \u001b[38;5;66;03m# to ensure continuity\u001b[39;00m\n\u001b[0;32m    196\u001b[0m \u001b[38;5;28;01melse\u001b[39;00m:\n",
      "File \u001b[1;32mc:\\Users\\Manip2\\.conda\\envs\\minian\\Lib\\site-packages\\scipy\\signal\\_signaltools.py:4440\u001b[0m, in \u001b[0;36msosfiltfilt\u001b[1;34m(sos, x, axis, padtype, padlen)\u001b[0m\n\u001b[0;32m   4438\u001b[0m ntaps \u001b[38;5;241m=\u001b[39m \u001b[38;5;241m2\u001b[39m \u001b[38;5;241m*\u001b[39m n_sections \u001b[38;5;241m+\u001b[39m \u001b[38;5;241m1\u001b[39m\n\u001b[0;32m   4439\u001b[0m ntaps \u001b[38;5;241m-\u001b[39m\u001b[38;5;241m=\u001b[39m \u001b[38;5;28mmin\u001b[39m((sos[:, \u001b[38;5;241m2\u001b[39m] \u001b[38;5;241m==\u001b[39m \u001b[38;5;241m0\u001b[39m)\u001b[38;5;241m.\u001b[39msum(), (sos[:, \u001b[38;5;241m5\u001b[39m] \u001b[38;5;241m==\u001b[39m \u001b[38;5;241m0\u001b[39m)\u001b[38;5;241m.\u001b[39msum())\n\u001b[1;32m-> 4440\u001b[0m edge, ext \u001b[38;5;241m=\u001b[39m \u001b[43m_validate_pad\u001b[49m\u001b[43m(\u001b[49m\u001b[43mpadtype\u001b[49m\u001b[43m,\u001b[49m\u001b[43m \u001b[49m\u001b[43mpadlen\u001b[49m\u001b[43m,\u001b[49m\u001b[43m \u001b[49m\u001b[43mx\u001b[49m\u001b[43m,\u001b[49m\u001b[43m \u001b[49m\u001b[43maxis\u001b[49m\u001b[43m,\u001b[49m\n\u001b[0;32m   4441\u001b[0m \u001b[43m                          \u001b[49m\u001b[43mntaps\u001b[49m\u001b[38;5;241;43m=\u001b[39;49m\u001b[43mntaps\u001b[49m\u001b[43m)\u001b[49m\n\u001b[0;32m   4443\u001b[0m \u001b[38;5;66;03m# These steps follow the same form as filtfilt with modifications\u001b[39;00m\n\u001b[0;32m   4444\u001b[0m zi \u001b[38;5;241m=\u001b[39m sosfilt_zi(sos)  \u001b[38;5;66;03m# shape (n_sections, 2) --> (n_sections, ..., 2, ...)\u001b[39;00m\n",
      "File \u001b[1;32mc:\\Users\\Manip2\\.conda\\envs\\minian\\Lib\\site-packages\\scipy\\signal\\_signaltools.py:4209\u001b[0m, in \u001b[0;36m_validate_pad\u001b[1;34m(padtype, padlen, x, axis, ntaps)\u001b[0m\n\u001b[0;32m   4207\u001b[0m \u001b[38;5;66;03m# x's 'axis' dimension must be bigger than edge.\u001b[39;00m\n\u001b[0;32m   4208\u001b[0m \u001b[38;5;28;01mif\u001b[39;00m x\u001b[38;5;241m.\u001b[39mshape[axis] \u001b[38;5;241m<\u001b[39m\u001b[38;5;241m=\u001b[39m edge:\n\u001b[1;32m-> 4209\u001b[0m     \u001b[38;5;28;01mraise\u001b[39;00m \u001b[38;5;167;01mValueError\u001b[39;00m(\u001b[38;5;124m\"\u001b[39m\u001b[38;5;124mThe length of the input vector x must be greater \u001b[39m\u001b[38;5;124m\"\u001b[39m\n\u001b[0;32m   4210\u001b[0m                      \u001b[38;5;124m\"\u001b[39m\u001b[38;5;124mthan padlen, which is \u001b[39m\u001b[38;5;132;01m%d\u001b[39;00m\u001b[38;5;124m.\u001b[39m\u001b[38;5;124m\"\u001b[39m \u001b[38;5;241m%\u001b[39m edge)\n\u001b[0;32m   4212\u001b[0m \u001b[38;5;28;01mif\u001b[39;00m padtype \u001b[38;5;129;01mis\u001b[39;00m \u001b[38;5;129;01mnot\u001b[39;00m \u001b[38;5;28;01mNone\u001b[39;00m \u001b[38;5;129;01mand\u001b[39;00m edge \u001b[38;5;241m>\u001b[39m \u001b[38;5;241m0\u001b[39m:\n\u001b[0;32m   4213\u001b[0m     \u001b[38;5;66;03m# Make an extension of length `edge` at each\u001b[39;00m\n\u001b[0;32m   4214\u001b[0m     \u001b[38;5;66;03m# end of the input array.\u001b[39;00m\n\u001b[0;32m   4215\u001b[0m     \u001b[38;5;28;01mif\u001b[39;00m padtype \u001b[38;5;241m==\u001b[39m \u001b[38;5;124m'\u001b[39m\u001b[38;5;124meven\u001b[39m\u001b[38;5;124m'\u001b[39m:\n",
      "\u001b[1;31mValueError\u001b[0m: The length of the input vector x must be greater than padlen, which is 27."
     ]
    },
    {
     "ename": "ValueError",
     "evalue": "The length of the input vector x must be greater than padlen, which is 27.",
     "output_type": "error",
     "traceback": [
      "\u001b[1;31m---------------------------------------------------------------------------\u001b[0m",
      "\u001b[1;31mValueError\u001b[0m                                Traceback (most recent call last)",
      "File \u001b[1;32mc:\\Users\\Manip2\\.conda\\envs\\minian\\Lib\\site-packages\\ephyviewer\\timefreqviewer.py:194\u001b[0m, in \u001b[0;36mTimeFreqWorker.on_request_data\u001b[1;34m(self, chan, t, t_start, t_stop, visible_channels, worker_params)\u001b[0m\n\u001b[0;32m    191\u001b[0m sig \u001b[38;5;241m=\u001b[39m sigs_chunk[:, chan]\n\u001b[0;32m    193\u001b[0m \u001b[38;5;28;01mif\u001b[39;00m ds_ratio\u001b[38;5;241m>\u001b[39m\u001b[38;5;241m1\u001b[39m:\n\u001b[1;32m--> 194\u001b[0m     small_sig \u001b[38;5;241m=\u001b[39m \u001b[43mscipy\u001b[49m\u001b[38;5;241;43m.\u001b[39;49m\u001b[43msignal\u001b[49m\u001b[38;5;241;43m.\u001b[39;49m\u001b[43msosfiltfilt\u001b[49m\u001b[43m(\u001b[49m\u001b[43mfilter_sos\u001b[49m\u001b[43m,\u001b[49m\u001b[43m \u001b[49m\u001b[43msig\u001b[49m\u001b[43m)\u001b[49m\n\u001b[0;32m    195\u001b[0m     small_sig \u001b[38;5;241m=\u001b[39msmall_sig[::ds_ratio]\u001b[38;5;241m.\u001b[39mcopy()  \u001b[38;5;66;03m# to ensure continuity\u001b[39;00m\n\u001b[0;32m    196\u001b[0m \u001b[38;5;28;01melse\u001b[39;00m:\n",
      "File \u001b[1;32mc:\\Users\\Manip2\\.conda\\envs\\minian\\Lib\\site-packages\\scipy\\signal\\_signaltools.py:4440\u001b[0m, in \u001b[0;36msosfiltfilt\u001b[1;34m(sos, x, axis, padtype, padlen)\u001b[0m\n\u001b[0;32m   4438\u001b[0m ntaps \u001b[38;5;241m=\u001b[39m \u001b[38;5;241m2\u001b[39m \u001b[38;5;241m*\u001b[39m n_sections \u001b[38;5;241m+\u001b[39m \u001b[38;5;241m1\u001b[39m\n\u001b[0;32m   4439\u001b[0m ntaps \u001b[38;5;241m-\u001b[39m\u001b[38;5;241m=\u001b[39m \u001b[38;5;28mmin\u001b[39m((sos[:, \u001b[38;5;241m2\u001b[39m] \u001b[38;5;241m==\u001b[39m \u001b[38;5;241m0\u001b[39m)\u001b[38;5;241m.\u001b[39msum(), (sos[:, \u001b[38;5;241m5\u001b[39m] \u001b[38;5;241m==\u001b[39m \u001b[38;5;241m0\u001b[39m)\u001b[38;5;241m.\u001b[39msum())\n\u001b[1;32m-> 4440\u001b[0m edge, ext \u001b[38;5;241m=\u001b[39m \u001b[43m_validate_pad\u001b[49m\u001b[43m(\u001b[49m\u001b[43mpadtype\u001b[49m\u001b[43m,\u001b[49m\u001b[43m \u001b[49m\u001b[43mpadlen\u001b[49m\u001b[43m,\u001b[49m\u001b[43m \u001b[49m\u001b[43mx\u001b[49m\u001b[43m,\u001b[49m\u001b[43m \u001b[49m\u001b[43maxis\u001b[49m\u001b[43m,\u001b[49m\n\u001b[0;32m   4441\u001b[0m \u001b[43m                          \u001b[49m\u001b[43mntaps\u001b[49m\u001b[38;5;241;43m=\u001b[39;49m\u001b[43mntaps\u001b[49m\u001b[43m)\u001b[49m\n\u001b[0;32m   4443\u001b[0m \u001b[38;5;66;03m# These steps follow the same form as filtfilt with modifications\u001b[39;00m\n\u001b[0;32m   4444\u001b[0m zi \u001b[38;5;241m=\u001b[39m sosfilt_zi(sos)  \u001b[38;5;66;03m# shape (n_sections, 2) --> (n_sections, ..., 2, ...)\u001b[39;00m\n",
      "File \u001b[1;32mc:\\Users\\Manip2\\.conda\\envs\\minian\\Lib\\site-packages\\scipy\\signal\\_signaltools.py:4209\u001b[0m, in \u001b[0;36m_validate_pad\u001b[1;34m(padtype, padlen, x, axis, ntaps)\u001b[0m\n\u001b[0;32m   4207\u001b[0m \u001b[38;5;66;03m# x's 'axis' dimension must be bigger than edge.\u001b[39;00m\n\u001b[0;32m   4208\u001b[0m \u001b[38;5;28;01mif\u001b[39;00m x\u001b[38;5;241m.\u001b[39mshape[axis] \u001b[38;5;241m<\u001b[39m\u001b[38;5;241m=\u001b[39m edge:\n\u001b[1;32m-> 4209\u001b[0m     \u001b[38;5;28;01mraise\u001b[39;00m \u001b[38;5;167;01mValueError\u001b[39;00m(\u001b[38;5;124m\"\u001b[39m\u001b[38;5;124mThe length of the input vector x must be greater \u001b[39m\u001b[38;5;124m\"\u001b[39m\n\u001b[0;32m   4210\u001b[0m                      \u001b[38;5;124m\"\u001b[39m\u001b[38;5;124mthan padlen, which is \u001b[39m\u001b[38;5;132;01m%d\u001b[39;00m\u001b[38;5;124m.\u001b[39m\u001b[38;5;124m\"\u001b[39m \u001b[38;5;241m%\u001b[39m edge)\n\u001b[0;32m   4212\u001b[0m \u001b[38;5;28;01mif\u001b[39;00m padtype \u001b[38;5;129;01mis\u001b[39;00m \u001b[38;5;129;01mnot\u001b[39;00m \u001b[38;5;28;01mNone\u001b[39;00m \u001b[38;5;129;01mand\u001b[39;00m edge \u001b[38;5;241m>\u001b[39m \u001b[38;5;241m0\u001b[39m:\n\u001b[0;32m   4213\u001b[0m     \u001b[38;5;66;03m# Make an extension of length `edge` at each\u001b[39;00m\n\u001b[0;32m   4214\u001b[0m     \u001b[38;5;66;03m# end of the input array.\u001b[39;00m\n\u001b[0;32m   4215\u001b[0m     \u001b[38;5;28;01mif\u001b[39;00m padtype \u001b[38;5;241m==\u001b[39m \u001b[38;5;124m'\u001b[39m\u001b[38;5;124meven\u001b[39m\u001b[38;5;124m'\u001b[39m:\n",
      "\u001b[1;31mValueError\u001b[0m: The length of the input vector x must be greater than padlen, which is 27."
     ]
    },
    {
     "ename": "ValueError",
     "evalue": "The length of the input vector x must be greater than padlen, which is 27.",
     "output_type": "error",
     "traceback": [
      "\u001b[1;31m---------------------------------------------------------------------------\u001b[0m",
      "\u001b[1;31mValueError\u001b[0m                                Traceback (most recent call last)",
      "File \u001b[1;32mc:\\Users\\Manip2\\.conda\\envs\\minian\\Lib\\site-packages\\ephyviewer\\timefreqviewer.py:194\u001b[0m, in \u001b[0;36mTimeFreqWorker.on_request_data\u001b[1;34m(self, chan, t, t_start, t_stop, visible_channels, worker_params)\u001b[0m\n\u001b[0;32m    191\u001b[0m sig \u001b[38;5;241m=\u001b[39m sigs_chunk[:, chan]\n\u001b[0;32m    193\u001b[0m \u001b[38;5;28;01mif\u001b[39;00m ds_ratio\u001b[38;5;241m>\u001b[39m\u001b[38;5;241m1\u001b[39m:\n\u001b[1;32m--> 194\u001b[0m     small_sig \u001b[38;5;241m=\u001b[39m \u001b[43mscipy\u001b[49m\u001b[38;5;241;43m.\u001b[39;49m\u001b[43msignal\u001b[49m\u001b[38;5;241;43m.\u001b[39;49m\u001b[43msosfiltfilt\u001b[49m\u001b[43m(\u001b[49m\u001b[43mfilter_sos\u001b[49m\u001b[43m,\u001b[49m\u001b[43m \u001b[49m\u001b[43msig\u001b[49m\u001b[43m)\u001b[49m\n\u001b[0;32m    195\u001b[0m     small_sig \u001b[38;5;241m=\u001b[39msmall_sig[::ds_ratio]\u001b[38;5;241m.\u001b[39mcopy()  \u001b[38;5;66;03m# to ensure continuity\u001b[39;00m\n\u001b[0;32m    196\u001b[0m \u001b[38;5;28;01melse\u001b[39;00m:\n",
      "File \u001b[1;32mc:\\Users\\Manip2\\.conda\\envs\\minian\\Lib\\site-packages\\scipy\\signal\\_signaltools.py:4440\u001b[0m, in \u001b[0;36msosfiltfilt\u001b[1;34m(sos, x, axis, padtype, padlen)\u001b[0m\n\u001b[0;32m   4438\u001b[0m ntaps \u001b[38;5;241m=\u001b[39m \u001b[38;5;241m2\u001b[39m \u001b[38;5;241m*\u001b[39m n_sections \u001b[38;5;241m+\u001b[39m \u001b[38;5;241m1\u001b[39m\n\u001b[0;32m   4439\u001b[0m ntaps \u001b[38;5;241m-\u001b[39m\u001b[38;5;241m=\u001b[39m \u001b[38;5;28mmin\u001b[39m((sos[:, \u001b[38;5;241m2\u001b[39m] \u001b[38;5;241m==\u001b[39m \u001b[38;5;241m0\u001b[39m)\u001b[38;5;241m.\u001b[39msum(), (sos[:, \u001b[38;5;241m5\u001b[39m] \u001b[38;5;241m==\u001b[39m \u001b[38;5;241m0\u001b[39m)\u001b[38;5;241m.\u001b[39msum())\n\u001b[1;32m-> 4440\u001b[0m edge, ext \u001b[38;5;241m=\u001b[39m \u001b[43m_validate_pad\u001b[49m\u001b[43m(\u001b[49m\u001b[43mpadtype\u001b[49m\u001b[43m,\u001b[49m\u001b[43m \u001b[49m\u001b[43mpadlen\u001b[49m\u001b[43m,\u001b[49m\u001b[43m \u001b[49m\u001b[43mx\u001b[49m\u001b[43m,\u001b[49m\u001b[43m \u001b[49m\u001b[43maxis\u001b[49m\u001b[43m,\u001b[49m\n\u001b[0;32m   4441\u001b[0m \u001b[43m                          \u001b[49m\u001b[43mntaps\u001b[49m\u001b[38;5;241;43m=\u001b[39;49m\u001b[43mntaps\u001b[49m\u001b[43m)\u001b[49m\n\u001b[0;32m   4443\u001b[0m \u001b[38;5;66;03m# These steps follow the same form as filtfilt with modifications\u001b[39;00m\n\u001b[0;32m   4444\u001b[0m zi \u001b[38;5;241m=\u001b[39m sosfilt_zi(sos)  \u001b[38;5;66;03m# shape (n_sections, 2) --> (n_sections, ..., 2, ...)\u001b[39;00m\n",
      "File \u001b[1;32mc:\\Users\\Manip2\\.conda\\envs\\minian\\Lib\\site-packages\\scipy\\signal\\_signaltools.py:4209\u001b[0m, in \u001b[0;36m_validate_pad\u001b[1;34m(padtype, padlen, x, axis, ntaps)\u001b[0m\n\u001b[0;32m   4207\u001b[0m \u001b[38;5;66;03m# x's 'axis' dimension must be bigger than edge.\u001b[39;00m\n\u001b[0;32m   4208\u001b[0m \u001b[38;5;28;01mif\u001b[39;00m x\u001b[38;5;241m.\u001b[39mshape[axis] \u001b[38;5;241m<\u001b[39m\u001b[38;5;241m=\u001b[39m edge:\n\u001b[1;32m-> 4209\u001b[0m     \u001b[38;5;28;01mraise\u001b[39;00m \u001b[38;5;167;01mValueError\u001b[39;00m(\u001b[38;5;124m\"\u001b[39m\u001b[38;5;124mThe length of the input vector x must be greater \u001b[39m\u001b[38;5;124m\"\u001b[39m\n\u001b[0;32m   4210\u001b[0m                      \u001b[38;5;124m\"\u001b[39m\u001b[38;5;124mthan padlen, which is \u001b[39m\u001b[38;5;132;01m%d\u001b[39;00m\u001b[38;5;124m.\u001b[39m\u001b[38;5;124m\"\u001b[39m \u001b[38;5;241m%\u001b[39m edge)\n\u001b[0;32m   4212\u001b[0m \u001b[38;5;28;01mif\u001b[39;00m padtype \u001b[38;5;129;01mis\u001b[39;00m \u001b[38;5;129;01mnot\u001b[39;00m \u001b[38;5;28;01mNone\u001b[39;00m \u001b[38;5;129;01mand\u001b[39;00m edge \u001b[38;5;241m>\u001b[39m \u001b[38;5;241m0\u001b[39m:\n\u001b[0;32m   4213\u001b[0m     \u001b[38;5;66;03m# Make an extension of length `edge` at each\u001b[39;00m\n\u001b[0;32m   4214\u001b[0m     \u001b[38;5;66;03m# end of the input array.\u001b[39;00m\n\u001b[0;32m   4215\u001b[0m     \u001b[38;5;28;01mif\u001b[39;00m padtype \u001b[38;5;241m==\u001b[39m \u001b[38;5;124m'\u001b[39m\u001b[38;5;124meven\u001b[39m\u001b[38;5;124m'\u001b[39m:\n",
      "\u001b[1;31mValueError\u001b[0m: The length of the input vector x must be greater than padlen, which is 27."
     ]
    },
    {
     "ename": "ValueError",
     "evalue": "The length of the input vector x must be greater than padlen, which is 27.",
     "output_type": "error",
     "traceback": [
      "\u001b[1;31m---------------------------------------------------------------------------\u001b[0m",
      "\u001b[1;31mValueError\u001b[0m                                Traceback (most recent call last)",
      "File \u001b[1;32mc:\\Users\\Manip2\\.conda\\envs\\minian\\Lib\\site-packages\\ephyviewer\\timefreqviewer.py:194\u001b[0m, in \u001b[0;36mTimeFreqWorker.on_request_data\u001b[1;34m(self, chan, t, t_start, t_stop, visible_channels, worker_params)\u001b[0m\n\u001b[0;32m    191\u001b[0m sig \u001b[38;5;241m=\u001b[39m sigs_chunk[:, chan]\n\u001b[0;32m    193\u001b[0m \u001b[38;5;28;01mif\u001b[39;00m ds_ratio\u001b[38;5;241m>\u001b[39m\u001b[38;5;241m1\u001b[39m:\n\u001b[1;32m--> 194\u001b[0m     small_sig \u001b[38;5;241m=\u001b[39m \u001b[43mscipy\u001b[49m\u001b[38;5;241;43m.\u001b[39;49m\u001b[43msignal\u001b[49m\u001b[38;5;241;43m.\u001b[39;49m\u001b[43msosfiltfilt\u001b[49m\u001b[43m(\u001b[49m\u001b[43mfilter_sos\u001b[49m\u001b[43m,\u001b[49m\u001b[43m \u001b[49m\u001b[43msig\u001b[49m\u001b[43m)\u001b[49m\n\u001b[0;32m    195\u001b[0m     small_sig \u001b[38;5;241m=\u001b[39msmall_sig[::ds_ratio]\u001b[38;5;241m.\u001b[39mcopy()  \u001b[38;5;66;03m# to ensure continuity\u001b[39;00m\n\u001b[0;32m    196\u001b[0m \u001b[38;5;28;01melse\u001b[39;00m:\n",
      "File \u001b[1;32mc:\\Users\\Manip2\\.conda\\envs\\minian\\Lib\\site-packages\\scipy\\signal\\_signaltools.py:4440\u001b[0m, in \u001b[0;36msosfiltfilt\u001b[1;34m(sos, x, axis, padtype, padlen)\u001b[0m\n\u001b[0;32m   4438\u001b[0m ntaps \u001b[38;5;241m=\u001b[39m \u001b[38;5;241m2\u001b[39m \u001b[38;5;241m*\u001b[39m n_sections \u001b[38;5;241m+\u001b[39m \u001b[38;5;241m1\u001b[39m\n\u001b[0;32m   4439\u001b[0m ntaps \u001b[38;5;241m-\u001b[39m\u001b[38;5;241m=\u001b[39m \u001b[38;5;28mmin\u001b[39m((sos[:, \u001b[38;5;241m2\u001b[39m] \u001b[38;5;241m==\u001b[39m \u001b[38;5;241m0\u001b[39m)\u001b[38;5;241m.\u001b[39msum(), (sos[:, \u001b[38;5;241m5\u001b[39m] \u001b[38;5;241m==\u001b[39m \u001b[38;5;241m0\u001b[39m)\u001b[38;5;241m.\u001b[39msum())\n\u001b[1;32m-> 4440\u001b[0m edge, ext \u001b[38;5;241m=\u001b[39m \u001b[43m_validate_pad\u001b[49m\u001b[43m(\u001b[49m\u001b[43mpadtype\u001b[49m\u001b[43m,\u001b[49m\u001b[43m \u001b[49m\u001b[43mpadlen\u001b[49m\u001b[43m,\u001b[49m\u001b[43m \u001b[49m\u001b[43mx\u001b[49m\u001b[43m,\u001b[49m\u001b[43m \u001b[49m\u001b[43maxis\u001b[49m\u001b[43m,\u001b[49m\n\u001b[0;32m   4441\u001b[0m \u001b[43m                          \u001b[49m\u001b[43mntaps\u001b[49m\u001b[38;5;241;43m=\u001b[39;49m\u001b[43mntaps\u001b[49m\u001b[43m)\u001b[49m\n\u001b[0;32m   4443\u001b[0m \u001b[38;5;66;03m# These steps follow the same form as filtfilt with modifications\u001b[39;00m\n\u001b[0;32m   4444\u001b[0m zi \u001b[38;5;241m=\u001b[39m sosfilt_zi(sos)  \u001b[38;5;66;03m# shape (n_sections, 2) --> (n_sections, ..., 2, ...)\u001b[39;00m\n",
      "File \u001b[1;32mc:\\Users\\Manip2\\.conda\\envs\\minian\\Lib\\site-packages\\scipy\\signal\\_signaltools.py:4209\u001b[0m, in \u001b[0;36m_validate_pad\u001b[1;34m(padtype, padlen, x, axis, ntaps)\u001b[0m\n\u001b[0;32m   4207\u001b[0m \u001b[38;5;66;03m# x's 'axis' dimension must be bigger than edge.\u001b[39;00m\n\u001b[0;32m   4208\u001b[0m \u001b[38;5;28;01mif\u001b[39;00m x\u001b[38;5;241m.\u001b[39mshape[axis] \u001b[38;5;241m<\u001b[39m\u001b[38;5;241m=\u001b[39m edge:\n\u001b[1;32m-> 4209\u001b[0m     \u001b[38;5;28;01mraise\u001b[39;00m \u001b[38;5;167;01mValueError\u001b[39;00m(\u001b[38;5;124m\"\u001b[39m\u001b[38;5;124mThe length of the input vector x must be greater \u001b[39m\u001b[38;5;124m\"\u001b[39m\n\u001b[0;32m   4210\u001b[0m                      \u001b[38;5;124m\"\u001b[39m\u001b[38;5;124mthan padlen, which is \u001b[39m\u001b[38;5;132;01m%d\u001b[39;00m\u001b[38;5;124m.\u001b[39m\u001b[38;5;124m\"\u001b[39m \u001b[38;5;241m%\u001b[39m edge)\n\u001b[0;32m   4212\u001b[0m \u001b[38;5;28;01mif\u001b[39;00m padtype \u001b[38;5;129;01mis\u001b[39;00m \u001b[38;5;129;01mnot\u001b[39;00m \u001b[38;5;28;01mNone\u001b[39;00m \u001b[38;5;129;01mand\u001b[39;00m edge \u001b[38;5;241m>\u001b[39m \u001b[38;5;241m0\u001b[39m:\n\u001b[0;32m   4213\u001b[0m     \u001b[38;5;66;03m# Make an extension of length `edge` at each\u001b[39;00m\n\u001b[0;32m   4214\u001b[0m     \u001b[38;5;66;03m# end of the input array.\u001b[39;00m\n\u001b[0;32m   4215\u001b[0m     \u001b[38;5;28;01mif\u001b[39;00m padtype \u001b[38;5;241m==\u001b[39m \u001b[38;5;124m'\u001b[39m\u001b[38;5;124meven\u001b[39m\u001b[38;5;124m'\u001b[39m:\n",
      "\u001b[1;31mValueError\u001b[0m: The length of the input vector x must be greater than padlen, which is 27."
     ]
    },
    {
     "ename": "ValueError",
     "evalue": "The length of the input vector x must be greater than padlen, which is 27.",
     "output_type": "error",
     "traceback": [
      "\u001b[1;31m---------------------------------------------------------------------------\u001b[0m",
      "\u001b[1;31mValueError\u001b[0m                                Traceback (most recent call last)",
      "File \u001b[1;32mc:\\Users\\Manip2\\.conda\\envs\\minian\\Lib\\site-packages\\ephyviewer\\timefreqviewer.py:194\u001b[0m, in \u001b[0;36mTimeFreqWorker.on_request_data\u001b[1;34m(self, chan, t, t_start, t_stop, visible_channels, worker_params)\u001b[0m\n\u001b[0;32m    191\u001b[0m sig \u001b[38;5;241m=\u001b[39m sigs_chunk[:, chan]\n\u001b[0;32m    193\u001b[0m \u001b[38;5;28;01mif\u001b[39;00m ds_ratio\u001b[38;5;241m>\u001b[39m\u001b[38;5;241m1\u001b[39m:\n\u001b[1;32m--> 194\u001b[0m     small_sig \u001b[38;5;241m=\u001b[39m \u001b[43mscipy\u001b[49m\u001b[38;5;241;43m.\u001b[39;49m\u001b[43msignal\u001b[49m\u001b[38;5;241;43m.\u001b[39;49m\u001b[43msosfiltfilt\u001b[49m\u001b[43m(\u001b[49m\u001b[43mfilter_sos\u001b[49m\u001b[43m,\u001b[49m\u001b[43m \u001b[49m\u001b[43msig\u001b[49m\u001b[43m)\u001b[49m\n\u001b[0;32m    195\u001b[0m     small_sig \u001b[38;5;241m=\u001b[39msmall_sig[::ds_ratio]\u001b[38;5;241m.\u001b[39mcopy()  \u001b[38;5;66;03m# to ensure continuity\u001b[39;00m\n\u001b[0;32m    196\u001b[0m \u001b[38;5;28;01melse\u001b[39;00m:\n",
      "File \u001b[1;32mc:\\Users\\Manip2\\.conda\\envs\\minian\\Lib\\site-packages\\scipy\\signal\\_signaltools.py:4440\u001b[0m, in \u001b[0;36msosfiltfilt\u001b[1;34m(sos, x, axis, padtype, padlen)\u001b[0m\n\u001b[0;32m   4438\u001b[0m ntaps \u001b[38;5;241m=\u001b[39m \u001b[38;5;241m2\u001b[39m \u001b[38;5;241m*\u001b[39m n_sections \u001b[38;5;241m+\u001b[39m \u001b[38;5;241m1\u001b[39m\n\u001b[0;32m   4439\u001b[0m ntaps \u001b[38;5;241m-\u001b[39m\u001b[38;5;241m=\u001b[39m \u001b[38;5;28mmin\u001b[39m((sos[:, \u001b[38;5;241m2\u001b[39m] \u001b[38;5;241m==\u001b[39m \u001b[38;5;241m0\u001b[39m)\u001b[38;5;241m.\u001b[39msum(), (sos[:, \u001b[38;5;241m5\u001b[39m] \u001b[38;5;241m==\u001b[39m \u001b[38;5;241m0\u001b[39m)\u001b[38;5;241m.\u001b[39msum())\n\u001b[1;32m-> 4440\u001b[0m edge, ext \u001b[38;5;241m=\u001b[39m \u001b[43m_validate_pad\u001b[49m\u001b[43m(\u001b[49m\u001b[43mpadtype\u001b[49m\u001b[43m,\u001b[49m\u001b[43m \u001b[49m\u001b[43mpadlen\u001b[49m\u001b[43m,\u001b[49m\u001b[43m \u001b[49m\u001b[43mx\u001b[49m\u001b[43m,\u001b[49m\u001b[43m \u001b[49m\u001b[43maxis\u001b[49m\u001b[43m,\u001b[49m\n\u001b[0;32m   4441\u001b[0m \u001b[43m                          \u001b[49m\u001b[43mntaps\u001b[49m\u001b[38;5;241;43m=\u001b[39;49m\u001b[43mntaps\u001b[49m\u001b[43m)\u001b[49m\n\u001b[0;32m   4443\u001b[0m \u001b[38;5;66;03m# These steps follow the same form as filtfilt with modifications\u001b[39;00m\n\u001b[0;32m   4444\u001b[0m zi \u001b[38;5;241m=\u001b[39m sosfilt_zi(sos)  \u001b[38;5;66;03m# shape (n_sections, 2) --> (n_sections, ..., 2, ...)\u001b[39;00m\n",
      "File \u001b[1;32mc:\\Users\\Manip2\\.conda\\envs\\minian\\Lib\\site-packages\\scipy\\signal\\_signaltools.py:4209\u001b[0m, in \u001b[0;36m_validate_pad\u001b[1;34m(padtype, padlen, x, axis, ntaps)\u001b[0m\n\u001b[0;32m   4207\u001b[0m \u001b[38;5;66;03m# x's 'axis' dimension must be bigger than edge.\u001b[39;00m\n\u001b[0;32m   4208\u001b[0m \u001b[38;5;28;01mif\u001b[39;00m x\u001b[38;5;241m.\u001b[39mshape[axis] \u001b[38;5;241m<\u001b[39m\u001b[38;5;241m=\u001b[39m edge:\n\u001b[1;32m-> 4209\u001b[0m     \u001b[38;5;28;01mraise\u001b[39;00m \u001b[38;5;167;01mValueError\u001b[39;00m(\u001b[38;5;124m\"\u001b[39m\u001b[38;5;124mThe length of the input vector x must be greater \u001b[39m\u001b[38;5;124m\"\u001b[39m\n\u001b[0;32m   4210\u001b[0m                      \u001b[38;5;124m\"\u001b[39m\u001b[38;5;124mthan padlen, which is \u001b[39m\u001b[38;5;132;01m%d\u001b[39;00m\u001b[38;5;124m.\u001b[39m\u001b[38;5;124m\"\u001b[39m \u001b[38;5;241m%\u001b[39m edge)\n\u001b[0;32m   4212\u001b[0m \u001b[38;5;28;01mif\u001b[39;00m padtype \u001b[38;5;129;01mis\u001b[39;00m \u001b[38;5;129;01mnot\u001b[39;00m \u001b[38;5;28;01mNone\u001b[39;00m \u001b[38;5;129;01mand\u001b[39;00m edge \u001b[38;5;241m>\u001b[39m \u001b[38;5;241m0\u001b[39m:\n\u001b[0;32m   4213\u001b[0m     \u001b[38;5;66;03m# Make an extension of length `edge` at each\u001b[39;00m\n\u001b[0;32m   4214\u001b[0m     \u001b[38;5;66;03m# end of the input array.\u001b[39;00m\n\u001b[0;32m   4215\u001b[0m     \u001b[38;5;28;01mif\u001b[39;00m padtype \u001b[38;5;241m==\u001b[39m \u001b[38;5;124m'\u001b[39m\u001b[38;5;124meven\u001b[39m\u001b[38;5;124m'\u001b[39m:\n",
      "\u001b[1;31mValueError\u001b[0m: The length of the input vector x must be greater than padlen, which is 27."
     ]
    },
    {
     "ename": "ValueError",
     "evalue": "The length of the input vector x must be greater than padlen, which is 27.",
     "output_type": "error",
     "traceback": [
      "\u001b[1;31m---------------------------------------------------------------------------\u001b[0m",
      "\u001b[1;31mValueError\u001b[0m                                Traceback (most recent call last)",
      "File \u001b[1;32mc:\\Users\\Manip2\\.conda\\envs\\minian\\Lib\\site-packages\\ephyviewer\\timefreqviewer.py:194\u001b[0m, in \u001b[0;36mTimeFreqWorker.on_request_data\u001b[1;34m(self, chan, t, t_start, t_stop, visible_channels, worker_params)\u001b[0m\n\u001b[0;32m    191\u001b[0m sig \u001b[38;5;241m=\u001b[39m sigs_chunk[:, chan]\n\u001b[0;32m    193\u001b[0m \u001b[38;5;28;01mif\u001b[39;00m ds_ratio\u001b[38;5;241m>\u001b[39m\u001b[38;5;241m1\u001b[39m:\n\u001b[1;32m--> 194\u001b[0m     small_sig \u001b[38;5;241m=\u001b[39m \u001b[43mscipy\u001b[49m\u001b[38;5;241;43m.\u001b[39;49m\u001b[43msignal\u001b[49m\u001b[38;5;241;43m.\u001b[39;49m\u001b[43msosfiltfilt\u001b[49m\u001b[43m(\u001b[49m\u001b[43mfilter_sos\u001b[49m\u001b[43m,\u001b[49m\u001b[43m \u001b[49m\u001b[43msig\u001b[49m\u001b[43m)\u001b[49m\n\u001b[0;32m    195\u001b[0m     small_sig \u001b[38;5;241m=\u001b[39msmall_sig[::ds_ratio]\u001b[38;5;241m.\u001b[39mcopy()  \u001b[38;5;66;03m# to ensure continuity\u001b[39;00m\n\u001b[0;32m    196\u001b[0m \u001b[38;5;28;01melse\u001b[39;00m:\n",
      "File \u001b[1;32mc:\\Users\\Manip2\\.conda\\envs\\minian\\Lib\\site-packages\\scipy\\signal\\_signaltools.py:4440\u001b[0m, in \u001b[0;36msosfiltfilt\u001b[1;34m(sos, x, axis, padtype, padlen)\u001b[0m\n\u001b[0;32m   4438\u001b[0m ntaps \u001b[38;5;241m=\u001b[39m \u001b[38;5;241m2\u001b[39m \u001b[38;5;241m*\u001b[39m n_sections \u001b[38;5;241m+\u001b[39m \u001b[38;5;241m1\u001b[39m\n\u001b[0;32m   4439\u001b[0m ntaps \u001b[38;5;241m-\u001b[39m\u001b[38;5;241m=\u001b[39m \u001b[38;5;28mmin\u001b[39m((sos[:, \u001b[38;5;241m2\u001b[39m] \u001b[38;5;241m==\u001b[39m \u001b[38;5;241m0\u001b[39m)\u001b[38;5;241m.\u001b[39msum(), (sos[:, \u001b[38;5;241m5\u001b[39m] \u001b[38;5;241m==\u001b[39m \u001b[38;5;241m0\u001b[39m)\u001b[38;5;241m.\u001b[39msum())\n\u001b[1;32m-> 4440\u001b[0m edge, ext \u001b[38;5;241m=\u001b[39m \u001b[43m_validate_pad\u001b[49m\u001b[43m(\u001b[49m\u001b[43mpadtype\u001b[49m\u001b[43m,\u001b[49m\u001b[43m \u001b[49m\u001b[43mpadlen\u001b[49m\u001b[43m,\u001b[49m\u001b[43m \u001b[49m\u001b[43mx\u001b[49m\u001b[43m,\u001b[49m\u001b[43m \u001b[49m\u001b[43maxis\u001b[49m\u001b[43m,\u001b[49m\n\u001b[0;32m   4441\u001b[0m \u001b[43m                          \u001b[49m\u001b[43mntaps\u001b[49m\u001b[38;5;241;43m=\u001b[39;49m\u001b[43mntaps\u001b[49m\u001b[43m)\u001b[49m\n\u001b[0;32m   4443\u001b[0m \u001b[38;5;66;03m# These steps follow the same form as filtfilt with modifications\u001b[39;00m\n\u001b[0;32m   4444\u001b[0m zi \u001b[38;5;241m=\u001b[39m sosfilt_zi(sos)  \u001b[38;5;66;03m# shape (n_sections, 2) --> (n_sections, ..., 2, ...)\u001b[39;00m\n",
      "File \u001b[1;32mc:\\Users\\Manip2\\.conda\\envs\\minian\\Lib\\site-packages\\scipy\\signal\\_signaltools.py:4209\u001b[0m, in \u001b[0;36m_validate_pad\u001b[1;34m(padtype, padlen, x, axis, ntaps)\u001b[0m\n\u001b[0;32m   4207\u001b[0m \u001b[38;5;66;03m# x's 'axis' dimension must be bigger than edge.\u001b[39;00m\n\u001b[0;32m   4208\u001b[0m \u001b[38;5;28;01mif\u001b[39;00m x\u001b[38;5;241m.\u001b[39mshape[axis] \u001b[38;5;241m<\u001b[39m\u001b[38;5;241m=\u001b[39m edge:\n\u001b[1;32m-> 4209\u001b[0m     \u001b[38;5;28;01mraise\u001b[39;00m \u001b[38;5;167;01mValueError\u001b[39;00m(\u001b[38;5;124m\"\u001b[39m\u001b[38;5;124mThe length of the input vector x must be greater \u001b[39m\u001b[38;5;124m\"\u001b[39m\n\u001b[0;32m   4210\u001b[0m                      \u001b[38;5;124m\"\u001b[39m\u001b[38;5;124mthan padlen, which is \u001b[39m\u001b[38;5;132;01m%d\u001b[39;00m\u001b[38;5;124m.\u001b[39m\u001b[38;5;124m\"\u001b[39m \u001b[38;5;241m%\u001b[39m edge)\n\u001b[0;32m   4212\u001b[0m \u001b[38;5;28;01mif\u001b[39;00m padtype \u001b[38;5;129;01mis\u001b[39;00m \u001b[38;5;129;01mnot\u001b[39;00m \u001b[38;5;28;01mNone\u001b[39;00m \u001b[38;5;129;01mand\u001b[39;00m edge \u001b[38;5;241m>\u001b[39m \u001b[38;5;241m0\u001b[39m:\n\u001b[0;32m   4213\u001b[0m     \u001b[38;5;66;03m# Make an extension of length `edge` at each\u001b[39;00m\n\u001b[0;32m   4214\u001b[0m     \u001b[38;5;66;03m# end of the input array.\u001b[39;00m\n\u001b[0;32m   4215\u001b[0m     \u001b[38;5;28;01mif\u001b[39;00m padtype \u001b[38;5;241m==\u001b[39m \u001b[38;5;124m'\u001b[39m\u001b[38;5;124meven\u001b[39m\u001b[38;5;124m'\u001b[39m:\n",
      "\u001b[1;31mValueError\u001b[0m: The length of the input vector x must be greater than padlen, which is 27."
     ]
    },
    {
     "ename": "ValueError",
     "evalue": "The length of the input vector x must be greater than padlen, which is 27.",
     "output_type": "error",
     "traceback": [
      "\u001b[1;31m---------------------------------------------------------------------------\u001b[0m",
      "\u001b[1;31mValueError\u001b[0m                                Traceback (most recent call last)",
      "File \u001b[1;32mc:\\Users\\Manip2\\.conda\\envs\\minian\\Lib\\site-packages\\ephyviewer\\timefreqviewer.py:194\u001b[0m, in \u001b[0;36mTimeFreqWorker.on_request_data\u001b[1;34m(self, chan, t, t_start, t_stop, visible_channels, worker_params)\u001b[0m\n\u001b[0;32m    191\u001b[0m sig \u001b[38;5;241m=\u001b[39m sigs_chunk[:, chan]\n\u001b[0;32m    193\u001b[0m \u001b[38;5;28;01mif\u001b[39;00m ds_ratio\u001b[38;5;241m>\u001b[39m\u001b[38;5;241m1\u001b[39m:\n\u001b[1;32m--> 194\u001b[0m     small_sig \u001b[38;5;241m=\u001b[39m \u001b[43mscipy\u001b[49m\u001b[38;5;241;43m.\u001b[39;49m\u001b[43msignal\u001b[49m\u001b[38;5;241;43m.\u001b[39;49m\u001b[43msosfiltfilt\u001b[49m\u001b[43m(\u001b[49m\u001b[43mfilter_sos\u001b[49m\u001b[43m,\u001b[49m\u001b[43m \u001b[49m\u001b[43msig\u001b[49m\u001b[43m)\u001b[49m\n\u001b[0;32m    195\u001b[0m     small_sig \u001b[38;5;241m=\u001b[39msmall_sig[::ds_ratio]\u001b[38;5;241m.\u001b[39mcopy()  \u001b[38;5;66;03m# to ensure continuity\u001b[39;00m\n\u001b[0;32m    196\u001b[0m \u001b[38;5;28;01melse\u001b[39;00m:\n",
      "File \u001b[1;32mc:\\Users\\Manip2\\.conda\\envs\\minian\\Lib\\site-packages\\scipy\\signal\\_signaltools.py:4440\u001b[0m, in \u001b[0;36msosfiltfilt\u001b[1;34m(sos, x, axis, padtype, padlen)\u001b[0m\n\u001b[0;32m   4438\u001b[0m ntaps \u001b[38;5;241m=\u001b[39m \u001b[38;5;241m2\u001b[39m \u001b[38;5;241m*\u001b[39m n_sections \u001b[38;5;241m+\u001b[39m \u001b[38;5;241m1\u001b[39m\n\u001b[0;32m   4439\u001b[0m ntaps \u001b[38;5;241m-\u001b[39m\u001b[38;5;241m=\u001b[39m \u001b[38;5;28mmin\u001b[39m((sos[:, \u001b[38;5;241m2\u001b[39m] \u001b[38;5;241m==\u001b[39m \u001b[38;5;241m0\u001b[39m)\u001b[38;5;241m.\u001b[39msum(), (sos[:, \u001b[38;5;241m5\u001b[39m] \u001b[38;5;241m==\u001b[39m \u001b[38;5;241m0\u001b[39m)\u001b[38;5;241m.\u001b[39msum())\n\u001b[1;32m-> 4440\u001b[0m edge, ext \u001b[38;5;241m=\u001b[39m \u001b[43m_validate_pad\u001b[49m\u001b[43m(\u001b[49m\u001b[43mpadtype\u001b[49m\u001b[43m,\u001b[49m\u001b[43m \u001b[49m\u001b[43mpadlen\u001b[49m\u001b[43m,\u001b[49m\u001b[43m \u001b[49m\u001b[43mx\u001b[49m\u001b[43m,\u001b[49m\u001b[43m \u001b[49m\u001b[43maxis\u001b[49m\u001b[43m,\u001b[49m\n\u001b[0;32m   4441\u001b[0m \u001b[43m                          \u001b[49m\u001b[43mntaps\u001b[49m\u001b[38;5;241;43m=\u001b[39;49m\u001b[43mntaps\u001b[49m\u001b[43m)\u001b[49m\n\u001b[0;32m   4443\u001b[0m \u001b[38;5;66;03m# These steps follow the same form as filtfilt with modifications\u001b[39;00m\n\u001b[0;32m   4444\u001b[0m zi \u001b[38;5;241m=\u001b[39m sosfilt_zi(sos)  \u001b[38;5;66;03m# shape (n_sections, 2) --> (n_sections, ..., 2, ...)\u001b[39;00m\n",
      "File \u001b[1;32mc:\\Users\\Manip2\\.conda\\envs\\minian\\Lib\\site-packages\\scipy\\signal\\_signaltools.py:4209\u001b[0m, in \u001b[0;36m_validate_pad\u001b[1;34m(padtype, padlen, x, axis, ntaps)\u001b[0m\n\u001b[0;32m   4207\u001b[0m \u001b[38;5;66;03m# x's 'axis' dimension must be bigger than edge.\u001b[39;00m\n\u001b[0;32m   4208\u001b[0m \u001b[38;5;28;01mif\u001b[39;00m x\u001b[38;5;241m.\u001b[39mshape[axis] \u001b[38;5;241m<\u001b[39m\u001b[38;5;241m=\u001b[39m edge:\n\u001b[1;32m-> 4209\u001b[0m     \u001b[38;5;28;01mraise\u001b[39;00m \u001b[38;5;167;01mValueError\u001b[39;00m(\u001b[38;5;124m\"\u001b[39m\u001b[38;5;124mThe length of the input vector x must be greater \u001b[39m\u001b[38;5;124m\"\u001b[39m\n\u001b[0;32m   4210\u001b[0m                      \u001b[38;5;124m\"\u001b[39m\u001b[38;5;124mthan padlen, which is \u001b[39m\u001b[38;5;132;01m%d\u001b[39;00m\u001b[38;5;124m.\u001b[39m\u001b[38;5;124m\"\u001b[39m \u001b[38;5;241m%\u001b[39m edge)\n\u001b[0;32m   4212\u001b[0m \u001b[38;5;28;01mif\u001b[39;00m padtype \u001b[38;5;129;01mis\u001b[39;00m \u001b[38;5;129;01mnot\u001b[39;00m \u001b[38;5;28;01mNone\u001b[39;00m \u001b[38;5;129;01mand\u001b[39;00m edge \u001b[38;5;241m>\u001b[39m \u001b[38;5;241m0\u001b[39m:\n\u001b[0;32m   4213\u001b[0m     \u001b[38;5;66;03m# Make an extension of length `edge` at each\u001b[39;00m\n\u001b[0;32m   4214\u001b[0m     \u001b[38;5;66;03m# end of the input array.\u001b[39;00m\n\u001b[0;32m   4215\u001b[0m     \u001b[38;5;28;01mif\u001b[39;00m padtype \u001b[38;5;241m==\u001b[39m \u001b[38;5;124m'\u001b[39m\u001b[38;5;124meven\u001b[39m\u001b[38;5;124m'\u001b[39m:\n",
      "\u001b[1;31mValueError\u001b[0m: The length of the input vector x must be greater than padlen, which is 27."
     ]
    },
    {
     "ename": "ValueError",
     "evalue": "The length of the input vector x must be greater than padlen, which is 27.",
     "output_type": "error",
     "traceback": [
      "\u001b[1;31m---------------------------------------------------------------------------\u001b[0m",
      "\u001b[1;31mValueError\u001b[0m                                Traceback (most recent call last)",
      "File \u001b[1;32mc:\\Users\\Manip2\\.conda\\envs\\minian\\Lib\\site-packages\\ephyviewer\\timefreqviewer.py:194\u001b[0m, in \u001b[0;36mTimeFreqWorker.on_request_data\u001b[1;34m(self, chan, t, t_start, t_stop, visible_channels, worker_params)\u001b[0m\n\u001b[0;32m    191\u001b[0m sig \u001b[38;5;241m=\u001b[39m sigs_chunk[:, chan]\n\u001b[0;32m    193\u001b[0m \u001b[38;5;28;01mif\u001b[39;00m ds_ratio\u001b[38;5;241m>\u001b[39m\u001b[38;5;241m1\u001b[39m:\n\u001b[1;32m--> 194\u001b[0m     small_sig \u001b[38;5;241m=\u001b[39m \u001b[43mscipy\u001b[49m\u001b[38;5;241;43m.\u001b[39;49m\u001b[43msignal\u001b[49m\u001b[38;5;241;43m.\u001b[39;49m\u001b[43msosfiltfilt\u001b[49m\u001b[43m(\u001b[49m\u001b[43mfilter_sos\u001b[49m\u001b[43m,\u001b[49m\u001b[43m \u001b[49m\u001b[43msig\u001b[49m\u001b[43m)\u001b[49m\n\u001b[0;32m    195\u001b[0m     small_sig \u001b[38;5;241m=\u001b[39msmall_sig[::ds_ratio]\u001b[38;5;241m.\u001b[39mcopy()  \u001b[38;5;66;03m# to ensure continuity\u001b[39;00m\n\u001b[0;32m    196\u001b[0m \u001b[38;5;28;01melse\u001b[39;00m:\n",
      "File \u001b[1;32mc:\\Users\\Manip2\\.conda\\envs\\minian\\Lib\\site-packages\\scipy\\signal\\_signaltools.py:4440\u001b[0m, in \u001b[0;36msosfiltfilt\u001b[1;34m(sos, x, axis, padtype, padlen)\u001b[0m\n\u001b[0;32m   4438\u001b[0m ntaps \u001b[38;5;241m=\u001b[39m \u001b[38;5;241m2\u001b[39m \u001b[38;5;241m*\u001b[39m n_sections \u001b[38;5;241m+\u001b[39m \u001b[38;5;241m1\u001b[39m\n\u001b[0;32m   4439\u001b[0m ntaps \u001b[38;5;241m-\u001b[39m\u001b[38;5;241m=\u001b[39m \u001b[38;5;28mmin\u001b[39m((sos[:, \u001b[38;5;241m2\u001b[39m] \u001b[38;5;241m==\u001b[39m \u001b[38;5;241m0\u001b[39m)\u001b[38;5;241m.\u001b[39msum(), (sos[:, \u001b[38;5;241m5\u001b[39m] \u001b[38;5;241m==\u001b[39m \u001b[38;5;241m0\u001b[39m)\u001b[38;5;241m.\u001b[39msum())\n\u001b[1;32m-> 4440\u001b[0m edge, ext \u001b[38;5;241m=\u001b[39m \u001b[43m_validate_pad\u001b[49m\u001b[43m(\u001b[49m\u001b[43mpadtype\u001b[49m\u001b[43m,\u001b[49m\u001b[43m \u001b[49m\u001b[43mpadlen\u001b[49m\u001b[43m,\u001b[49m\u001b[43m \u001b[49m\u001b[43mx\u001b[49m\u001b[43m,\u001b[49m\u001b[43m \u001b[49m\u001b[43maxis\u001b[49m\u001b[43m,\u001b[49m\n\u001b[0;32m   4441\u001b[0m \u001b[43m                          \u001b[49m\u001b[43mntaps\u001b[49m\u001b[38;5;241;43m=\u001b[39;49m\u001b[43mntaps\u001b[49m\u001b[43m)\u001b[49m\n\u001b[0;32m   4443\u001b[0m \u001b[38;5;66;03m# These steps follow the same form as filtfilt with modifications\u001b[39;00m\n\u001b[0;32m   4444\u001b[0m zi \u001b[38;5;241m=\u001b[39m sosfilt_zi(sos)  \u001b[38;5;66;03m# shape (n_sections, 2) --> (n_sections, ..., 2, ...)\u001b[39;00m\n",
      "File \u001b[1;32mc:\\Users\\Manip2\\.conda\\envs\\minian\\Lib\\site-packages\\scipy\\signal\\_signaltools.py:4209\u001b[0m, in \u001b[0;36m_validate_pad\u001b[1;34m(padtype, padlen, x, axis, ntaps)\u001b[0m\n\u001b[0;32m   4207\u001b[0m \u001b[38;5;66;03m# x's 'axis' dimension must be bigger than edge.\u001b[39;00m\n\u001b[0;32m   4208\u001b[0m \u001b[38;5;28;01mif\u001b[39;00m x\u001b[38;5;241m.\u001b[39mshape[axis] \u001b[38;5;241m<\u001b[39m\u001b[38;5;241m=\u001b[39m edge:\n\u001b[1;32m-> 4209\u001b[0m     \u001b[38;5;28;01mraise\u001b[39;00m \u001b[38;5;167;01mValueError\u001b[39;00m(\u001b[38;5;124m\"\u001b[39m\u001b[38;5;124mThe length of the input vector x must be greater \u001b[39m\u001b[38;5;124m\"\u001b[39m\n\u001b[0;32m   4210\u001b[0m                      \u001b[38;5;124m\"\u001b[39m\u001b[38;5;124mthan padlen, which is \u001b[39m\u001b[38;5;132;01m%d\u001b[39;00m\u001b[38;5;124m.\u001b[39m\u001b[38;5;124m\"\u001b[39m \u001b[38;5;241m%\u001b[39m edge)\n\u001b[0;32m   4212\u001b[0m \u001b[38;5;28;01mif\u001b[39;00m padtype \u001b[38;5;129;01mis\u001b[39;00m \u001b[38;5;129;01mnot\u001b[39;00m \u001b[38;5;28;01mNone\u001b[39;00m \u001b[38;5;129;01mand\u001b[39;00m edge \u001b[38;5;241m>\u001b[39m \u001b[38;5;241m0\u001b[39m:\n\u001b[0;32m   4213\u001b[0m     \u001b[38;5;66;03m# Make an extension of length `edge` at each\u001b[39;00m\n\u001b[0;32m   4214\u001b[0m     \u001b[38;5;66;03m# end of the input array.\u001b[39;00m\n\u001b[0;32m   4215\u001b[0m     \u001b[38;5;28;01mif\u001b[39;00m padtype \u001b[38;5;241m==\u001b[39m \u001b[38;5;124m'\u001b[39m\u001b[38;5;124meven\u001b[39m\u001b[38;5;124m'\u001b[39m:\n",
      "\u001b[1;31mValueError\u001b[0m: The length of the input vector x must be greater than padlen, which is 27."
     ]
    },
    {
     "ename": "ValueError",
     "evalue": "The length of the input vector x must be greater than padlen, which is 27.",
     "output_type": "error",
     "traceback": [
      "\u001b[1;31m---------------------------------------------------------------------------\u001b[0m",
      "\u001b[1;31mValueError\u001b[0m                                Traceback (most recent call last)",
      "File \u001b[1;32mc:\\Users\\Manip2\\.conda\\envs\\minian\\Lib\\site-packages\\ephyviewer\\timefreqviewer.py:194\u001b[0m, in \u001b[0;36mTimeFreqWorker.on_request_data\u001b[1;34m(self, chan, t, t_start, t_stop, visible_channels, worker_params)\u001b[0m\n\u001b[0;32m    191\u001b[0m sig \u001b[38;5;241m=\u001b[39m sigs_chunk[:, chan]\n\u001b[0;32m    193\u001b[0m \u001b[38;5;28;01mif\u001b[39;00m ds_ratio\u001b[38;5;241m>\u001b[39m\u001b[38;5;241m1\u001b[39m:\n\u001b[1;32m--> 194\u001b[0m     small_sig \u001b[38;5;241m=\u001b[39m \u001b[43mscipy\u001b[49m\u001b[38;5;241;43m.\u001b[39;49m\u001b[43msignal\u001b[49m\u001b[38;5;241;43m.\u001b[39;49m\u001b[43msosfiltfilt\u001b[49m\u001b[43m(\u001b[49m\u001b[43mfilter_sos\u001b[49m\u001b[43m,\u001b[49m\u001b[43m \u001b[49m\u001b[43msig\u001b[49m\u001b[43m)\u001b[49m\n\u001b[0;32m    195\u001b[0m     small_sig \u001b[38;5;241m=\u001b[39msmall_sig[::ds_ratio]\u001b[38;5;241m.\u001b[39mcopy()  \u001b[38;5;66;03m# to ensure continuity\u001b[39;00m\n\u001b[0;32m    196\u001b[0m \u001b[38;5;28;01melse\u001b[39;00m:\n",
      "File \u001b[1;32mc:\\Users\\Manip2\\.conda\\envs\\minian\\Lib\\site-packages\\scipy\\signal\\_signaltools.py:4440\u001b[0m, in \u001b[0;36msosfiltfilt\u001b[1;34m(sos, x, axis, padtype, padlen)\u001b[0m\n\u001b[0;32m   4438\u001b[0m ntaps \u001b[38;5;241m=\u001b[39m \u001b[38;5;241m2\u001b[39m \u001b[38;5;241m*\u001b[39m n_sections \u001b[38;5;241m+\u001b[39m \u001b[38;5;241m1\u001b[39m\n\u001b[0;32m   4439\u001b[0m ntaps \u001b[38;5;241m-\u001b[39m\u001b[38;5;241m=\u001b[39m \u001b[38;5;28mmin\u001b[39m((sos[:, \u001b[38;5;241m2\u001b[39m] \u001b[38;5;241m==\u001b[39m \u001b[38;5;241m0\u001b[39m)\u001b[38;5;241m.\u001b[39msum(), (sos[:, \u001b[38;5;241m5\u001b[39m] \u001b[38;5;241m==\u001b[39m \u001b[38;5;241m0\u001b[39m)\u001b[38;5;241m.\u001b[39msum())\n\u001b[1;32m-> 4440\u001b[0m edge, ext \u001b[38;5;241m=\u001b[39m \u001b[43m_validate_pad\u001b[49m\u001b[43m(\u001b[49m\u001b[43mpadtype\u001b[49m\u001b[43m,\u001b[49m\u001b[43m \u001b[49m\u001b[43mpadlen\u001b[49m\u001b[43m,\u001b[49m\u001b[43m \u001b[49m\u001b[43mx\u001b[49m\u001b[43m,\u001b[49m\u001b[43m \u001b[49m\u001b[43maxis\u001b[49m\u001b[43m,\u001b[49m\n\u001b[0;32m   4441\u001b[0m \u001b[43m                          \u001b[49m\u001b[43mntaps\u001b[49m\u001b[38;5;241;43m=\u001b[39;49m\u001b[43mntaps\u001b[49m\u001b[43m)\u001b[49m\n\u001b[0;32m   4443\u001b[0m \u001b[38;5;66;03m# These steps follow the same form as filtfilt with modifications\u001b[39;00m\n\u001b[0;32m   4444\u001b[0m zi \u001b[38;5;241m=\u001b[39m sosfilt_zi(sos)  \u001b[38;5;66;03m# shape (n_sections, 2) --> (n_sections, ..., 2, ...)\u001b[39;00m\n",
      "File \u001b[1;32mc:\\Users\\Manip2\\.conda\\envs\\minian\\Lib\\site-packages\\scipy\\signal\\_signaltools.py:4209\u001b[0m, in \u001b[0;36m_validate_pad\u001b[1;34m(padtype, padlen, x, axis, ntaps)\u001b[0m\n\u001b[0;32m   4207\u001b[0m \u001b[38;5;66;03m# x's 'axis' dimension must be bigger than edge.\u001b[39;00m\n\u001b[0;32m   4208\u001b[0m \u001b[38;5;28;01mif\u001b[39;00m x\u001b[38;5;241m.\u001b[39mshape[axis] \u001b[38;5;241m<\u001b[39m\u001b[38;5;241m=\u001b[39m edge:\n\u001b[1;32m-> 4209\u001b[0m     \u001b[38;5;28;01mraise\u001b[39;00m \u001b[38;5;167;01mValueError\u001b[39;00m(\u001b[38;5;124m\"\u001b[39m\u001b[38;5;124mThe length of the input vector x must be greater \u001b[39m\u001b[38;5;124m\"\u001b[39m\n\u001b[0;32m   4210\u001b[0m                      \u001b[38;5;124m\"\u001b[39m\u001b[38;5;124mthan padlen, which is \u001b[39m\u001b[38;5;132;01m%d\u001b[39;00m\u001b[38;5;124m.\u001b[39m\u001b[38;5;124m\"\u001b[39m \u001b[38;5;241m%\u001b[39m edge)\n\u001b[0;32m   4212\u001b[0m \u001b[38;5;28;01mif\u001b[39;00m padtype \u001b[38;5;129;01mis\u001b[39;00m \u001b[38;5;129;01mnot\u001b[39;00m \u001b[38;5;28;01mNone\u001b[39;00m \u001b[38;5;129;01mand\u001b[39;00m edge \u001b[38;5;241m>\u001b[39m \u001b[38;5;241m0\u001b[39m:\n\u001b[0;32m   4213\u001b[0m     \u001b[38;5;66;03m# Make an extension of length `edge` at each\u001b[39;00m\n\u001b[0;32m   4214\u001b[0m     \u001b[38;5;66;03m# end of the input array.\u001b[39;00m\n\u001b[0;32m   4215\u001b[0m     \u001b[38;5;28;01mif\u001b[39;00m padtype \u001b[38;5;241m==\u001b[39m \u001b[38;5;124m'\u001b[39m\u001b[38;5;124meven\u001b[39m\u001b[38;5;124m'\u001b[39m:\n",
      "\u001b[1;31mValueError\u001b[0m: The length of the input vector x must be greater than padlen, which is 27."
     ]
    },
    {
     "ename": "ValueError",
     "evalue": "The length of the input vector x must be greater than padlen, which is 27.",
     "output_type": "error",
     "traceback": [
      "\u001b[1;31m---------------------------------------------------------------------------\u001b[0m",
      "\u001b[1;31mValueError\u001b[0m                                Traceback (most recent call last)",
      "File \u001b[1;32mc:\\Users\\Manip2\\.conda\\envs\\minian\\Lib\\site-packages\\ephyviewer\\timefreqviewer.py:194\u001b[0m, in \u001b[0;36mTimeFreqWorker.on_request_data\u001b[1;34m(self, chan, t, t_start, t_stop, visible_channels, worker_params)\u001b[0m\n\u001b[0;32m    191\u001b[0m sig \u001b[38;5;241m=\u001b[39m sigs_chunk[:, chan]\n\u001b[0;32m    193\u001b[0m \u001b[38;5;28;01mif\u001b[39;00m ds_ratio\u001b[38;5;241m>\u001b[39m\u001b[38;5;241m1\u001b[39m:\n\u001b[1;32m--> 194\u001b[0m     small_sig \u001b[38;5;241m=\u001b[39m \u001b[43mscipy\u001b[49m\u001b[38;5;241;43m.\u001b[39;49m\u001b[43msignal\u001b[49m\u001b[38;5;241;43m.\u001b[39;49m\u001b[43msosfiltfilt\u001b[49m\u001b[43m(\u001b[49m\u001b[43mfilter_sos\u001b[49m\u001b[43m,\u001b[49m\u001b[43m \u001b[49m\u001b[43msig\u001b[49m\u001b[43m)\u001b[49m\n\u001b[0;32m    195\u001b[0m     small_sig \u001b[38;5;241m=\u001b[39msmall_sig[::ds_ratio]\u001b[38;5;241m.\u001b[39mcopy()  \u001b[38;5;66;03m# to ensure continuity\u001b[39;00m\n\u001b[0;32m    196\u001b[0m \u001b[38;5;28;01melse\u001b[39;00m:\n",
      "File \u001b[1;32mc:\\Users\\Manip2\\.conda\\envs\\minian\\Lib\\site-packages\\scipy\\signal\\_signaltools.py:4440\u001b[0m, in \u001b[0;36msosfiltfilt\u001b[1;34m(sos, x, axis, padtype, padlen)\u001b[0m\n\u001b[0;32m   4438\u001b[0m ntaps \u001b[38;5;241m=\u001b[39m \u001b[38;5;241m2\u001b[39m \u001b[38;5;241m*\u001b[39m n_sections \u001b[38;5;241m+\u001b[39m \u001b[38;5;241m1\u001b[39m\n\u001b[0;32m   4439\u001b[0m ntaps \u001b[38;5;241m-\u001b[39m\u001b[38;5;241m=\u001b[39m \u001b[38;5;28mmin\u001b[39m((sos[:, \u001b[38;5;241m2\u001b[39m] \u001b[38;5;241m==\u001b[39m \u001b[38;5;241m0\u001b[39m)\u001b[38;5;241m.\u001b[39msum(), (sos[:, \u001b[38;5;241m5\u001b[39m] \u001b[38;5;241m==\u001b[39m \u001b[38;5;241m0\u001b[39m)\u001b[38;5;241m.\u001b[39msum())\n\u001b[1;32m-> 4440\u001b[0m edge, ext \u001b[38;5;241m=\u001b[39m \u001b[43m_validate_pad\u001b[49m\u001b[43m(\u001b[49m\u001b[43mpadtype\u001b[49m\u001b[43m,\u001b[49m\u001b[43m \u001b[49m\u001b[43mpadlen\u001b[49m\u001b[43m,\u001b[49m\u001b[43m \u001b[49m\u001b[43mx\u001b[49m\u001b[43m,\u001b[49m\u001b[43m \u001b[49m\u001b[43maxis\u001b[49m\u001b[43m,\u001b[49m\n\u001b[0;32m   4441\u001b[0m \u001b[43m                          \u001b[49m\u001b[43mntaps\u001b[49m\u001b[38;5;241;43m=\u001b[39;49m\u001b[43mntaps\u001b[49m\u001b[43m)\u001b[49m\n\u001b[0;32m   4443\u001b[0m \u001b[38;5;66;03m# These steps follow the same form as filtfilt with modifications\u001b[39;00m\n\u001b[0;32m   4444\u001b[0m zi \u001b[38;5;241m=\u001b[39m sosfilt_zi(sos)  \u001b[38;5;66;03m# shape (n_sections, 2) --> (n_sections, ..., 2, ...)\u001b[39;00m\n",
      "File \u001b[1;32mc:\\Users\\Manip2\\.conda\\envs\\minian\\Lib\\site-packages\\scipy\\signal\\_signaltools.py:4209\u001b[0m, in \u001b[0;36m_validate_pad\u001b[1;34m(padtype, padlen, x, axis, ntaps)\u001b[0m\n\u001b[0;32m   4207\u001b[0m \u001b[38;5;66;03m# x's 'axis' dimension must be bigger than edge.\u001b[39;00m\n\u001b[0;32m   4208\u001b[0m \u001b[38;5;28;01mif\u001b[39;00m x\u001b[38;5;241m.\u001b[39mshape[axis] \u001b[38;5;241m<\u001b[39m\u001b[38;5;241m=\u001b[39m edge:\n\u001b[1;32m-> 4209\u001b[0m     \u001b[38;5;28;01mraise\u001b[39;00m \u001b[38;5;167;01mValueError\u001b[39;00m(\u001b[38;5;124m\"\u001b[39m\u001b[38;5;124mThe length of the input vector x must be greater \u001b[39m\u001b[38;5;124m\"\u001b[39m\n\u001b[0;32m   4210\u001b[0m                      \u001b[38;5;124m\"\u001b[39m\u001b[38;5;124mthan padlen, which is \u001b[39m\u001b[38;5;132;01m%d\u001b[39;00m\u001b[38;5;124m.\u001b[39m\u001b[38;5;124m\"\u001b[39m \u001b[38;5;241m%\u001b[39m edge)\n\u001b[0;32m   4212\u001b[0m \u001b[38;5;28;01mif\u001b[39;00m padtype \u001b[38;5;129;01mis\u001b[39;00m \u001b[38;5;129;01mnot\u001b[39;00m \u001b[38;5;28;01mNone\u001b[39;00m \u001b[38;5;129;01mand\u001b[39;00m edge \u001b[38;5;241m>\u001b[39m \u001b[38;5;241m0\u001b[39m:\n\u001b[0;32m   4213\u001b[0m     \u001b[38;5;66;03m# Make an extension of length `edge` at each\u001b[39;00m\n\u001b[0;32m   4214\u001b[0m     \u001b[38;5;66;03m# end of the input array.\u001b[39;00m\n\u001b[0;32m   4215\u001b[0m     \u001b[38;5;28;01mif\u001b[39;00m padtype \u001b[38;5;241m==\u001b[39m \u001b[38;5;124m'\u001b[39m\u001b[38;5;124meven\u001b[39m\u001b[38;5;124m'\u001b[39m:\n",
      "\u001b[1;31mValueError\u001b[0m: The length of the input vector x must be greater than padlen, which is 27."
     ]
    },
    {
     "ename": "ValueError",
     "evalue": "The length of the input vector x must be greater than padlen, which is 27.",
     "output_type": "error",
     "traceback": [
      "\u001b[1;31m---------------------------------------------------------------------------\u001b[0m",
      "\u001b[1;31mValueError\u001b[0m                                Traceback (most recent call last)",
      "File \u001b[1;32mc:\\Users\\Manip2\\.conda\\envs\\minian\\Lib\\site-packages\\ephyviewer\\timefreqviewer.py:194\u001b[0m, in \u001b[0;36mTimeFreqWorker.on_request_data\u001b[1;34m(self, chan, t, t_start, t_stop, visible_channels, worker_params)\u001b[0m\n\u001b[0;32m    191\u001b[0m sig \u001b[38;5;241m=\u001b[39m sigs_chunk[:, chan]\n\u001b[0;32m    193\u001b[0m \u001b[38;5;28;01mif\u001b[39;00m ds_ratio\u001b[38;5;241m>\u001b[39m\u001b[38;5;241m1\u001b[39m:\n\u001b[1;32m--> 194\u001b[0m     small_sig \u001b[38;5;241m=\u001b[39m \u001b[43mscipy\u001b[49m\u001b[38;5;241;43m.\u001b[39;49m\u001b[43msignal\u001b[49m\u001b[38;5;241;43m.\u001b[39;49m\u001b[43msosfiltfilt\u001b[49m\u001b[43m(\u001b[49m\u001b[43mfilter_sos\u001b[49m\u001b[43m,\u001b[49m\u001b[43m \u001b[49m\u001b[43msig\u001b[49m\u001b[43m)\u001b[49m\n\u001b[0;32m    195\u001b[0m     small_sig \u001b[38;5;241m=\u001b[39msmall_sig[::ds_ratio]\u001b[38;5;241m.\u001b[39mcopy()  \u001b[38;5;66;03m# to ensure continuity\u001b[39;00m\n\u001b[0;32m    196\u001b[0m \u001b[38;5;28;01melse\u001b[39;00m:\n",
      "File \u001b[1;32mc:\\Users\\Manip2\\.conda\\envs\\minian\\Lib\\site-packages\\scipy\\signal\\_signaltools.py:4440\u001b[0m, in \u001b[0;36msosfiltfilt\u001b[1;34m(sos, x, axis, padtype, padlen)\u001b[0m\n\u001b[0;32m   4438\u001b[0m ntaps \u001b[38;5;241m=\u001b[39m \u001b[38;5;241m2\u001b[39m \u001b[38;5;241m*\u001b[39m n_sections \u001b[38;5;241m+\u001b[39m \u001b[38;5;241m1\u001b[39m\n\u001b[0;32m   4439\u001b[0m ntaps \u001b[38;5;241m-\u001b[39m\u001b[38;5;241m=\u001b[39m \u001b[38;5;28mmin\u001b[39m((sos[:, \u001b[38;5;241m2\u001b[39m] \u001b[38;5;241m==\u001b[39m \u001b[38;5;241m0\u001b[39m)\u001b[38;5;241m.\u001b[39msum(), (sos[:, \u001b[38;5;241m5\u001b[39m] \u001b[38;5;241m==\u001b[39m \u001b[38;5;241m0\u001b[39m)\u001b[38;5;241m.\u001b[39msum())\n\u001b[1;32m-> 4440\u001b[0m edge, ext \u001b[38;5;241m=\u001b[39m \u001b[43m_validate_pad\u001b[49m\u001b[43m(\u001b[49m\u001b[43mpadtype\u001b[49m\u001b[43m,\u001b[49m\u001b[43m \u001b[49m\u001b[43mpadlen\u001b[49m\u001b[43m,\u001b[49m\u001b[43m \u001b[49m\u001b[43mx\u001b[49m\u001b[43m,\u001b[49m\u001b[43m \u001b[49m\u001b[43maxis\u001b[49m\u001b[43m,\u001b[49m\n\u001b[0;32m   4441\u001b[0m \u001b[43m                          \u001b[49m\u001b[43mntaps\u001b[49m\u001b[38;5;241;43m=\u001b[39;49m\u001b[43mntaps\u001b[49m\u001b[43m)\u001b[49m\n\u001b[0;32m   4443\u001b[0m \u001b[38;5;66;03m# These steps follow the same form as filtfilt with modifications\u001b[39;00m\n\u001b[0;32m   4444\u001b[0m zi \u001b[38;5;241m=\u001b[39m sosfilt_zi(sos)  \u001b[38;5;66;03m# shape (n_sections, 2) --> (n_sections, ..., 2, ...)\u001b[39;00m\n",
      "File \u001b[1;32mc:\\Users\\Manip2\\.conda\\envs\\minian\\Lib\\site-packages\\scipy\\signal\\_signaltools.py:4209\u001b[0m, in \u001b[0;36m_validate_pad\u001b[1;34m(padtype, padlen, x, axis, ntaps)\u001b[0m\n\u001b[0;32m   4207\u001b[0m \u001b[38;5;66;03m# x's 'axis' dimension must be bigger than edge.\u001b[39;00m\n\u001b[0;32m   4208\u001b[0m \u001b[38;5;28;01mif\u001b[39;00m x\u001b[38;5;241m.\u001b[39mshape[axis] \u001b[38;5;241m<\u001b[39m\u001b[38;5;241m=\u001b[39m edge:\n\u001b[1;32m-> 4209\u001b[0m     \u001b[38;5;28;01mraise\u001b[39;00m \u001b[38;5;167;01mValueError\u001b[39;00m(\u001b[38;5;124m\"\u001b[39m\u001b[38;5;124mThe length of the input vector x must be greater \u001b[39m\u001b[38;5;124m\"\u001b[39m\n\u001b[0;32m   4210\u001b[0m                      \u001b[38;5;124m\"\u001b[39m\u001b[38;5;124mthan padlen, which is \u001b[39m\u001b[38;5;132;01m%d\u001b[39;00m\u001b[38;5;124m.\u001b[39m\u001b[38;5;124m\"\u001b[39m \u001b[38;5;241m%\u001b[39m edge)\n\u001b[0;32m   4212\u001b[0m \u001b[38;5;28;01mif\u001b[39;00m padtype \u001b[38;5;129;01mis\u001b[39;00m \u001b[38;5;129;01mnot\u001b[39;00m \u001b[38;5;28;01mNone\u001b[39;00m \u001b[38;5;129;01mand\u001b[39;00m edge \u001b[38;5;241m>\u001b[39m \u001b[38;5;241m0\u001b[39m:\n\u001b[0;32m   4213\u001b[0m     \u001b[38;5;66;03m# Make an extension of length `edge` at each\u001b[39;00m\n\u001b[0;32m   4214\u001b[0m     \u001b[38;5;66;03m# end of the input array.\u001b[39;00m\n\u001b[0;32m   4215\u001b[0m     \u001b[38;5;28;01mif\u001b[39;00m padtype \u001b[38;5;241m==\u001b[39m \u001b[38;5;124m'\u001b[39m\u001b[38;5;124meven\u001b[39m\u001b[38;5;124m'\u001b[39m:\n",
      "\u001b[1;31mValueError\u001b[0m: The length of the input vector x must be greater than padlen, which is 27."
     ]
    },
    {
     "ename": "ValueError",
     "evalue": "The length of the input vector x must be greater than padlen, which is 27.",
     "output_type": "error",
     "traceback": [
      "\u001b[1;31m---------------------------------------------------------------------------\u001b[0m",
      "\u001b[1;31mValueError\u001b[0m                                Traceback (most recent call last)",
      "File \u001b[1;32mc:\\Users\\Manip2\\.conda\\envs\\minian\\Lib\\site-packages\\ephyviewer\\timefreqviewer.py:194\u001b[0m, in \u001b[0;36mTimeFreqWorker.on_request_data\u001b[1;34m(self, chan, t, t_start, t_stop, visible_channels, worker_params)\u001b[0m\n\u001b[0;32m    191\u001b[0m sig \u001b[38;5;241m=\u001b[39m sigs_chunk[:, chan]\n\u001b[0;32m    193\u001b[0m \u001b[38;5;28;01mif\u001b[39;00m ds_ratio\u001b[38;5;241m>\u001b[39m\u001b[38;5;241m1\u001b[39m:\n\u001b[1;32m--> 194\u001b[0m     small_sig \u001b[38;5;241m=\u001b[39m \u001b[43mscipy\u001b[49m\u001b[38;5;241;43m.\u001b[39;49m\u001b[43msignal\u001b[49m\u001b[38;5;241;43m.\u001b[39;49m\u001b[43msosfiltfilt\u001b[49m\u001b[43m(\u001b[49m\u001b[43mfilter_sos\u001b[49m\u001b[43m,\u001b[49m\u001b[43m \u001b[49m\u001b[43msig\u001b[49m\u001b[43m)\u001b[49m\n\u001b[0;32m    195\u001b[0m     small_sig \u001b[38;5;241m=\u001b[39msmall_sig[::ds_ratio]\u001b[38;5;241m.\u001b[39mcopy()  \u001b[38;5;66;03m# to ensure continuity\u001b[39;00m\n\u001b[0;32m    196\u001b[0m \u001b[38;5;28;01melse\u001b[39;00m:\n",
      "File \u001b[1;32mc:\\Users\\Manip2\\.conda\\envs\\minian\\Lib\\site-packages\\scipy\\signal\\_signaltools.py:4440\u001b[0m, in \u001b[0;36msosfiltfilt\u001b[1;34m(sos, x, axis, padtype, padlen)\u001b[0m\n\u001b[0;32m   4438\u001b[0m ntaps \u001b[38;5;241m=\u001b[39m \u001b[38;5;241m2\u001b[39m \u001b[38;5;241m*\u001b[39m n_sections \u001b[38;5;241m+\u001b[39m \u001b[38;5;241m1\u001b[39m\n\u001b[0;32m   4439\u001b[0m ntaps \u001b[38;5;241m-\u001b[39m\u001b[38;5;241m=\u001b[39m \u001b[38;5;28mmin\u001b[39m((sos[:, \u001b[38;5;241m2\u001b[39m] \u001b[38;5;241m==\u001b[39m \u001b[38;5;241m0\u001b[39m)\u001b[38;5;241m.\u001b[39msum(), (sos[:, \u001b[38;5;241m5\u001b[39m] \u001b[38;5;241m==\u001b[39m \u001b[38;5;241m0\u001b[39m)\u001b[38;5;241m.\u001b[39msum())\n\u001b[1;32m-> 4440\u001b[0m edge, ext \u001b[38;5;241m=\u001b[39m \u001b[43m_validate_pad\u001b[49m\u001b[43m(\u001b[49m\u001b[43mpadtype\u001b[49m\u001b[43m,\u001b[49m\u001b[43m \u001b[49m\u001b[43mpadlen\u001b[49m\u001b[43m,\u001b[49m\u001b[43m \u001b[49m\u001b[43mx\u001b[49m\u001b[43m,\u001b[49m\u001b[43m \u001b[49m\u001b[43maxis\u001b[49m\u001b[43m,\u001b[49m\n\u001b[0;32m   4441\u001b[0m \u001b[43m                          \u001b[49m\u001b[43mntaps\u001b[49m\u001b[38;5;241;43m=\u001b[39;49m\u001b[43mntaps\u001b[49m\u001b[43m)\u001b[49m\n\u001b[0;32m   4443\u001b[0m \u001b[38;5;66;03m# These steps follow the same form as filtfilt with modifications\u001b[39;00m\n\u001b[0;32m   4444\u001b[0m zi \u001b[38;5;241m=\u001b[39m sosfilt_zi(sos)  \u001b[38;5;66;03m# shape (n_sections, 2) --> (n_sections, ..., 2, ...)\u001b[39;00m\n",
      "File \u001b[1;32mc:\\Users\\Manip2\\.conda\\envs\\minian\\Lib\\site-packages\\scipy\\signal\\_signaltools.py:4209\u001b[0m, in \u001b[0;36m_validate_pad\u001b[1;34m(padtype, padlen, x, axis, ntaps)\u001b[0m\n\u001b[0;32m   4207\u001b[0m \u001b[38;5;66;03m# x's 'axis' dimension must be bigger than edge.\u001b[39;00m\n\u001b[0;32m   4208\u001b[0m \u001b[38;5;28;01mif\u001b[39;00m x\u001b[38;5;241m.\u001b[39mshape[axis] \u001b[38;5;241m<\u001b[39m\u001b[38;5;241m=\u001b[39m edge:\n\u001b[1;32m-> 4209\u001b[0m     \u001b[38;5;28;01mraise\u001b[39;00m \u001b[38;5;167;01mValueError\u001b[39;00m(\u001b[38;5;124m\"\u001b[39m\u001b[38;5;124mThe length of the input vector x must be greater \u001b[39m\u001b[38;5;124m\"\u001b[39m\n\u001b[0;32m   4210\u001b[0m                      \u001b[38;5;124m\"\u001b[39m\u001b[38;5;124mthan padlen, which is \u001b[39m\u001b[38;5;132;01m%d\u001b[39;00m\u001b[38;5;124m.\u001b[39m\u001b[38;5;124m\"\u001b[39m \u001b[38;5;241m%\u001b[39m edge)\n\u001b[0;32m   4212\u001b[0m \u001b[38;5;28;01mif\u001b[39;00m padtype \u001b[38;5;129;01mis\u001b[39;00m \u001b[38;5;129;01mnot\u001b[39;00m \u001b[38;5;28;01mNone\u001b[39;00m \u001b[38;5;129;01mand\u001b[39;00m edge \u001b[38;5;241m>\u001b[39m \u001b[38;5;241m0\u001b[39m:\n\u001b[0;32m   4213\u001b[0m     \u001b[38;5;66;03m# Make an extension of length `edge` at each\u001b[39;00m\n\u001b[0;32m   4214\u001b[0m     \u001b[38;5;66;03m# end of the input array.\u001b[39;00m\n\u001b[0;32m   4215\u001b[0m     \u001b[38;5;28;01mif\u001b[39;00m padtype \u001b[38;5;241m==\u001b[39m \u001b[38;5;124m'\u001b[39m\u001b[38;5;124meven\u001b[39m\u001b[38;5;124m'\u001b[39m:\n",
      "\u001b[1;31mValueError\u001b[0m: The length of the input vector x must be greater than padlen, which is 27."
     ]
    },
    {
     "data": {
      "text/plain": [
       "0"
      ]
     },
     "execution_count": 12,
     "metadata": {},
     "output_type": "execute_result"
    }
   ],
   "source": [
    "app = mkQApp()\n",
    "labels = ['AW_1', 'QW_2', 'NREM_3', 'IS_4',  'REM_5', 'undefined_6'] # Active wake, Quiet wake, NREM sleep, Intermediate sleep, REM sleep, undefined states\n",
    "epoch_dur = 5 # define epoch duration in sec\n",
    "winlen = 10 # default window length in sec\n",
    "\n",
    "try: \n",
    "    scatter_indexes = {0: PFCspdl_start, 1: PFCspdl_end, 2: S1spdl_start, 3: S1spdl_end, 4: GBLspdl_start, 5: GBLspdl_end, 6: SWR_start, 7: SWR_end}\n",
    "    scatter_channels = {0: [2], 1: [2], 2: [1], 3: [1], 4: [1,2], 5: [1,2], 6: [3], 7: [3]}\n",
    "except: \n",
    "    scatter_indexes={}\n",
    "    scatter_channels={}\n",
    "\n",
    "#Create the main window that can contain several viewers\n",
    "win = MainViewer(debug=False, show_auto_scale=True)\n",
    "t_start=0.\n",
    "#create a viewer for signal\n",
    "source = AnalogSignalSourceWithScatter(combined, samplerate, t_start, scatter_indexes, scatter_channels, scatter_colors= {0: '#FFFFFF', 1: '#222222', 2: '#FFFFFF', 3: '#222222', 4: '#BBBBBB', 5: '#555555', 6: '#FFFFFF', 7: '#222222'}, channel_names=RecordedArea)\n",
    "view1 = TraceViewer(source=source)\n",
    "\n",
    "view1.params['xsize']= winlen\n",
    "view1.params['display_labels'] = True\n",
    "view1.params['scale_mode'] = 'same_for_all'\n",
    "colormap = np.insert(['#88FF88', '#8888FF', '#FF8888']* 10, 0, '#FFFFFF')\n",
    "for idx, ch in enumerate(RecordedArea): \n",
    "    view1.by_channel_params[f'ch{idx}', 'color'] = colormap[idx] #FF0000 red, #00FF00 green, and #0000FF blue\n",
    "view1.auto_scale()\n",
    "\n",
    "\n",
    "# FFT\n",
    "view2 = TimeFreqViewer(source=source, name='FFT')\n",
    "\n",
    "view2.params['show_axis'] = True\n",
    "view2.params['timefreq', 'f_start'] = 10\n",
    "view2.params['timefreq', 'f_stop'] = 18\n",
    "view2.params['timefreq', 'deltafreq'] = 1 #interval in Hz\n",
    "view2.params['xsize'] = winlen\n",
    "for idx, ch in enumerate(RecordedArea):\n",
    "    if ch == 'EMG': \n",
    "        view2.by_channel_params[f'ch{idx}', 'visible'] = False\n",
    "    else:        \n",
    "        view2.by_channel_params[f'ch{idx}', 'clim'] = 1\n",
    "        view2.by_channel_params[f'ch{idx}', 'visible'] = True\n",
    "\n",
    "\n",
    "# Scoring \n",
    "SleepScoring_filename = f'{dpath}/Sleep_Scoring_{len(labels)}Stages_{epoch_dur}sEpoch.csv'\n",
    "source_epoch = CsvEpochSource(SleepScoring_filename, labels)\n",
    "view3 = EpochEncoder(source=source_epoch, name='Sleep Scoring')\n",
    "\n",
    "view3.params['xsize'] = winlen\n",
    "view3.params['new_epoch_step'] = epoch_dur\n",
    "view3.by_label_params['label0', 'color'] = '#ffcd69' #AW\n",
    "view3.by_label_params['label1', 'color'] = '#69ffe6' #QW\n",
    "view3.by_label_params['label2', 'color'] = '#69cfff' #NREM\n",
    "view3.by_label_params['label3', 'color'] = '#cd69ff' #IS\n",
    "view3.by_label_params['label4', 'color'] = '#ff69cd' #REM\n",
    "view3.by_label_params['label5', 'color'] = '#8f8f8f' #undefined\n",
    "view3.controls.hide()\n",
    "\n",
    "#Run\n",
    "win.add_view(view1)\n",
    "win.add_view(view2)\n",
    "win.add_view(view3)\n",
    "win.navigation_toolbar.spinbox_xsize.setValue(winlen)\n",
    "win.show()\n",
    "\n",
    "app.exec()\n"
   ]
  }
 ],
 "metadata": {
  "kernelspec": {
   "display_name": "minian",
   "language": "python",
   "name": "python3"
  },
  "language_info": {
   "codemirror_mode": {
    "name": "ipython",
    "version": 3
   },
   "file_extension": ".py",
   "mimetype": "text/x-python",
   "name": "python",
   "nbconvert_exporter": "python",
   "pygments_lexer": "ipython3",
   "version": "3.11.7"
  },
  "orig_nbformat": 4
 },
 "nbformat": 4,
 "nbformat_minor": 2
}
