{
 "cells": [
  {
   "cell_type": "code",
   "execution_count": null,
   "metadata": {},
   "outputs": [],
   "source": [
    "import numpy as np\n",
    "import pandas as pd\n",
    "import umap\n",
    "import matplotlib.pyplot as plt\n",
    "import seaborn as sns\n",
    "import pandas as pd\n",
    "import umap\n",
    "import hdbscan\n",
    "import matplotlib.pyplot as plt\n",
    "import seaborn as sns\n",
    "from sklearn.cluster import KMeans\n",
    "from sklearn.metrics import silhouette_score, davies_bouldin_score, calinski_harabasz_score"
   ]
  },
  {
   "cell_type": "code",
   "execution_count": null,
   "metadata": {},
   "outputs": [],
   "source": [
    "# Example: Simulate Data (replace with your own)\n",
    "data = pd.DataFrame(np.random.rand(200, 5), columns=['AW', 'QW', 'NREM', 'IS', 'REM'])"
   ]
  },
  {
   "cell_type": "code",
   "execution_count": null,
   "metadata": {},
   "outputs": [],
   "source": [
    "# Perform UMAP\n",
    "reducer = umap.UMAP(n_neighbors=15, min_dist=0.1, n_components=2, random_state=None) \n",
    "#n_neighbors=15: range 2 to 100. Controls the balance between local and global structure \n",
    "#n_components=2 : range 2 to 100.Reduces the data to 2D for visualization \n",
    "#min_dist=0.1: Controls the spread of points. Smaller values emphasize local structure\n",
    "\n",
    "embedding = reducer.fit_transform(data)\n",
    "\n",
    "# Convert to DataFrame for plotting\n",
    "embedding_df = pd.DataFrame(embedding, columns=['UMAP1', 'UMAP2'])\n",
    "\n",
    "# Plotting the results\n",
    "plt.figure(figsize=(4, 4))\n",
    "sns.scatterplot(x='UMAP1', y='UMAP2', data=embedding_df, s=50, edgecolor='k')\n",
    "plt.title('UMAP Projection of Cell Activity Data')\n",
    "plt.xlabel('UMAP1')\n",
    "plt.ylabel('UMAP2')\n",
    "plt.show()"
   ]
  },
  {
   "cell_type": "markdown",
   "metadata": {},
   "source": [
    "### HDBSCAN Clustering"
   ]
  },
  {
   "cell_type": "code",
   "execution_count": null,
   "metadata": {},
   "outputs": [],
   "source": [
    "# Perform UMAP\n",
    "reducer = umap.UMAP(n_neighbors=15, min_dist=0.1, n_components=2, random_state=None)\n",
    "embedding = reducer.fit_transform(data)\n",
    "\n",
    "# Perform Clustering with HDBSCAN\n",
    "clusterer = hdbscan.HDBSCAN(min_cluster_size=10, gen_min_span_tree=True)\n",
    "labels = clusterer.fit_predict(embedding)\n",
    "\n",
    "# Convert to DataFrame for plotting\n",
    "embedding_df = pd.DataFrame(embedding, columns=['UMAP1', 'UMAP2'])\n",
    "embedding_df['Cluster'] = labels\n",
    "\n",
    "# Plot Results\n",
    "plt.figure(figsize=(4, 4))\n",
    "sns.scatterplot(x='UMAP1', y='UMAP2', hue='Cluster', palette='tab20', data=embedding_df, s=50, edgecolor='k')\n",
    "plt.title('UMAP Projection with HDBSCAN Clustering')\n",
    "plt.legend(title='Cluster')\n",
    "plt.show()"
   ]
  },
  {
   "cell_type": "markdown",
   "metadata": {},
   "source": [
    "Evaluate clustering"
   ]
  },
  {
   "cell_type": "code",
   "execution_count": null,
   "metadata": {},
   "outputs": [],
   "source": [
    "if len(set(labels)) > 1 and -1 not in set(labels):\n",
    "    score = silhouette_score(embedding, labels)\n",
    "    print(f\"Silhouette Score: {score:.2f}.  Notes: 1 → Well-clustered. 0 → Overlapping clusters. -1 → Misclassified samples.\")\n",
    "else:\n",
    "    print(\"Silhouette Score cannot be calculated. Check for multiple clusters.\")\n",
    "    \n",
    "\n",
    "\n",
    "if len(set(labels)) > 1 and -1 not in set(labels):\n",
    "    db_score = davies_bouldin_score(embedding, labels)\n",
    "    print(f\"Davies-Bouldin Index: {db_score:.2f}.   Notes: Lower values indicate better clustering.\")\n",
    "else:\n",
    "    print(\"Davies-Bouldin Index cannot be calculated. Check for multiple clusters.\")\n",
    "\n",
    "\n",
    "if len(set(labels)) > 1 and -1 not in set(labels):\n",
    "    ch_score = calinski_harabasz_score(embedding, labels)\n",
    "    print(f\"Calinski-Harabasz Index: {ch_score:.2f}.    Notes: Higher values indicate better clustering.\")\n",
    "else:\n",
    "    print(\"Calinski-Harabasz Index cannot be calculated. Check for multiple clusters.\")"
   ]
  },
  {
   "cell_type": "code",
   "execution_count": null,
   "metadata": {},
   "outputs": [],
   "source": [
    "data['ClusterHDBSCAN'] = labels"
   ]
  },
  {
   "cell_type": "markdown",
   "metadata": {},
   "source": [
    "### K-means clustering"
   ]
  },
  {
   "cell_type": "code",
   "execution_count": null,
   "metadata": {},
   "outputs": [],
   "source": [
    "# Perform UMAP\n",
    "reducer = umap.UMAP(n_neighbors=15, min_dist=0.1, n_components=2, random_state=None)\n",
    "embedding = reducer.fit_transform(data)\n",
    "\n",
    "# Perform Clustering with K-Means\n",
    "kmeans = KMeans(n_clusters=5, random_state=None)\n",
    "labels = kmeans.fit_predict(embedding)\n",
    "\n",
    "# Visualize Clusters\n",
    "embedding_df = pd.DataFrame(embedding, columns=['UMAP1', 'UMAP2'])\n",
    "embedding_df['Cluster'] = labels\n",
    "\n",
    "plt.figure(figsize=(4, 4))\n",
    "sns.scatterplot(x='UMAP1', y='UMAP2', hue='Cluster', palette='tab10', data=embedding_df, s=50, edgecolor='k')\n",
    "plt.title('UMAP Projection with K-Means Clustering')\n",
    "plt.legend(title='Cluster')\n",
    "plt.show()"
   ]
  },
  {
   "cell_type": "markdown",
   "metadata": {},
   "source": [
    "Evaluate clustering"
   ]
  },
  {
   "cell_type": "code",
   "execution_count": null,
   "metadata": {},
   "outputs": [],
   "source": [
    "if len(set(labels)) > 1 and -1 not in set(labels):\n",
    "    score = silhouette_score(embedding, labels)\n",
    "    print(f\"Silhouette Score: {score:.2f}.  Notes: 1 → Well-clustered. 0 → Overlapping clusters. -1 → Misclassified samples.\")\n",
    "else:\n",
    "    print(\"Silhouette Score cannot be calculated. Check for multiple clusters.\")\n",
    "    \n",
    "    \n",
    "if len(set(labels)) > 1 and -1 not in set(labels):\n",
    "    db_score = davies_bouldin_score(embedding, labels)\n",
    "    print(f\"Davies-Bouldin Index: {db_score:.2f}.   Notes: Lower values indicate better clustering.\")\n",
    "else:\n",
    "    print(\"Davies-Bouldin Index cannot be calculated. Check for multiple clusters.\")\n",
    "\n",
    "\n",
    "if len(set(labels)) > 1 and -1 not in set(labels):\n",
    "    ch_score = calinski_harabasz_score(embedding, labels)\n",
    "    print(f\"Calinski-Harabasz Index: {ch_score:.2f}.    Notes: Higher values indicate better clustering.\")\n",
    "else:\n",
    "    print(\"Calinski-Harabasz Index cannot be calculated. Check for multiple clusters.\")"
   ]
  },
  {
   "cell_type": "code",
   "execution_count": null,
   "metadata": {},
   "outputs": [],
   "source": [
    "data['ClusterKmeans'] = labels\n",
    "print(data.head())"
   ]
  },
  {
   "cell_type": "markdown",
   "metadata": {},
   "source": [
    "### Spectral clustering in 3D"
   ]
  },
  {
   "cell_type": "code",
   "execution_count": null,
   "metadata": {},
   "outputs": [],
   "source": [
    "import numpy as np\n",
    "import pandas as pd\n",
    "import matplotlib.pyplot as plt\n",
    "from mpl_toolkits.mplot3d import Axes3D\n",
    "from sklearn.preprocessing import StandardScaler\n",
    "from sklearn.cluster import SpectralClustering\n",
    "\n",
    "\n",
    "# Standardize features\n",
    "scaler = StandardScaler()\n",
    "X_scaled = scaler.fit_transform(data)\n",
    "\n",
    "# Apply Spectral Clustering\n",
    "n_clusters = 5\n",
    "spectral = SpectralClustering(n_clusters=n_clusters, affinity='nearest_neighbors', random_state=None)\n",
    "\n",
    "# Plot the clustered data in 3D\n",
    "fig = plt.figure(figsize=(4, 4))\n",
    "ax = fig.add_subplot(111, projection='3d')\n",
    "\n",
    "# Plot data points\n",
    "scatter = ax.scatter(data['AW'], data['NREM'], data['REM'],\n",
    "                     c=data['Cluster'], s=20, cmap='plasma', alpha=0.6, edgecolor='k')\n",
    "\n",
    "# Plot cluster centers (approximation)\n",
    "centers = np.array([data[data['Cluster'] == i][['AW', 'QW', 'NREM', 'REM', 'IS']].mean().values for i in range(n_clusters)])\n",
    "ax.scatter(centers[:, 0], centers[:, 1], centers[:, 2], \n",
    "           c='red', s=100, alpha=0.9, marker='x', label='Centroids')\n",
    "\n",
    "# Add labels and title\n",
    "ax.set_xlabel('Wake')\n",
    "ax.set_ylabel('NREM')\n",
    "ax.set_zlabel('REM')\n",
    "ax.set_title('Spectral Clustering in 3D')\n",
    "ax.legend()\n",
    "plt.tight_layout()\n",
    "\n",
    "ax.view_init(30, 10)\n",
    "ax.set_xlim(0, 1)  # Example limits for x-axis\n",
    "ax.set_ylim(0, 1)  # Example limits for y-axis\n",
    "ax.set_zlim(0, 1)  # Example limits for z-axis\n",
    "\n",
    "# Show the plot\n",
    "plt.show()"
   ]
  },
  {
   "cell_type": "code",
   "execution_count": null,
   "metadata": {},
   "outputs": [],
   "source": [
    "labels = spectral.fit_predict(data)\n",
    "silhouette_avg = silhouette_score(data[['Wake', 'NREM', 'REM']], labels)\n",
    "print(f'Silhouette Score: {silhouette_avg:.2f}') #scores range from -1 to +1, with higher values indicating better-defined clusters."
   ]
  },
  {
   "cell_type": "code",
   "execution_count": null,
   "metadata": {},
   "outputs": [],
   "source": [
    "data['SpectralCluster'] = spectral.fit_predict(X_scaled)"
   ]
  }
 ],
 "metadata": {
  "kernelspec": {
   "display_name": "minian",
   "language": "python",
   "name": "python3"
  },
  "language_info": {
   "codemirror_mode": {
    "name": "ipython",
    "version": 3
   },
   "file_extension": ".py",
   "mimetype": "text/x-python",
   "name": "python",
   "nbconvert_exporter": "python",
   "pygments_lexer": "ipython3",
   "version": "3.11.7"
  }
 },
 "nbformat": 4,
 "nbformat_minor": 2
}
