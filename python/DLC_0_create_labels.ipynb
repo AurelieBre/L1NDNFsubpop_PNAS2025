{
 "cells": [
  {
   "cell_type": "code",
   "execution_count": null,
   "metadata": {},
   "outputs": [],
   "source": [
    "##### LOCAL or INTERACTIVE NODES #####\n",
    "import deeplabcut\n",
    "\n",
    "deeplabcut.create_new_project(\n",
    "    \"TestProject\",\n",
    "    \"Testeur\",\n",
    "    [\"C:/Users/Manip2/Desktop/0_compressed.avi\"],\n",
    "    working_directory=\"C:/Users/Manip2/Desktop/\",\n",
    "    copy_videos=False,\n",
    "    multianimal=False\n",
    ")"
   ]
  },
  {
   "cell_type": "code",
   "execution_count": null,
   "metadata": {},
   "outputs": [],
   "source": [
    "deeplabcut.add_new_videos(\n",
    "    \"Full path of the project configuration file*\",\n",
    "    [\"full path of video 4\", \"full path of video 5\"],\n",
    "    copy_videos=False\n",
    ")"
   ]
  },
  {
   "cell_type": "code",
   "execution_count": null,
   "metadata": {},
   "outputs": [],
   "source": [
    "deeplabcut.extract_frames(\n",
    "    config_path,\n",
    "    mode=\"automatic/manual\",\n",
    "    algo=\"uniform/kmeans\",\n",
    "    crop=False,\n",
    "    userfeedback=False\n",
    ")"
   ]
  },
  {
   "cell_type": "code",
   "execution_count": null,
   "metadata": {},
   "outputs": [],
   "source": [
    "deeplabcut.extract_frames(config_path, \"manual\")"
   ]
  },
  {
   "cell_type": "code",
   "execution_count": null,
   "metadata": {},
   "outputs": [],
   "source": [
    "deeplabcut.label_frames(config_path)"
   ]
  },
  {
   "cell_type": "code",
   "execution_count": null,
   "metadata": {},
   "outputs": [],
   "source": [
    "deeplabcut.check_labels(config_path, visualizeindividuals=False)"
   ]
  }
 ],
 "metadata": {
  "kernelspec": {
   "display_name": "dlc_dml",
   "language": "python",
   "name": "python3"
  },
  "language_info": {
   "codemirror_mode": {
    "name": "ipython",
    "version": 3
   },
   "file_extension": ".py",
   "mimetype": "text/x-python",
   "name": "python",
   "nbconvert_exporter": "python",
   "pygments_lexer": "ipython3",
   "version": "3.7.16"
  }
 },
 "nbformat": 4,
 "nbformat_minor": 2
}
